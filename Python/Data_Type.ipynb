{
  "cells": [
    {
      "cell_type": "markdown",
      "metadata": {
        "id": "view-in-github",
        "colab_type": "text"
      },
      "source": [
        "<a href=\"https://colab.research.google.com/github/easydong02/Year-Dream/blob/main/Data_Type.ipynb\" target=\"_parent\"><img src=\"https://colab.research.google.com/assets/colab-badge.svg\" alt=\"Open In Colab\"/></a>"
      ]
    },
    {
      "cell_type": "markdown",
      "source": [
        "## Data Types"
      ],
      "metadata": {
        "id": "BXf2s1kTPPJH"
      }
    },
    {
      "cell_type": "markdown",
      "metadata": {
        "id": "c52Pi1pmO5bJ"
      },
      "source": [
        "### 이번 실습에서는 다음 내용들을 배웁니다.\n",
        "\n",
        "\n",
        "- 프로그래밍 언어에서는 변수(Variable)에서 데이터를 저장/관리 하며 변수에 대한 개념을 통해 데이터를 사용할 수 있다.\n",
        "> \"변수\" 라는 개념을 통해 데이터를 사용할 수 있다.\n",
        "\n",
        "\n",
        "- data type을 배울 중요한 포인트는 어떤 연산을 사용할 수 있는지와 **연산결과가 어떤 의미인지**를 알아야한다.\n",
        "> \"Hello\" + \"World\" = ?"
      ]
    },
    {
      "cell_type": "markdown",
      "metadata": {
        "id": "od8Gim27O5bJ"
      },
      "source": [
        "### 변수(Variable)이란?"
      ]
    },
    {
      "cell_type": "markdown",
      "metadata": {
        "id": "MzQoEa7mO5bK"
      },
      "source": [
        "- 변수는 메모리에 데이터를 저장하기 위한 공간을 가리키는 말이며, 컴퓨터와 프로그래밍 언어 사용자간의 약속이다.\n",
        "> a : 컴퓨터와 사용자가 인식하는 특정 데이터를 저장하고 있는 공간이고, 공간의 이름을 a라고 한다.\n",
        "\n",
        "- 변수는 일종의 닉네임으로, 실제 물리적인 메모리 주소공간을 가리킨다.\n",
        "> 사용자는 변수의 이름으로 데이터를 인식하고, 컴퓨터는 변수의 주소로 데이터를 인식합니다.\n",
        "\n",
        "- 변수에 데이터를 저장할 때는 <kbd>=</kbd>를 사용한다. 이 때 <kbd>=</kbd>를 assignment operator라고 부른다.\n",
        "> a = 10 (a라는 공간에, 10이라는 데이터를 할당해주세요.)\n",
        "\n",
        "\n",
        "\n",
        "\n",
        "<b>(OPTIONAL)</b> a = 10을 예로 들었을 때, =을 기준으로 왼쪽을 lvalue라고 하며 실제 메모리 주소를 의미하고, =을 기준으로 오른쪽을 rvalue고 하며 실제 데이터(또는 값)을 의미한다."
      ]
    },
    {
      "cell_type": "code",
      "execution_count": 1,
      "metadata": {
        "id": "F0s-6hEpO5bK"
      },
      "outputs": [],
      "source": [
        "# 변수 a에 10이라는 정수 데이터를 할당(assign)한다.\n",
        "A = 10"
      ]
    },
    {
      "cell_type": "code",
      "execution_count": 3,
      "metadata": {
        "id": "FQdBqboBO5bL",
        "colab": {
          "base_uri": "https://localhost:8080/"
        },
        "outputId": "156d5746-b2ef-4466-b339-68560ff4b34e"
      },
      "outputs": [
        {
          "output_type": "execute_result",
          "data": {
            "text/plain": [
              "93946792143648"
            ]
          },
          "metadata": {},
          "execution_count": 3
        }
      ],
      "source": [
        "# a라는 변수가 실제 메모리에서 저장되어 있는 위치.(메모리 주소)\n",
        "id(A)"
      ]
    },
    {
      "cell_type": "markdown",
      "metadata": {
        "id": "ucQuGoe7O5bL"
      },
      "source": [
        "### Q. 왜 data type은 여러가지 일까?\n",
        "\n",
        "- 다음 질문에 대해 생각해보자.\n",
        "\n",
        "\n",
        "> Q1. 컴퓨터는 정수와 실수를 어떻게 인식할까? (어떻게 구분할까)\n",
        "\n",
        "> Q2. 100개의 숫자를 한꺼번에 다루고 싶을 때 어떻게 해야할까?\n",
        "\n",
        "> Q3. 컴퓨터는 문자를 어떻게 인식할까?\n",
        "\n",
        "> Q4. 많은 데이터를 빠르게 찾아야 할때는 어떻게 저장할까?"
      ]
    },
    {
      "cell_type": "markdown",
      "metadata": {
        "id": "9j0fNF05O5bM"
      },
      "source": [
        "* 위 질문에 대한 대답을 data type을 배우면서 생각해봅시다."
      ]
    },
    {
      "cell_type": "markdown",
      "metadata": {
        "id": "kUVG00ytO5bM"
      },
      "source": [
        "### 1. 숫자 데이터 (Numeric Data Types)"
      ]
    },
    {
      "cell_type": "markdown",
      "metadata": {
        "id": "hKiQfQ6vO5bM"
      },
      "source": [
        "* 숫자형 데이터란, 정수/실수/복소수/2진수/8진수/16진수를 포함하며 가장 많이 사용하는 데이터 타입중에 하나다.\n",
        "\n",
        "\n",
        "* 파이썬은 숫자의 표현 범위가 무한대이다.\n",
        "\n",
        "\n",
        "* 숫자 데이터는 우리가 알고 있는 대부분의 연산을 그대로 지원한다. 사칙연산, 나머지 구하기, 몫 구하기, 거듭제곱 등"
      ]
    },
    {
      "cell_type": "markdown",
      "metadata": {
        "id": "Ue1a7W_oO5bM"
      },
      "source": [
        "### 정수형 (Integer) "
      ]
    },
    {
      "cell_type": "code",
      "execution_count": 4,
      "metadata": {
        "id": "TghsqPsoO5bN",
        "colab": {
          "base_uri": "https://localhost:8080/"
        },
        "outputId": "b51299d0-6bf1-499e-cad3-02671cdf48b2"
      },
      "outputs": [
        {
          "output_type": "execute_result",
          "data": {
            "text/plain": [
              "2"
            ]
          },
          "metadata": {},
          "execution_count": 4
        }
      ],
      "source": [
        "1+1"
      ]
    },
    {
      "cell_type": "code",
      "execution_count": 5,
      "metadata": {
        "id": "Sf7fiNFdO5bN",
        "colab": {
          "base_uri": "https://localhost:8080/"
        },
        "outputId": "271a67e7-cc71-4481-9790-63f33699fabf"
      },
      "outputs": [
        {
          "output_type": "execute_result",
          "data": {
            "text/plain": [
              "15"
            ]
          },
          "metadata": {},
          "execution_count": 5
        }
      ],
      "source": [
        "# a에 10, b에 5를 할당하고, a와 b를 더한 결과를 출력합니다.\n",
        "a= 10\n",
        "b =5\n",
        "a+b"
      ]
    },
    {
      "cell_type": "code",
      "execution_count": 6,
      "metadata": {
        "id": "5DmwCvlTO5bN",
        "colab": {
          "base_uri": "https://localhost:8080/"
        },
        "outputId": "6c090f87-c9f6-46ee-bda9-3fbb2f238662"
      },
      "outputs": [
        {
          "output_type": "execute_result",
          "data": {
            "text/plain": [
              "5"
            ]
          },
          "metadata": {},
          "execution_count": 6
        }
      ],
      "source": [
        "a - b"
      ]
    },
    {
      "cell_type": "code",
      "source": [
        "type(a-b)"
      ],
      "metadata": {
        "colab": {
          "base_uri": "https://localhost:8080/"
        },
        "id": "cqxUyNHGjW3V",
        "outputId": "9cc61f1b-9144-45ea-ae29-35ea0f3ad764"
      },
      "execution_count": 7,
      "outputs": [
        {
          "output_type": "execute_result",
          "data": {
            "text/plain": [
              "int"
            ]
          },
          "metadata": {},
          "execution_count": 7
        }
      ]
    },
    {
      "cell_type": "markdown",
      "metadata": {
        "id": "VKDvoyIEO5bN"
      },
      "source": [
        "### 실수형 (Floating point)"
      ]
    },
    {
      "cell_type": "code",
      "execution_count": 8,
      "metadata": {
        "id": "toIzlNwyO5bN",
        "colab": {
          "base_uri": "https://localhost:8080/"
        },
        "outputId": "ae38c6ca-92c0-4462-9b6a-ea2220436723"
      },
      "outputs": [
        {
          "output_type": "execute_result",
          "data": {
            "text/plain": [
              "3.14"
            ]
          },
          "metadata": {},
          "execution_count": 8
        }
      ],
      "source": [
        "c = 3.14\n",
        "c"
      ]
    },
    {
      "cell_type": "code",
      "execution_count": 9,
      "metadata": {
        "id": "pSFndmCQO5bN",
        "colab": {
          "base_uri": "https://localhost:8080/"
        },
        "outputId": "1327ed8f-20d8-40d6-a2ce-8d1f1086c0e0"
      },
      "outputs": [
        {
          "output_type": "execute_result",
          "data": {
            "text/plain": [
              "6.28"
            ]
          },
          "metadata": {},
          "execution_count": 9
        }
      ],
      "source": [
        "c + 3.14"
      ]
    },
    {
      "cell_type": "code",
      "execution_count": 11,
      "metadata": {
        "id": "gdVHPpLCO5bN",
        "colab": {
          "base_uri": "https://localhost:8080/"
        },
        "outputId": "fda6c109-5705-4393-fdbe-f340b71cde5f"
      },
      "outputs": [
        {
          "output_type": "stream",
          "name": "stdout",
          "text": [
            "3.0400000000000005\n"
          ]
        }
      ],
      "source": [
        "# d에 4를 할당하고 c에서 d를 뺀 값을 출력합니다.\n",
        "d=4\n",
        "print(c-d)   # -0.86 why? 2진수가 아닌 표현은 정확하게 표현할 수 없다."
      ]
    },
    {
      "cell_type": "code",
      "execution_count": 13,
      "metadata": {
        "id": "IyVfTQeJO5bO",
        "colab": {
          "base_uri": "https://localhost:8080/"
        },
        "outputId": "55ee2736-b0e2-4e54-fff3-9dda12585dc8"
      },
      "outputs": [
        {
          "output_type": "execute_result",
          "data": {
            "text/plain": [
              "(1340000.0, 0.00134)"
            ]
          },
          "metadata": {},
          "execution_count": 13
        }
      ],
      "source": [
        "# 1.34 x 10^6을 의미한다.\n",
        "e = 1.34E6; e2 = 1.34e-3   #1.34 x 10^(-3)\n",
        "e, e2"
      ]
    },
    {
      "cell_type": "markdown",
      "metadata": {
        "id": "mQrRPuROO5bO"
      },
      "source": [
        "### 숫자형 데이터 타입이 제공하는 여러 연산자 "
      ]
    },
    {
      "cell_type": "markdown",
      "metadata": {
        "id": "-zHUSd6nO5bO"
      },
      "source": [
        "#### 사칙연산 "
      ]
    },
    {
      "cell_type": "code",
      "execution_count": 16,
      "metadata": {
        "id": "iPhDG1xdO5bO",
        "colab": {
          "base_uri": "https://localhost:8080/"
        },
        "outputId": "781cf4dc-7fed-4375-cdec-6b487e019bd9"
      },
      "outputs": [
        {
          "output_type": "stream",
          "name": "stdout",
          "text": [
            "15\n",
            "5\n",
            "50\n",
            "2.0\n"
          ]
        }
      ],
      "source": [
        "# a에 10, b에 3을 할당하고 a와 b의 사칙연산 결과를 출력합니다. 이번에는 출력할때 print 함수를 사용합니다.\n",
        "print(a+b)\n",
        "print(a-b)\n",
        "print(a*b)\n",
        "print(a/b)"
      ]
    },
    {
      "cell_type": "code",
      "execution_count": 17,
      "metadata": {
        "id": "8WKGyBF2O5bO",
        "colab": {
          "base_uri": "https://localhost:8080/"
        },
        "outputId": "0f498877-5fc5-4a18-b3be-b1b0a126b5cb"
      },
      "outputs": [
        {
          "output_type": "execute_result",
          "data": {
            "text/plain": [
              "11.9"
            ]
          },
          "metadata": {},
          "execution_count": 17
        }
      ],
      "source": [
        "# a에 10.3, b에 -1.6을 할당하고 사칙연산 결과를 출력합니다.\n",
        "a =10.3\n",
        "\n",
        "b= -1.6\n",
        "\n",
        "a-b"
      ]
    },
    {
      "cell_type": "markdown",
      "metadata": {
        "id": "fD9S56U5O5bO"
      },
      "source": [
        "#### 특수연산 "
      ]
    },
    {
      "cell_type": "code",
      "execution_count": null,
      "metadata": {
        "id": "8MH4qvbcO5bO"
      },
      "outputs": [],
      "source": [
        "c = 5\n",
        "d = 2\n",
        "print(c ** d) # c를 d번 곱한 것. c^d\n",
        "print(c // d) # c를 d로 나눈 몫.\n",
        "print(c % d)  # c를 d로 나눈 나머지."
      ]
    },
    {
      "cell_type": "markdown",
      "metadata": {
        "id": "ihXgeOftO5bO"
      },
      "source": [
        "**Q. 어떤 연도를 N이라고 할 때,  N이 윤년인지 아닌지 알아보는 방법은 무엇일까?**\n",
        "\n",
        "*A. 윤년 규칙. N이 4의 배수이면서, 100의 배수가 아니거나 400의 배수면 윤년이다.*"
      ]
    },
    {
      "cell_type": "code",
      "execution_count": 18,
      "metadata": {
        "id": "g_Gm9GGfO5bO",
        "colab": {
          "base_uri": "https://localhost:8080/"
        },
        "outputId": "58301b20-3df3-446b-e9d5-3e9322ad1e55"
      },
      "outputs": [
        {
          "output_type": "stream",
          "name": "stdout",
          "text": [
            "2000\n",
            "윤년\n"
          ]
        }
      ],
      "source": [
        "a = int(input())\n",
        "\n",
        "if a%400 ==0 :\n",
        "    print('윤년')"
      ]
    },
    {
      "cell_type": "markdown",
      "metadata": {
        "id": "QoXlwyXLO5bO"
      },
      "source": [
        " "
      ]
    },
    {
      "cell_type": "markdown",
      "metadata": {
        "id": "bEr9d4CHO5bO"
      },
      "source": [
        " "
      ]
    },
    {
      "cell_type": "markdown",
      "metadata": {
        "id": "WJaUuYLKO5bP"
      },
      "source": [
        "### 2. 문자열(String)"
      ]
    },
    {
      "cell_type": "markdown",
      "metadata": {
        "id": "WBoG0tbDO5bP"
      },
      "source": [
        "* 문자열 데이터란, 문자(character)의 나열을 의미한다. e.g. \"Hello world\"\n",
        "> string ; Character Sequence\n",
        "\n",
        "* 파이썬에 다룰 수 있는 문자열의 크기도 제한이 없다.\n",
        "\n",
        "\n",
        "* 파이썬에선 <kbd>'</kbd>와 <kbd>\"</kbd> 두 가지의 기호를 통해 문자열을 나타낸다. 즉 ' 부터 ' 까지 또는 \" 부터 \" 까지 하나의 문자열이다.\n",
        "e.g. 'Hello', \"World\"\n",
        "\n",
        "\n",
        "* 컴퓨터는 문자(character)를 encoding하여 숫자로 표현한다. 알려진 예로 ASCII, utf-8, cp949가 있다.\n",
        "> 컴퓨터는 문자를 숫자로 인식한다. e.g. ASCII 코드로 변환하면 A->65, a->97\n",
        "\n",
        "* 현재 전세계적으로 웹에서 사용되는 국제 표준은 UTF-8(Universal code character set Transformation Format - 8-bit)이다.\n",
        "\n",
        " \n",
        "**(OPTIONAL)** UTF-8에선 a는 1바이트로, '가'는 3바이트로 인식한다. 이를 가변 인코딩 방식이라고 하며, 영어보다 한글이 더 많은 데이터를 필요로 한다."
      ]
    },
    {
      "cell_type": "markdown",
      "metadata": {
        "id": "qHEoFP-pO5bP"
      },
      "source": [
        "### 문자열을 만드는 여러가지 방법"
      ]
    },
    {
      "cell_type": "code",
      "execution_count": 19,
      "metadata": {
        "id": "-oOQRq7eO5bP"
      },
      "outputs": [],
      "source": [
        "s = \"Hello World\""
      ]
    },
    {
      "cell_type": "code",
      "execution_count": 20,
      "metadata": {
        "id": "jMKKKoq_O5bP"
      },
      "outputs": [],
      "source": [
        "s1 = \"Dong Hee\""
      ]
    },
    {
      "cell_type": "code",
      "execution_count": 22,
      "metadata": {
        "id": "4oF2VTD9O5bP",
        "colab": {
          "base_uri": "https://localhost:8080/"
        },
        "outputId": "566f212c-e58e-4a4f-ffc5-b5ca29482cb9"
      },
      "outputs": [
        {
          "output_type": "stream",
          "name": "stdout",
          "text": [
            "To Be Great is\n",
            "To Be Misunderstood.\n",
            "- Ralph Waldo Emerson\n",
            "\n"
          ]
        }
      ],
      "source": [
        "s2 =\"\"\"To Be Great is\n",
        "To Be Misunderstood.\n",
        "- Ralph Waldo Emerson\n",
        "\"\"\"\n",
        "print(s2) # 그냥 s2만 쓰면 어떻게 될까?"
      ]
    },
    {
      "cell_type": "code",
      "execution_count": 24,
      "metadata": {
        "id": "3dGKEoMNO5bP",
        "colab": {
          "base_uri": "https://localhost:8080/",
          "height": 35
        },
        "outputId": "38465a8f-9533-4126-ab06-c2c7066f4d20"
      },
      "outputs": [
        {
          "output_type": "execute_result",
          "data": {
            "text/plain": [
              "\"I'm a boy.\""
            ],
            "application/vnd.google.colaboratory.intrinsic+json": {
              "type": "string"
            }
          },
          "metadata": {},
          "execution_count": 24
        }
      ],
      "source": [
        "# 왜 파이썬은 \"\"와 ''를 모두 제공할까요?\n",
        "# 아래 s3와 s4를 문자열로 만들어서 출력해봅시다. \n",
        "s3 = \"I'm a boy.\"\n",
        "s3"
      ]
    },
    {
      "cell_type": "markdown",
      "metadata": {
        "id": "a9PsHFTnO5bP"
      },
      "source": [
        "### 특수 문자 표현 (escape code) 익히기 "
      ]
    },
    {
      "cell_type": "code",
      "execution_count": 26,
      "metadata": {
        "id": "3wcfl6WDO5bP",
        "colab": {
          "base_uri": "https://localhost:8080/"
        },
        "outputId": "c66ab72f-57bf-440e-a553-b8d32c600778"
      },
      "outputs": [
        {
          "output_type": "stream",
          "name": "stdout",
          "text": [
            "Hello\n",
            "World\n"
          ]
        }
      ],
      "source": [
        "# \\n -> new line\n",
        "\"Hello\\n\"\n",
        "print(\"Hello\\nWorld\")"
      ]
    },
    {
      "cell_type": "code",
      "execution_count": 27,
      "metadata": {
        "id": "ET5ySD4XO5bP",
        "colab": {
          "base_uri": "https://localhost:8080/"
        },
        "outputId": "eb02dad6-9fa6-4eae-abcd-3cc270a4aade"
      },
      "outputs": [
        {
          "output_type": "stream",
          "name": "stdout",
          "text": [
            "Hello\tWorld\n"
          ]
        }
      ],
      "source": [
        "# \\t -> tab\n",
        "print(\"Hello\\tWorld\")"
      ]
    },
    {
      "cell_type": "markdown",
      "metadata": {
        "id": "1AweD9SxO5bP"
      },
      "source": [
        "### 문자열 연산하기 "
      ]
    },
    {
      "cell_type": "markdown",
      "metadata": {
        "id": "s-k21B8XO5bP"
      },
      "source": [
        "> 문자열의 사칙연산은 어떻게 정의될까? 숫자에선 당연했지만, 문자열의 더하기, 곱하기는 어떻게 정의되는지 잘 생각해보자."
      ]
    },
    {
      "cell_type": "code",
      "execution_count": 28,
      "metadata": {
        "id": "nh4FOSObO5bP",
        "colab": {
          "base_uri": "https://localhost:8080/",
          "height": 35
        },
        "outputId": "4e27b3dd-0e73-439d-c743-4ae308e1f451"
      },
      "outputs": [
        {
          "output_type": "execute_result",
          "data": {
            "text/plain": [
              "'Hello World'"
            ],
            "application/vnd.google.colaboratory.intrinsic+json": {
              "type": "string"
            }
          },
          "metadata": {},
          "execution_count": 28
        }
      ],
      "source": [
        "s = \"Hello\" \n",
        "s1 = \"World\"\n",
        "# Q. 가운데 빈 칸을 넣고 싶을 땐 어떻게 해야할까?\n",
        "s + \" \" + s1 #string concatenation"
      ]
    },
    {
      "cell_type": "code",
      "execution_count": 30,
      "metadata": {
        "id": "gD2wdkkYO5bP",
        "colab": {
          "base_uri": "https://localhost:8080/",
          "height": 35
        },
        "outputId": "aae9b4b6-81f2-4c9b-b8ff-39114a9eb0fc"
      },
      "outputs": [
        {
          "output_type": "execute_result",
          "data": {
            "text/plain": [
              "\"I'm good I'm good I'm good I'm good I'm good I'm good I'm good I'm good I'm good I'm good \""
            ],
            "application/vnd.google.colaboratory.intrinsic+json": {
              "type": "string"
            }
          },
          "metadata": {},
          "execution_count": 30
        }
      ],
      "source": [
        "s2 = \"I'm good \"\n",
        "s2 * 10"
      ]
    },
    {
      "cell_type": "code",
      "execution_count": 31,
      "metadata": {
        "id": "qLYA1gZMO5bP",
        "colab": {
          "base_uri": "https://localhost:8080/"
        },
        "outputId": "7d73bc35-d70e-40f7-a724-2f4a3f6a022c"
      },
      "outputs": [
        {
          "output_type": "execute_result",
          "data": {
            "text/plain": [
              "16"
            ]
          },
          "metadata": {},
          "execution_count": 31
        }
      ],
      "source": [
        "s3 = \"Enjoy your life.\"\n",
        "len(s3)\n",
        "# 문자열의 길이를 출력하는 함수 len() 을 통해 s3의 문자 갯수(문자열 길이)를 알아보자."
      ]
    },
    {
      "cell_type": "markdown",
      "metadata": {
        "id": "cWgqVLZXO5bP"
      },
      "source": [
        "### 문자열 Formatting "
      ]
    },
    {
      "cell_type": "markdown",
      "metadata": {
        "id": "PGMv_jyxO5bQ"
      },
      "source": [
        "- 문자열을 출력할 때(print 함수를 이용하여) 특정 format을 지정하고 싶은 경우에는 어떻게 해야할까?\n",
        "\n",
        "e.g. OOO님의 주민등록번호는 XXXXXXX-XXXXXXX입니다."
      ]
    },
    {
      "cell_type": "markdown",
      "metadata": {
        "id": "A2kUGXt_O5bQ"
      },
      "source": [
        "- 문자열 포맷에는 크게 3가지가 있다. (기호에 맞게 사용하면 됩니다)\n",
        "\n",
        "\n",
        "\n",
        "\"사과는 4개있다.\"\n",
        "\n",
        "\n",
        "\n",
        "1) print format 사용\n",
        "\n",
        "> print(\"%s는 %d개 있다.\" % (\"사과\", 4))\n",
        "\n",
        "2) str.format 함수 사용\n",
        "\n",
        "> print(\"{}는 {}개 있다.\".format(\"사과\", 4))\n",
        "\n",
        "3) f-string (**)\n",
        "\n",
        "> apple = \"사과\", count = 4\n",
        "\n",
        "> print(f\"{apple}는 {count}개 있다.\")"
      ]
    },
    {
      "cell_type": "code",
      "execution_count": 32,
      "metadata": {
        "id": "8O8Fc1usO5bQ"
      },
      "outputs": [],
      "source": [
        "fruit = \"사과\"; count = 4"
      ]
    },
    {
      "cell_type": "code",
      "execution_count": 36,
      "metadata": {
        "id": "ixF34wNSO5bQ",
        "colab": {
          "base_uri": "https://localhost:8080/"
        },
        "outputId": "ac485706-a344-4bcf-c421-4ec1fc1f3d58"
      },
      "outputs": [
        {
          "output_type": "stream",
          "name": "stdout",
          "text": [
            "사과는 4개있다.\n"
          ]
        }
      ],
      "source": [
        "# 1) print formatting\n",
        "print(\"%s는 %d개있다.\"%(fruit,count))"
      ]
    },
    {
      "cell_type": "code",
      "execution_count": 38,
      "metadata": {
        "id": "MJ_C5KOiO5bQ",
        "colab": {
          "base_uri": "https://localhost:8080/"
        },
        "outputId": "23402225-bf21-4d07-b0c2-1878410df0e4"
      },
      "outputs": [
        {
          "output_type": "stream",
          "name": "stdout",
          "text": [
            "사과는 4개있다.\n"
          ]
        }
      ],
      "source": [
        "# 2) str.format\n",
        "print(\"{}는 {}개있다.\".format(fruit,count))"
      ]
    },
    {
      "cell_type": "code",
      "execution_count": 39,
      "metadata": {
        "id": "7JivDd_8O5bQ",
        "colab": {
          "base_uri": "https://localhost:8080/"
        },
        "outputId": "9bfbf0a8-0137-4197-9bac-56179c8bcaf2"
      },
      "outputs": [
        {
          "output_type": "stream",
          "name": "stdout",
          "text": [
            "사과는 4개 있다.\n"
          ]
        }
      ],
      "source": [
        "# 3) f-string\n",
        "print(f\"{fruit}는 {count}개 있다.\")"
      ]
    },
    {
      "cell_type": "markdown",
      "metadata": {
        "id": "4rSJOOiHO5bQ"
      },
      "source": [
        "**Q. 개인정보를 사용자로부터 입력받아, 주민등록등본을 출력해주는 키오스크(Kiosk)용 프로그램을 제작하려고 한다. 입력받은 이름을 name이라는 변수에, 주민번호 앞자리를 id라는 변수에 입력받았다면, 주민등록등본에 어떻게 출력해야 할까?**"
      ]
    },
    {
      "cell_type": "markdown",
      "metadata": {
        "id": "tQpwvUV9O5bQ"
      },
      "source": [
        "### 문자열 관련 함수들 (**) "
      ]
    },
    {
      "cell_type": "markdown",
      "metadata": {
        "id": "8L-HbfM8O5bQ"
      },
      "source": [
        "#### (영어) 대소문자 바꾸기 upper(), lower()"
      ]
    },
    {
      "cell_type": "code",
      "execution_count": 40,
      "metadata": {
        "id": "VJAg8AnXO5bQ",
        "colab": {
          "base_uri": "https://localhost:8080/",
          "height": 35
        },
        "outputId": "44ca5554-7bf8-4ee6-f6b7-54104e1b31f1"
      },
      "outputs": [
        {
          "output_type": "execute_result",
          "data": {
            "text/plain": [
              "'HI'"
            ],
            "application/vnd.google.colaboratory.intrinsic+json": {
              "type": "string"
            }
          },
          "metadata": {},
          "execution_count": 40
        }
      ],
      "source": [
        "s = \"hi\"\n",
        "s.upper()"
      ]
    },
    {
      "cell_type": "code",
      "execution_count": 41,
      "metadata": {
        "id": "Zvcceg_ZO5bQ",
        "colab": {
          "base_uri": "https://localhost:8080/",
          "height": 35
        },
        "outputId": "fd390fc3-7875-4858-dcb9-1353596a40d7"
      },
      "outputs": [
        {
          "output_type": "execute_result",
          "data": {
            "text/plain": [
              "'hi'"
            ],
            "application/vnd.google.colaboratory.intrinsic+json": {
              "type": "string"
            }
          },
          "metadata": {},
          "execution_count": 41
        }
      ],
      "source": [
        "s = \"Hi\"\n",
        "s.lower()"
      ]
    },
    {
      "cell_type": "markdown",
      "metadata": {
        "id": "NdEVJcotO5bQ"
      },
      "source": [
        "#### 문자 공백 지우기 strip() "
      ]
    },
    {
      "cell_type": "code",
      "execution_count": 42,
      "metadata": {
        "id": "O76_5v7-O5bQ",
        "colab": {
          "base_uri": "https://localhost:8080/",
          "height": 35
        },
        "outputId": "e84fd457-e1e7-44ff-9a3c-d0fc4bdd1f4c"
      },
      "outputs": [
        {
          "output_type": "execute_result",
          "data": {
            "text/plain": [
              "'h   l   i'"
            ],
            "application/vnd.google.colaboratory.intrinsic+json": {
              "type": "string"
            }
          },
          "metadata": {},
          "execution_count": 42
        }
      ],
      "source": [
        "s = \"h   l   i \"\n",
        "s.strip()\n"
      ]
    },
    {
      "cell_type": "markdown",
      "metadata": {
        "id": "BjH2vZEOO5bQ"
      },
      "source": [
        "#### 문자열 삽입 join()"
      ]
    },
    {
      "cell_type": "code",
      "execution_count": 45,
      "metadata": {
        "id": "mjFKtI3bO5bQ",
        "colab": {
          "base_uri": "https://localhost:8080/",
          "height": 35
        },
        "outputId": "31854864-7e79-4145-cde4-ace0d7de76ef"
      },
      "outputs": [
        {
          "output_type": "execute_result",
          "data": {
            "text/plain": [
              "'a-b-c-d'"
            ],
            "application/vnd.google.colaboratory.intrinsic+json": {
              "type": "string"
            }
          },
          "metadata": {},
          "execution_count": 45
        }
      ],
      "source": [
        "\"-\".join(\"abcd\")\n"
      ]
    },
    {
      "cell_type": "markdown",
      "metadata": {
        "id": "-u0SpGEtO5bQ"
      },
      "source": [
        "#### 문자열  나누기 split()"
      ]
    },
    {
      "cell_type": "code",
      "execution_count": 48,
      "metadata": {
        "id": "SZQBDyq-O5bQ",
        "colab": {
          "base_uri": "https://localhost:8080/"
        },
        "outputId": "12e87e2c-8a62-4d51-ce8c-1edbdf59c247"
      },
      "outputs": [
        {
          "output_type": "execute_result",
          "data": {
            "text/plain": [
              "['Life is ', ' short.']"
            ]
          },
          "metadata": {},
          "execution_count": 48
        }
      ],
      "source": [
        "s = \"Life is too short.\"\n",
        "s.split() #괄호 안에 아무것도 안 쓰면 공백을 기준으로 잘라줍니다.\n",
        "s.split(\"too\")"
      ]
    },
    {
      "cell_type": "markdown",
      "metadata": {
        "id": "MZU1RZ1hO5bQ"
      },
      "source": [
        "#### 문자열 바꾸기 replace() "
      ]
    },
    {
      "cell_type": "code",
      "execution_count": 50,
      "metadata": {
        "id": "6J8rlHsUO5bR",
        "colab": {
          "base_uri": "https://localhost:8080/",
          "height": 35
        },
        "outputId": "9b3e8849-9ac0-4256-a2f1-7c3075223d1e"
      },
      "outputs": [
        {
          "output_type": "execute_result",
          "data": {
            "text/plain": [
              "'Lifeistooshort.'"
            ],
            "application/vnd.google.colaboratory.intrinsic+json": {
              "type": "string"
            }
          },
          "metadata": {},
          "execution_count": 50
        }
      ],
      "source": [
        "s = \"Life is too short.\"\n",
        "# Life를 This pencil로 바꿔봅시다.\n",
        "s.replace(\"Life\",\"This pencil\")\n",
        "s.replace(\" \",\"\")"
      ]
    },
    {
      "cell_type": "markdown",
      "metadata": {
        "id": "LW2RBteKO5bR"
      },
      "source": [
        "### 3. 연속형 데이터 (Sequential Data Types)"
      ]
    },
    {
      "cell_type": "markdown",
      "metadata": {
        "id": "JkNakEHMO5bR"
      },
      "source": [
        "**Q. 숫자 100개를 한번에 다루려고 한다. <=> 하나의 변수에 숫자 100개를 저장하고 싶다. 어떻게 해야할까?**\n",
        "\n",
        "*A. 연속형 데이터 타입을 사용하자!*"
      ]
    },
    {
      "cell_type": "markdown",
      "metadata": {
        "id": "7559HElfO5bR"
      },
      "source": [
        "* 연속형 데이터란, 하나의 변수가 하나의 데이터를 가지고 있던 숫자형 데이터와 달리, 여러개의 데이터를 하나의 변수에 가지고 있는 데이터 타입이다.\n",
        "\n",
        "\n",
        "* 연속형 데이터 타입에는 리스트(List), 튜플(Tuple), 문자열(String)이 있다. (문자열을 문자들의 나열로 인식하기 때문에, 연속형 데이터이다.)\n",
        "\n",
        "\n",
        "* 연속형 데이터의 크기 제한은 없다. 하지만, 사용하는 컴퓨터의 가용 메모리 용량을 인지하며 사용해야 한다.\n",
        "\n",
        "\n",
        "* 각 연속형 데이터 타입마다 특징이 다르다. 그 특징을 파악하여 용도에 맞는 데이터 타입을 사용하는 것이 중요하다.\n",
        "\n",
        " \n",
        "**(OPTIONAL)** 사전(dictionary) 타입은 associative array라고 불리며, 흔히 알고있는 Hash table 구조이다."
      ]
    },
    {
      "cell_type": "markdown",
      "metadata": {
        "id": "os-yL_BHO5bR"
      },
      "source": [
        "### 3.1 리스트(List)\n",
        "\n",
        "\n",
        "* 가장 많이 사용되는 연속형 데이터 타입이자, 굉장히 유연한 구조를 가지고 있어 대부분의 데이터를 편하게 다룰 수 있다.\n",
        "\n",
        "\n",
        "* 파이썬에서 <kbd>[</kbd> 와 <kbd>]</kbd>를 이용하여 표현한다. e.g. [1, 2, 3]\n",
        "\n",
        "\n",
        "* 리스트의 원소는 쉼표로 구분되며, 리스트의 원소는 아무 데이터 타입이나 가능하다. 리스트조차 가능하다.\n",
        "\n",
        "\n",
        "* 리스트를 이용하면 파이썬에서 다루는 대부분의 데이터는 아무 무리없이 다룰 수 있다. 하지만 수정이 자유롭기 때문에 수정을 하면 안되는 경우에는 사용하면 안된다."
      ]
    },
    {
      "cell_type": "markdown",
      "metadata": {
        "id": "ABKeTlLYO5bR"
      },
      "source": [
        "### 리스트를 만드는 방법"
      ]
    },
    {
      "cell_type": "code",
      "execution_count": 52,
      "metadata": {
        "id": "UrivpymQO5bR",
        "colab": {
          "base_uri": "https://localhost:8080/"
        },
        "outputId": "62348de2-a4eb-4fd9-97b2-b143ab5bd93e"
      },
      "outputs": [
        {
          "output_type": "execute_result",
          "data": {
            "text/plain": [
              "([1, 2, 3], list)"
            ]
          },
          "metadata": {},
          "execution_count": 52
        }
      ],
      "source": [
        "# 정수 1, 2, 3을 원소로 가지는 리스트를 만듭니다.\n",
        "L =[1,2,3]\n",
        "L, type(L)"
      ]
    },
    {
      "cell_type": "code",
      "execution_count": 53,
      "metadata": {
        "id": "vs-Nclt9O5bR",
        "colab": {
          "base_uri": "https://localhost:8080/"
        },
        "outputId": "e61e36c1-87c2-4654-8c16-8c3775186cbd"
      },
      "outputs": [
        {
          "output_type": "execute_result",
          "data": {
            "text/plain": [
              "list"
            ]
          },
          "metadata": {},
          "execution_count": 53
        }
      ],
      "source": [
        "L1 = []\n",
        "type(L1)"
      ]
    },
    {
      "cell_type": "code",
      "execution_count": 54,
      "metadata": {
        "id": "ULp0PRfFO5bR",
        "colab": {
          "base_uri": "https://localhost:8080/"
        },
        "outputId": "49d93b56-229f-4b8e-a1ba-d0e682bdc4b9"
      },
      "outputs": [
        {
          "output_type": "execute_result",
          "data": {
            "text/plain": [
              "list"
            ]
          },
          "metadata": {},
          "execution_count": 54
        }
      ],
      "source": [
        "L2 = list() # 빈 리스트를 만드는 같은 방법 리스트 클래스의 객체를 생성\n",
        "type(L2)"
      ]
    },
    {
      "cell_type": "code",
      "execution_count": null,
      "metadata": {
        "id": "73Rij4JPO5bS"
      },
      "outputs": [],
      "source": [
        "L3 = [1, \"Hi\", 3.14, [1, 2, 3]] # 리스트에는 다양한 타입의 원소를 다 포함할 수 있다. 심지어 리스트도.\n",
        "L3"
      ]
    },
    {
      "cell_type": "code",
      "execution_count": 55,
      "metadata": {
        "id": "4jNsNrMGO5bT",
        "colab": {
          "base_uri": "https://localhost:8080/"
        },
        "outputId": "af88984e-d0a5-49b4-d662-e3e410043c23"
      },
      "outputs": [
        {
          "output_type": "execute_result",
          "data": {
            "text/plain": [
              "[[1, 2], [3, 4]]"
            ]
          },
          "metadata": {},
          "execution_count": 55
        }
      ],
      "source": [
        "L4 = [[1, 2],\n",
        "     [3, 4]] # 2x2 행렬 표현처럼 사용할 수 있다. 이를 2차원 리스트라고 한다.\n",
        "L4 # 실제로는 2개의 리스트를 원소로 가지는 리스트이다."
      ]
    },
    {
      "cell_type": "markdown",
      "metadata": {
        "id": "blBldhftO5bT"
      },
      "source": [
        "### Indexing (***) "
      ]
    },
    {
      "cell_type": "markdown",
      "metadata": {
        "id": "_hHSZLpAO5bT"
      },
      "source": [
        "- 연속형 데이터들은 하나의 변수에 여러가지 데이터를 가지기 때문에 여러 데이터를 접근하는 방법이 필요하다.\n",
        "\n",
        "\n",
        "- 이를 위해 indexing이라는 기법이 있다. 말그대로 index를 통해 접근(access)하는 방법이다.\n",
        "\n",
        "\n",
        "- 리스트의 index는 맨 앞부터 0으로 시작하며, 1씩 증가하는 정수 index를 사용한다.\n",
        "\n",
        "\n",
        "e.g. [1, 2, 3]이면 첫번째 원소는 index가 0이고, 두번째 원소는 index가 1이다.\n",
        "\n",
        "\n",
        "- 파이썬에서는 음수 index도 제공하는데, 이는 뒤쪽부터 접근할 수 있는 방법이다.\n",
        "\n",
        "e.g. [1, 2, 3]이면 뒤에서 첫번째(맨 마지막)원소는 index가 -1이고, 뒤에서 두번째 원소는 index가 -2이다.\n",
        "\n",
        "\n",
        "- index를 통해 접근하는 방법은 해당 변수이름에 []를 사용하며, []안에 index를 넣어서 접근할 수 있다.\n",
        "\n",
        "\n",
        "e.g L = [1, 2, 3]이면 L[0]은 1이고, L[2]는 L[-1]이며 3이다."
      ]
    },
    {
      "cell_type": "code",
      "execution_count": 56,
      "metadata": {
        "id": "FzFTyiA-O5bT",
        "colab": {
          "base_uri": "https://localhost:8080/"
        },
        "outputId": "64c1c323-bfa3-4ea4-ebb7-34eecc602910"
      },
      "outputs": [
        {
          "output_type": "execute_result",
          "data": {
            "text/plain": [
              "[1, 2, 3, 4, 5]"
            ]
          },
          "metadata": {},
          "execution_count": 56
        }
      ],
      "source": [
        "L = [1, 2, 3, 4, 5]\n",
        "L"
      ]
    },
    {
      "cell_type": "code",
      "execution_count": 59,
      "metadata": {
        "id": "gxSrbcxNO5bT",
        "colab": {
          "base_uri": "https://localhost:8080/"
        },
        "outputId": "af58fa1b-7923-430f-987a-d8d416e98096"
      },
      "outputs": [
        {
          "output_type": "execute_result",
          "data": {
            "text/plain": [
              "1"
            ]
          },
          "metadata": {},
          "execution_count": 59
        }
      ],
      "source": [
        "# L의 첫번째 원소\n",
        "L[0]"
      ]
    },
    {
      "cell_type": "code",
      "execution_count": 60,
      "metadata": {
        "id": "S_byuPKsO5bT",
        "colab": {
          "base_uri": "https://localhost:8080/"
        },
        "outputId": "93d11faf-629a-4aee-8830-f97efcff3e74"
      },
      "outputs": [
        {
          "output_type": "execute_result",
          "data": {
            "text/plain": [
              "5"
            ]
          },
          "metadata": {},
          "execution_count": 60
        }
      ],
      "source": [
        "# L의 5번째 원소\n",
        "L[4]"
      ]
    },
    {
      "cell_type": "code",
      "execution_count": 61,
      "metadata": {
        "id": "Z8TT0FtLO5bT",
        "colab": {
          "base_uri": "https://localhost:8080/",
          "height": 184
        },
        "outputId": "dfd1e40d-5eaf-4af2-9562-3f0d4139e308"
      },
      "outputs": [
        {
          "output_type": "error",
          "ename": "IndexError",
          "evalue": "ignored",
          "traceback": [
            "\u001b[0;31m---------------------------------------------------------------------------\u001b[0m",
            "\u001b[0;31mIndexError\u001b[0m                                Traceback (most recent call last)",
            "\u001b[0;32m<ipython-input-61-6fa938f9629e>\u001b[0m in \u001b[0;36m<module>\u001b[0;34m()\u001b[0m\n\u001b[1;32m      1\u001b[0m \u001b[0;31m# L에 없는 index는?\u001b[0m\u001b[0;34m\u001b[0m\u001b[0;34m\u001b[0m\u001b[0;34m\u001b[0m\u001b[0m\n\u001b[0;32m----> 2\u001b[0;31m \u001b[0mL\u001b[0m\u001b[0;34m[\u001b[0m\u001b[0;36m9\u001b[0m\u001b[0;34m]\u001b[0m\u001b[0;34m\u001b[0m\u001b[0;34m\u001b[0m\u001b[0m\n\u001b[0m",
            "\u001b[0;31mIndexError\u001b[0m: list index out of range"
          ]
        }
      ],
      "source": [
        "# L에 없는 index는?\n",
        "L[9]"
      ]
    },
    {
      "cell_type": "code",
      "execution_count": 62,
      "metadata": {
        "id": "BvO2El9CO5bT",
        "colab": {
          "base_uri": "https://localhost:8080/"
        },
        "outputId": "c421e317-fea0-41f0-f33e-3a58be42865f"
      },
      "outputs": [
        {
          "output_type": "execute_result",
          "data": {
            "text/plain": [
              "5"
            ]
          },
          "metadata": {},
          "execution_count": 62
        }
      ],
      "source": [
        "# L의 마지막 원소\n",
        "L[-1]"
      ]
    },
    {
      "cell_type": "code",
      "execution_count": 64,
      "metadata": {
        "id": "378XiRuQO5bT",
        "colab": {
          "base_uri": "https://localhost:8080/"
        },
        "outputId": "31277b21-06db-4705-ed18-c2112b9f9b81"
      },
      "outputs": [
        {
          "output_type": "execute_result",
          "data": {
            "text/plain": [
              "3"
            ]
          },
          "metadata": {},
          "execution_count": 64
        }
      ],
      "source": [
        "# indexing을 이용한 연산. L의 첫번째, 두번째 원소를 가져다가 더해봅니다.\n",
        "L[0] + L[1]"
      ]
    },
    {
      "cell_type": "code",
      "execution_count": 65,
      "metadata": {
        "id": "szdUnWKnO5bT",
        "colab": {
          "base_uri": "https://localhost:8080/"
        },
        "outputId": "192afdf8-2737-4ad8-a8bc-4b1bf5857f80"
      },
      "outputs": [
        {
          "output_type": "execute_result",
          "data": {
            "text/plain": [
              "[1, [2, 3], 5]"
            ]
          },
          "metadata": {},
          "execution_count": 65
        }
      ],
      "source": [
        "L2 = [1, [2, 3], 5]\n",
        "L2"
      ]
    },
    {
      "cell_type": "code",
      "execution_count": 66,
      "metadata": {
        "id": "GbxxU3woO5bT",
        "colab": {
          "base_uri": "https://localhost:8080/"
        },
        "outputId": "a2569b92-a207-4f91-a91a-8b5d25f2dc71"
      },
      "outputs": [
        {
          "output_type": "execute_result",
          "data": {
            "text/plain": [
              "2"
            ]
          },
          "metadata": {},
          "execution_count": 66
        }
      ],
      "source": [
        "# L2에서 2에 접근하기 위해 indexing을 해보자.\n",
        "L2[1][0]"
      ]
    },
    {
      "cell_type": "markdown",
      "metadata": {
        "id": "3_ZBWbikO5bT"
      },
      "source": [
        "### Slicing (**) "
      ]
    },
    {
      "cell_type": "markdown",
      "metadata": {
        "id": "PZlc4UUBO5bT"
      },
      "source": [
        "**슬라이싱은 리스트에서 뿐만 아니라, 리스트와 비슷한 구조인 numpy array와 pandas series, dataframe에서도 많이 이용되니 꼭 알아두어야 한다.**\n",
        "\n",
        "- 슬라이싱은 리스트의 일부분만 잘라낸다는 의미이다. (말그대로 슬라이싱)\n",
        "\n",
        "\n",
        "- 리스트의 일부만 사용하고 싶을 때 쓰는 기법이며, indexing을 범위로 하는 느낌이다.\n",
        "\n",
        "\n",
        "- 리스트의 index와 <kbd>:</kbd>를 사용하여 슬라이싱을 할 수 있다.\n",
        "\n",
        "\n",
        "e.g. L = [1, 2, 3, 4]  L[0:2]는 [1, 2]이다."
      ]
    },
    {
      "cell_type": "code",
      "execution_count": 67,
      "metadata": {
        "id": "1OqHz12HO5bT",
        "colab": {
          "base_uri": "https://localhost:8080/"
        },
        "outputId": "99481e8b-357a-43fb-a5e6-6db840bceeae"
      },
      "outputs": [
        {
          "output_type": "execute_result",
          "data": {
            "text/plain": [
              "[1, 2, 3, 4, 5]"
            ]
          },
          "metadata": {},
          "execution_count": 67
        }
      ],
      "source": [
        "L = [1, 2, 3, 4, 5]\n",
        "L"
      ]
    },
    {
      "cell_type": "code",
      "execution_count": 69,
      "metadata": {
        "id": "MS2pl9GrO5bT",
        "colab": {
          "base_uri": "https://localhost:8080/"
        },
        "outputId": "e941fa63-6e2c-4b03-c9cc-30655140c443"
      },
      "outputs": [
        {
          "output_type": "execute_result",
          "data": {
            "text/plain": [
              "[1, 2]"
            ]
          },
          "metadata": {},
          "execution_count": 69
        }
      ],
      "source": [
        "# L의 첫번째부터 index2 까지 자르기\n",
        "L[:2]"
      ]
    },
    {
      "cell_type": "code",
      "execution_count": 73,
      "metadata": {
        "id": "FEkmWBVQO5bT",
        "colab": {
          "base_uri": "https://localhost:8080/"
        },
        "outputId": "a6dc3f3e-d558-4ac0-9bab-beceb3ea2ba0"
      },
      "outputs": [
        {
          "output_type": "execute_result",
          "data": {
            "text/plain": [
              "[3, 4]"
            ]
          },
          "metadata": {},
          "execution_count": 73
        }
      ],
      "source": [
        "# L의 두번째부터 index4 까지 자르기\n",
        "L[2:4]"
      ]
    },
    {
      "cell_type": "code",
      "execution_count": 74,
      "metadata": {
        "id": "OzHC7KSFO5bT",
        "colab": {
          "base_uri": "https://localhost:8080/"
        },
        "outputId": "b2f8f47e-1548-416a-cab4-fff9721c67c3"
      },
      "outputs": [
        {
          "output_type": "execute_result",
          "data": {
            "text/plain": [
              "[1, 2]"
            ]
          },
          "metadata": {},
          "execution_count": 74
        }
      ],
      "source": [
        "# 시작 index를 생략하면, 자동으로 index는 0이 된다. (맨 처음)\n",
        "L[:2]"
      ]
    },
    {
      "cell_type": "code",
      "execution_count": 76,
      "metadata": {
        "id": "3tf90G_bO5bT",
        "colab": {
          "base_uri": "https://localhost:8080/"
        },
        "outputId": "9d23e570-e342-4d9e-a463-3717d0d7074b"
      },
      "outputs": [
        {
          "output_type": "execute_result",
          "data": {
            "text/plain": [
              "[3, 4, 5]"
            ]
          },
          "metadata": {},
          "execution_count": 76
        }
      ],
      "source": [
        "# 끝 index를 생략하면, 자동으로 index는(리스트의 길이)가 된다. (맨 마지막) Q. 왜 리스트의 길이일까?\n",
        "L[2:len(L)]\n",
        "L[2:len(L)-1] #이래서 -1로하면 끝 원소"
      ]
    },
    {
      "cell_type": "markdown",
      "metadata": {
        "id": "ig4oHs4aO5bT"
      },
      "source": [
        "> **TIP!**\n",
        "> 문자열도 연속형 데이터 타입이기 때문에, indexing과 slicing이 다 된다. 하나의 문자열을 생성하여 연습해보자."
      ]
    },
    {
      "cell_type": "markdown",
      "metadata": {
        "id": "gQ0RnQTyO5bT"
      },
      "source": [
        "### 리스트 연산하기 "
      ]
    },
    {
      "cell_type": "markdown",
      "metadata": {
        "id": "LHdtLz6NO5bT"
      },
      "source": [
        "> 문자열때와 마찬가지로, 리스트도 더하기, 곱하기 연산이 존재한다. 어떤 의미일지 생각해보자."
      ]
    },
    {
      "cell_type": "markdown",
      "metadata": {
        "id": "1CtZ_VBtO5bT"
      },
      "source": [
        "#### 리스트 더하기 "
      ]
    },
    {
      "cell_type": "code",
      "execution_count": 81,
      "metadata": {
        "id": "Equgw2ZSO5bU",
        "colab": {
          "base_uri": "https://localhost:8080/"
        },
        "outputId": "9fe7f41f-acaa-44b9-fc92-0d6e91a61b7d"
      },
      "outputs": [
        {
          "output_type": "execute_result",
          "data": {
            "text/plain": [
              "[1, 2, 3, 4, 5, 6, 7]"
            ]
          },
          "metadata": {},
          "execution_count": 81
        }
      ],
      "source": [
        "L = [1, 2, 3]\n",
        "L2 = [4, 5,6,7]\n",
        "L + L2 #List concatenation"
      ]
    },
    {
      "cell_type": "markdown",
      "metadata": {
        "id": "UARWRpFYO5bU"
      },
      "source": [
        "#### 리스트 곱하기 "
      ]
    },
    {
      "cell_type": "code",
      "execution_count": 78,
      "metadata": {
        "id": "lZ11YpNDO5bU",
        "colab": {
          "base_uri": "https://localhost:8080/"
        },
        "outputId": "09a736cf-26a7-4ecc-819c-e20517415fd4"
      },
      "outputs": [
        {
          "output_type": "execute_result",
          "data": {
            "text/plain": [
              "[1, 2, 3, 1, 2, 3, 1, 2, 3]"
            ]
          },
          "metadata": {},
          "execution_count": 78
        }
      ],
      "source": [
        "L *3"
      ]
    },
    {
      "cell_type": "markdown",
      "metadata": {
        "id": "nVrcWi-5O5bU"
      },
      "source": [
        "#### 리스트 수정하기 "
      ]
    },
    {
      "cell_type": "code",
      "execution_count": 79,
      "metadata": {
        "id": "f_K76xFOO5bU",
        "colab": {
          "base_uri": "https://localhost:8080/"
        },
        "outputId": "137eb9ff-0906-476c-8eeb-c91f861e61d1"
      },
      "outputs": [
        {
          "output_type": "execute_result",
          "data": {
            "text/plain": [
              "[7, 5]"
            ]
          },
          "metadata": {},
          "execution_count": 79
        }
      ],
      "source": [
        "L2[0] = 7\n",
        "L2"
      ]
    },
    {
      "cell_type": "code",
      "execution_count": 82,
      "metadata": {
        "id": "HTG76zhDO5bU",
        "colab": {
          "base_uri": "https://localhost:8080/"
        },
        "outputId": "cdeb10c5-9c6a-4d19-b632-d15b2ee846d5"
      },
      "outputs": [
        {
          "output_type": "execute_result",
          "data": {
            "text/plain": [
              "[1, 2, 5, 6]"
            ]
          },
          "metadata": {},
          "execution_count": 82
        }
      ],
      "source": [
        "L + L2 # 값이 바뀐게 적용이 됩니다.\n",
        "\n",
        "L[:2] + L2[1:3]"
      ]
    },
    {
      "cell_type": "markdown",
      "metadata": {
        "id": "2HLcrOrWO5bU"
      },
      "source": [
        "### 리스트 관련 함수"
      ]
    },
    {
      "cell_type": "markdown",
      "metadata": {
        "id": "MXnDClEoO5bU"
      },
      "source": [
        "#### 리스트에 원소 추가하기 append() (***)"
      ]
    },
    {
      "cell_type": "code",
      "execution_count": 87,
      "metadata": {
        "id": "I_rcj11JO5bU",
        "colab": {
          "base_uri": "https://localhost:8080/"
        },
        "outputId": "c8912c23-512c-4f8f-8d07-dc801ed64c57"
      },
      "outputs": [
        {
          "output_type": "execute_result",
          "data": {
            "text/plain": [
              "[1]"
            ]
          },
          "metadata": {},
          "execution_count": 87
        }
      ],
      "source": [
        "# 빈 리스트 L을 만들어서 3, 2, 1 순서대로 원소를 추가해봅니다.\n",
        "L = list()\n",
        "\n",
        "L.append(1)\n",
        "L"
      ]
    },
    {
      "cell_type": "markdown",
      "metadata": {
        "id": "zwULKLqFO5bU"
      },
      "source": [
        "#### 리스트 원소 정렬하기 sort() "
      ]
    },
    {
      "cell_type": "code",
      "execution_count": 90,
      "metadata": {
        "id": "N-wHarP8O5bU",
        "colab": {
          "base_uri": "https://localhost:8080/"
        },
        "outputId": "f7f8b9b1-2bec-438d-b459-93ea8d8ad664"
      },
      "outputs": [
        {
          "output_type": "execute_result",
          "data": {
            "text/plain": [
              "[16, 4, 3]"
            ]
          },
          "metadata": {},
          "execution_count": 90
        }
      ],
      "source": [
        "# sort()를 이용해 L을 정렬합니다.\n",
        "L = [4, 3, 16]\n",
        "L.sort(reverse=True)\n",
        "L"
      ]
    },
    {
      "cell_type": "markdown",
      "metadata": {
        "id": "VfjfhUhXO5bU"
      },
      "source": [
        "#### 리스트 뒤집기(정렬 X) reverse()"
      ]
    },
    {
      "cell_type": "code",
      "execution_count": 91,
      "metadata": {
        "id": "zpxa8saEO5bU",
        "colab": {
          "base_uri": "https://localhost:8080/"
        },
        "outputId": "b01e0d68-826a-480a-c233-94ae69f1a7e3"
      },
      "outputs": [
        {
          "output_type": "execute_result",
          "data": {
            "text/plain": [
              "[3, 4, 16]"
            ]
          },
          "metadata": {},
          "execution_count": 91
        }
      ],
      "source": [
        "#L.reverse() # reverse()와 같은 결과를 내는 신박한 방법도 있습니다.\n",
        "L[::-1]"
      ]
    },
    {
      "cell_type": "markdown",
      "metadata": {
        "id": "4zmtphdYO5bU"
      },
      "source": [
        "#### 리스트에서 원소 제거하기 pop()"
      ]
    },
    {
      "cell_type": "code",
      "execution_count": 94,
      "metadata": {
        "id": "i9PKvfpXO5bU",
        "colab": {
          "base_uri": "https://localhost:8080/"
        },
        "outputId": "47f2b870-47b2-43e3-a03d-0247ed1d8567"
      },
      "outputs": [
        {
          "output_type": "execute_result",
          "data": {
            "text/plain": [
              "[]"
            ]
          },
          "metadata": {},
          "execution_count": 94
        }
      ],
      "source": [
        "a= L.pop()\n",
        "\n",
        "L"
      ]
    },
    {
      "cell_type": "markdown",
      "metadata": {
        "id": "C4AL1DPGO5bU"
      },
      "source": [
        "### 3.2 튜플(Tuple)\n",
        "\n",
        "- tuple은 list과 거의 같다.\n",
        "> indexing, slicing 모두 동일하게 사용 가능하다.\n",
        "> 원소들도 자유롭게 사용 가능하다.\n",
        "\n",
        "- 거의 같은데, 다른 점이 딱 2가지 있다.\n",
        "\n",
        "\n",
        "\n",
        "\n",
        "**1) 리스트는 []를 사용하고, 튜플은 ()을 사용한다.**\n",
        "\n",
        "**2) 리스트는 생성 후에 변경이 가능하고(mutable) 튜플은 생성 후에 변경이 불가능하다.(immutable)**\n",
        "\n",
        "> Mutable : 생성된 이후에 변경(assignment)이 자유롭게 가능한 data type.\n",
        "e.g. List, dict, set\n",
        "\n",
        "> immutable : 생성된 이후에 변경이 불가능한 data type\n",
        "e.g. int, float, string, tuple, frozenset\n",
        "\n",
        "\n",
        "> 1. 성능적인 이슈 -> 변경되지는 않는 그 자체로 장점이 생김.\n",
        "\n",
        "> 2. 프로그래밍적인 이슈 -> 데이터 수정 자체를 하지 않는 경우 실수를 방지할 수 있다."
      ]
    },
    {
      "cell_type": "code",
      "execution_count": 95,
      "metadata": {
        "id": "wBWB8hI-O5bU"
      },
      "outputs": [],
      "source": [
        "# 1, 2를 원소로 가지는 tuple을 생성해 봅니다.\n"
      ]
    },
    {
      "cell_type": "code",
      "execution_count": 99,
      "metadata": {
        "id": "0xZB7tDuO5bU",
        "colab": {
          "base_uri": "https://localhost:8080/"
        },
        "outputId": "28352de4-229f-4cbc-a4aa-c7382596abe2"
      },
      "outputs": [
        {
          "output_type": "execute_result",
          "data": {
            "text/plain": [
              "((1, 2, 3, 4, 5), tuple)"
            ]
          },
          "metadata": {},
          "execution_count": 99
        }
      ],
      "source": [
        "t1 = (1,2,3,4,5)\n",
        "t1, type(t1)"
      ]
    },
    {
      "cell_type": "code",
      "execution_count": 97,
      "metadata": {
        "id": "eBCuxcQwO5bU",
        "colab": {
          "base_uri": "https://localhost:8080/"
        },
        "outputId": "5804686b-6b2e-4065-9fc8-76c71cfd59df"
      },
      "outputs": [
        {
          "output_type": "execute_result",
          "data": {
            "text/plain": [
              "('a', 'b', ('a', 'b'))"
            ]
          },
          "metadata": {},
          "execution_count": 97
        }
      ],
      "source": [
        "t2 = ('a', 'b', ('a', 'b'))\n",
        "t2"
      ]
    },
    {
      "cell_type": "code",
      "execution_count": 101,
      "metadata": {
        "id": "8O_SAM9GO5bU",
        "colab": {
          "base_uri": "https://localhost:8080/"
        },
        "outputId": "6a919d54-0a94-4a4e-9829-d3e8c06c4f93"
      },
      "outputs": [
        {
          "output_type": "execute_result",
          "data": {
            "text/plain": [
              "1"
            ]
          },
          "metadata": {},
          "execution_count": 101
        }
      ],
      "source": [
        "t1[0]\n"
      ]
    },
    {
      "cell_type": "code",
      "execution_count": 103,
      "metadata": {
        "id": "FAp4AGnUO5bU",
        "colab": {
          "base_uri": "https://localhost:8080/"
        },
        "outputId": "8ffbb200-c07a-4b68-afa3-fdf4f09d6d26"
      },
      "outputs": [
        {
          "output_type": "execute_result",
          "data": {
            "text/plain": [
              "5"
            ]
          },
          "metadata": {},
          "execution_count": 103
        }
      ],
      "source": [
        "t1[-1]"
      ]
    },
    {
      "cell_type": "code",
      "execution_count": 105,
      "metadata": {
        "id": "jsJjxFqAO5bU",
        "colab": {
          "base_uri": "https://localhost:8080/",
          "height": 166
        },
        "outputId": "ce4823ac-caac-4888-d171-4a7a68f33df9"
      },
      "outputs": [
        {
          "output_type": "error",
          "ename": "TypeError",
          "evalue": "ignored",
          "traceback": [
            "\u001b[0;31m---------------------------------------------------------------------------\u001b[0m",
            "\u001b[0;31mTypeError\u001b[0m                                 Traceback (most recent call last)",
            "\u001b[0;32m<ipython-input-105-ccafd70af6af>\u001b[0m in \u001b[0;36m<module>\u001b[0;34m()\u001b[0m\n\u001b[0;32m----> 1\u001b[0;31m \u001b[0mt1\u001b[0m\u001b[0;34m[\u001b[0m\u001b[0;36m0\u001b[0m\u001b[0;34m]\u001b[0m \u001b[0;34m=\u001b[0m \u001b[0;36m3\u001b[0m \u001b[0;31m# 튜플의 원소를 변경해보자.\u001b[0m\u001b[0;34m\u001b[0m\u001b[0;34m\u001b[0m\u001b[0m\n\u001b[0m",
            "\u001b[0;31mTypeError\u001b[0m: 'tuple' object does not support item assignment"
          ]
        }
      ],
      "source": [
        "t1[0] = 3 # 튜플의 원소를 변경해보자."
      ]
    },
    {
      "cell_type": "code",
      "execution_count": 106,
      "metadata": {
        "id": "mVCdo2QZO5bV",
        "colab": {
          "base_uri": "https://localhost:8080/"
        },
        "outputId": "35fa1fec-c7d6-4aa8-827c-b5d15b3bf65f"
      },
      "outputs": [
        {
          "output_type": "execute_result",
          "data": {
            "text/plain": [
              "(1, 2, 3, 4)"
            ]
          },
          "metadata": {},
          "execution_count": 106
        }
      ],
      "source": [
        "# 그럼 tuple의 더하기, 곱하기는 어떻게 될까?\n",
        "t = (1, 2)\n",
        "t2 = (3, 4)\n",
        "t +t2"
      ]
    },
    {
      "cell_type": "code",
      "execution_count": 107,
      "metadata": {
        "id": "PsUzdZPPO5bV",
        "colab": {
          "base_uri": "https://localhost:8080/"
        },
        "outputId": "e454c0b4-da1f-41cb-ccbd-55d8adc15d91"
      },
      "outputs": [
        {
          "output_type": "execute_result",
          "data": {
            "text/plain": [
              "(3, 4, 3, 4, 3, 4)"
            ]
          },
          "metadata": {},
          "execution_count": 107
        }
      ],
      "source": [
        "t2 * 3"
      ]
    },
    {
      "cell_type": "code",
      "execution_count": 108,
      "metadata": {
        "id": "TEneYuG-O5bV",
        "colab": {
          "base_uri": "https://localhost:8080/"
        },
        "outputId": "a5e7dbba-0132-4faa-f79b-8b727153b062"
      },
      "outputs": [
        {
          "output_type": "execute_result",
          "data": {
            "text/plain": [
              "6"
            ]
          },
          "metadata": {},
          "execution_count": 108
        }
      ],
      "source": [
        "len(t * 3)"
      ]
    },
    {
      "cell_type": "markdown",
      "metadata": {
        "id": "RMSt8JFyO5bV"
      },
      "source": [
        "### 3.3 집합(Set)\n",
        "\n",
        "- 집합 자료형은 정말 말그대로 수학에서 배우는 집합 그 자체이다.\n",
        "\n",
        "\n",
        "- 수학에서는 집합을 {}로 표시했지만, 파이썬에서는 안타까운 이유로 {}를 사용하긴 하는데 그냥 사용할 수는 없다. 왜냐면 사전(Dictionary) 자료형도 {}를 사용하기 때문이다. 이에 대해서는 뒤에 자세히 배운다.\n",
        "\n",
        "\n",
        "- 공집합을 생성할 때는 *반드시* set()으로 생성해야 한다. {}로 생성하면 빈 사전이 생성된다.\n",
        "\n",
        "\n",
        "e.g. {1, 2, 3} : 집합, {'a':1, 'b':2} : 사전\n",
        "\n",
        "\n",
        "- 집합의 연산자인 교집합, 합집합, 차집합을 모두 지원한다.\n",
        "\n",
        "- 집합의 특징이 2가지 있는데, 이 특징이 리스트와의 차이점이라 사용한다. 첫번째 특징이 집합 자료형을 사용하는 주된 이유이다.\n",
        "\n",
        "1) 집합은 원소의 중복을 허용하지 않는다. 즉, **원소의 종류**를 나타내기 좋다.\n",
        "\n",
        "2) 집합은 원소의 순서가 존재하지 않는다. 즉, 원소의 index가 없다."
      ]
    },
    {
      "cell_type": "code",
      "execution_count": 109,
      "metadata": {
        "id": "ugViYdbVO5bV",
        "colab": {
          "base_uri": "https://localhost:8080/"
        },
        "outputId": "7318a8a8-3000-4d0b-f76a-e3b6b9178e1c"
      },
      "outputs": [
        {
          "output_type": "execute_result",
          "data": {
            "text/plain": [
              "({1, 2, 3}, set)"
            ]
          },
          "metadata": {},
          "execution_count": 109
        }
      ],
      "source": [
        "# 1, 2, 3을 원소로 가지는 집합을 만들어 봅시다.\n",
        "s = {1,2,3}\n",
        "s, type(s)"
      ]
    },
    {
      "cell_type": "code",
      "source": [
        "s1 =set()\n",
        "s1,type(s1)"
      ],
      "metadata": {
        "colab": {
          "base_uri": "https://localhost:8080/"
        },
        "id": "1Tg4g8Lx1Qao",
        "outputId": "f8aba199-2761-4ed6-d9b5-b6c8c9d6b912"
      },
      "execution_count": 112,
      "outputs": [
        {
          "output_type": "execute_result",
          "data": {
            "text/plain": [
              "(set(), set)"
            ]
          },
          "metadata": {},
          "execution_count": 112
        }
      ]
    },
    {
      "cell_type": "code",
      "execution_count": 110,
      "metadata": {
        "id": "dBDYK_ohO5bV",
        "colab": {
          "base_uri": "https://localhost:8080/",
          "height": 166
        },
        "outputId": "3bc5a3b6-856f-4929-de6d-c3e8efd1380f"
      },
      "outputs": [
        {
          "output_type": "error",
          "ename": "TypeError",
          "evalue": "ignored",
          "traceback": [
            "\u001b[0;31m---------------------------------------------------------------------------\u001b[0m",
            "\u001b[0;31mTypeError\u001b[0m                                 Traceback (most recent call last)",
            "\u001b[0;32m<ipython-input-110-119c3881ee56>\u001b[0m in \u001b[0;36m<module>\u001b[0;34m()\u001b[0m\n\u001b[0;32m----> 1\u001b[0;31m \u001b[0ms\u001b[0m\u001b[0;34m[\u001b[0m\u001b[0;36m1\u001b[0m\u001b[0;34m]\u001b[0m \u001b[0;31m# 2가 나올것 같지만...\u001b[0m\u001b[0;34m\u001b[0m\u001b[0;34m\u001b[0m\u001b[0m\n\u001b[0m",
            "\u001b[0;31mTypeError\u001b[0m: 'set' object is not subscriptable"
          ]
        }
      ],
      "source": [
        "s[1] # 2가 나올것 같지만... ## indexing이 안 됨.\n"
      ]
    },
    {
      "cell_type": "markdown",
      "metadata": {
        "id": "WmGyeSuhO5bV"
      },
      "source": [
        "### 집합의 연산"
      ]
    },
    {
      "cell_type": "code",
      "execution_count": 113,
      "metadata": {
        "id": "LSFUeMa9O5bV"
      },
      "outputs": [],
      "source": [
        "s1 = {1, 2, 3, 4, 5}\n",
        "s2 = {3, 4, 5, 6, 7}"
      ]
    },
    {
      "cell_type": "markdown",
      "metadata": {
        "id": "WnrDIPZrO5bV"
      },
      "source": [
        "#### 교집합"
      ]
    },
    {
      "cell_type": "code",
      "execution_count": 114,
      "metadata": {
        "id": "8SsQsOHmO5bV",
        "colab": {
          "base_uri": "https://localhost:8080/"
        },
        "outputId": "89757c76-fa47-4a82-97c9-d6647b787756"
      },
      "outputs": [
        {
          "output_type": "execute_result",
          "data": {
            "text/plain": [
              "{3, 4, 5}"
            ]
          },
          "metadata": {},
          "execution_count": 114
        }
      ],
      "source": [
        "# s1과 s2의 교집합\n",
        "s1 & s2"
      ]
    },
    {
      "cell_type": "code",
      "execution_count": 115,
      "metadata": {
        "id": "_e8JpnMIO5bV",
        "colab": {
          "base_uri": "https://localhost:8080/"
        },
        "outputId": "bed05b58-defe-47cc-d819-8ad9ea464f3d"
      },
      "outputs": [
        {
          "output_type": "execute_result",
          "data": {
            "text/plain": [
              "{3, 4, 5}"
            ]
          },
          "metadata": {},
          "execution_count": 115
        }
      ],
      "source": [
        "s1.intersection(s2) # s1과 s2의 자리를 바꿔서 당연히 같다.\n"
      ]
    },
    {
      "cell_type": "markdown",
      "metadata": {
        "id": "GJ0rMWooO5bV"
      },
      "source": [
        "#### 합집합"
      ]
    },
    {
      "cell_type": "code",
      "execution_count": 116,
      "metadata": {
        "id": "0jHuLjbyO5bV",
        "colab": {
          "base_uri": "https://localhost:8080/"
        },
        "outputId": "06b93454-0584-4733-c536-d761a5e17c01"
      },
      "outputs": [
        {
          "output_type": "execute_result",
          "data": {
            "text/plain": [
              "{1, 2, 3, 4, 5, 6, 7}"
            ]
          },
          "metadata": {},
          "execution_count": 116
        }
      ],
      "source": [
        "# s1과 s2의 합집합\n",
        "s1 | s2"
      ]
    },
    {
      "cell_type": "code",
      "execution_count": null,
      "metadata": {
        "id": "jme0x2pQO5bV"
      },
      "outputs": [],
      "source": [
        "s1 + s2 # 많이 혼동한다."
      ]
    },
    {
      "cell_type": "code",
      "execution_count": 117,
      "metadata": {
        "id": "mPEfrsc4O5bV",
        "colab": {
          "base_uri": "https://localhost:8080/"
        },
        "outputId": "38491b9c-9934-4755-c2ea-06800c913409"
      },
      "outputs": [
        {
          "output_type": "execute_result",
          "data": {
            "text/plain": [
              "{1, 2, 3, 4, 5, 6, 7}"
            ]
          },
          "metadata": {},
          "execution_count": 117
        }
      ],
      "source": [
        "s1.union(s2)\n"
      ]
    },
    {
      "cell_type": "markdown",
      "metadata": {
        "id": "--unkqy_O5bV"
      },
      "source": [
        "#### 차집합"
      ]
    },
    {
      "cell_type": "code",
      "execution_count": 118,
      "metadata": {
        "id": "2mAduFkXO5bV",
        "colab": {
          "base_uri": "https://localhost:8080/"
        },
        "outputId": "13d5aa5c-aa35-454d-ef3b-94b1b075fc16"
      },
      "outputs": [
        {
          "output_type": "execute_result",
          "data": {
            "text/plain": [
              "{1, 2}"
            ]
          },
          "metadata": {},
          "execution_count": 118
        }
      ],
      "source": [
        "# s1과 s2의 차집합\n",
        "s1 -s2"
      ]
    },
    {
      "cell_type": "code",
      "execution_count": 119,
      "metadata": {
        "id": "F3N23lb4O5bV",
        "colab": {
          "base_uri": "https://localhost:8080/"
        },
        "outputId": "6ca5e418-5fbe-4605-fb7f-4f5ca44ddddf"
      },
      "outputs": [
        {
          "output_type": "execute_result",
          "data": {
            "text/plain": [
              "{6, 7}"
            ]
          },
          "metadata": {},
          "execution_count": 119
        }
      ],
      "source": [
        "s2 - s1 # 당연히 다르다."
      ]
    },
    {
      "cell_type": "markdown",
      "metadata": {
        "id": "7hOIQgpFO5bV"
      },
      "source": [
        "### 집합의 원소의 uniqueness를 활용하는 경우. "
      ]
    },
    {
      "cell_type": "code",
      "execution_count": 123,
      "metadata": {
        "id": "HqySSPBvO5bV",
        "colab": {
          "base_uri": "https://localhost:8080/"
        },
        "outputId": "977899f1-6705-439e-c2ba-be93303ef912"
      },
      "outputs": [
        {
          "output_type": "execute_result",
          "data": {
            "text/plain": [
              "11"
            ]
          },
          "metadata": {},
          "execution_count": 123
        }
      ],
      "source": [
        "#리스트 L에 있는 서로 다른 원소의 개수는?\n",
        "L = [1,1,2,3,3,4,54,5,6,67,78,8,9,1]\n",
        "len(set(L)) #type conversion"
      ]
    },
    {
      "cell_type": "markdown",
      "metadata": {
        "id": "25mFKmh_O5bV"
      },
      "source": [
        "### 집합 관련 함수"
      ]
    },
    {
      "cell_type": "markdown",
      "metadata": {
        "id": "V5MEBAjCO5bV"
      },
      "source": [
        "#### 집합에 원소 하나 추가하기 add()"
      ]
    },
    {
      "cell_type": "code",
      "execution_count": 125,
      "metadata": {
        "id": "hUpQAqlbO5bV",
        "colab": {
          "base_uri": "https://localhost:8080/"
        },
        "outputId": "a3084537-6c71-409b-f353-b67ff2290536"
      },
      "outputs": [
        {
          "output_type": "execute_result",
          "data": {
            "text/plain": [
              "{2}"
            ]
          },
          "metadata": {},
          "execution_count": 125
        }
      ],
      "source": [
        "s = set()\n",
        "s.add(2)\n",
        "s"
      ]
    },
    {
      "cell_type": "markdown",
      "metadata": {
        "id": "W3DEwhY9O5bV"
      },
      "source": [
        "#### 집합에 여러 원소 추가하기 update()"
      ]
    },
    {
      "cell_type": "code",
      "execution_count": 127,
      "metadata": {
        "id": "67gir0ztO5bW",
        "colab": {
          "base_uri": "https://localhost:8080/"
        },
        "outputId": "ca9ca24c-4992-4b75-ab11-9941708b5426"
      },
      "outputs": [
        {
          "output_type": "execute_result",
          "data": {
            "text/plain": [
              "{1, 2, 3, 4, 5}"
            ]
          },
          "metadata": {},
          "execution_count": 127
        }
      ],
      "source": [
        "s = {1, 2, 3}\n",
        "s.update({4, 5}) #sequence 가능( list,tuple...)\n",
        "s"
      ]
    },
    {
      "cell_type": "markdown",
      "metadata": {
        "id": "Vr00geloO5bW"
      },
      "source": [
        "#### 집합에서 원소 제거하기 remove()"
      ]
    },
    {
      "cell_type": "code",
      "execution_count": 128,
      "metadata": {
        "id": "ujNDUbzOO5bW",
        "colab": {
          "base_uri": "https://localhost:8080/"
        },
        "outputId": "84d2fe9f-d676-4855-fc6c-aaf9c1d5aa8b"
      },
      "outputs": [
        {
          "output_type": "execute_result",
          "data": {
            "text/plain": [
              "{1, 2, 4, 5}"
            ]
          },
          "metadata": {},
          "execution_count": 128
        }
      ],
      "source": [
        "s.remove(3)\n",
        "s"
      ]
    },
    {
      "cell_type": "markdown",
      "metadata": {
        "id": "OcKajPQpO5bW"
      },
      "source": [
        "### 4. 사전(Dictionary) (**)\n",
        "\n",
        "\n",
        "\n",
        "**파이썬에서 리스트와 함께 굉장히 많이 사용되는 구조. 특히 이번 교육과정 중에 많이 사용되니 꼭 마스터하는 것을 추천한다.**\n",
        "\n",
        "\n",
        "- 파이썬에서 제공하는 사전 자료형은 key - value 방법을 통해 저장한다.\n",
        "\n",
        "| name | code |\n",
        "| --- | --- |\n",
        "| \"John\" | 0011 |\n",
        "| \"Maria\" | 1234 |\n",
        "\n",
        "\n",
        "- 이런 table concept을 의미하며, 정수 index가 아닌 key값을 통해서 value를 access한다.\n",
        "\n",
        "> key-value 방식으로 저장을 하는 것으로 얻는 이점은?\n",
        "\n",
        "> A. 순서가 아닌 의미가 있는 값을 통해서 데이터 접근이 가능하다.\n",
        "\n",
        "- 같은 말로 Hash Table이라고 불리며 데이터 관리에서 굉장히 중요한 개념이다.\n",
        "\n",
        "\n",
        "- 파이썬에서 사전 자료형은 {}을 이용하여 표현하는데, 집합과의 차이점을 두기 위해 원소에 *반드시* <kbd>:</kbd>가 들어가야 한다.\n",
        "\n",
        "\n",
        "- 사전을 표현할 때는 {key : value, key2 : value2, ... } 형태로 표현한다.\n",
        "\n",
        "e.g. {'a' : 1', \"b\" : 3}"
      ]
    },
    {
      "cell_type": "markdown",
      "metadata": {
        "id": "I5tpF-GuO5bW"
      },
      "source": [
        "### 사전을 만드는 방법"
      ]
    },
    {
      "cell_type": "code",
      "execution_count": 129,
      "metadata": {
        "id": "mtQP3IhaO5bW"
      },
      "outputs": [],
      "source": [
        "D = {\"major\": \"CSE\", \"name\":\"Dong Hee\"}\n"
      ]
    },
    {
      "cell_type": "code",
      "execution_count": 133,
      "metadata": {
        "id": "kiYvkSfLO5bW",
        "colab": {
          "base_uri": "https://localhost:8080/"
        },
        "outputId": "406d9c08-6bf3-493c-85bc-ca59c3907c04"
      },
      "outputs": [
        {
          "output_type": "execute_result",
          "data": {
            "text/plain": [
              "{'Jhon': '0011', 'Maria': '1234'}"
            ]
          },
          "metadata": {},
          "execution_count": 133
        }
      ],
      "source": [
        "# 위에 나온 테이블 예시를 사전으로 만들어봅니다.\n",
        "D = {\"Jhon\":\"0011\",\"Maria\":\"1234\"}\n",
        "D"
      ]
    },
    {
      "cell_type": "code",
      "execution_count": 134,
      "metadata": {
        "id": "MJWxWTZeO5bW",
        "colab": {
          "base_uri": "https://localhost:8080/"
        },
        "outputId": "f8f03c83-4bf3-4b32-9539-90dab68718c5"
      },
      "outputs": [
        {
          "output_type": "execute_result",
          "data": {
            "text/plain": [
              "{'Jhon': '0011', 'Maria': '1234', 'a': 3}"
            ]
          },
          "metadata": {},
          "execution_count": 134
        }
      ],
      "source": [
        "# 사전 D에 key가 'a'이고 value가 3인 원소를 추가하자.\n",
        "# 만약에 indexing하려는 key가 존재하지 않는 경우엔, assign을 하게 되면 key-value pair가 추가됩니다.\n",
        "# 아닌 경우에는 assign 하게되면 value가 없데이트 됩니다.\n",
        "D['a'] = 3\n",
        "D"
      ]
    },
    {
      "cell_type": "code",
      "execution_count": null,
      "metadata": {
        "id": "fQjnyillO5bW"
      },
      "outputs": [],
      "source": [
        "D[\"a\"] # key값이 이미 존재하는 경우에는 key값을 통한 indexing이 되며, key값이 존재하지 않을 때는 assignment를 사용하여 원소를 추가한다."
      ]
    },
    {
      "cell_type": "code",
      "execution_count": 135,
      "metadata": {
        "id": "-TTBHEUYO5bW",
        "colab": {
          "base_uri": "https://localhost:8080/"
        },
        "outputId": "f6637642-293b-4a6e-8b93-df9f3476df64"
      },
      "outputs": [
        {
          "output_type": "execute_result",
          "data": {
            "text/plain": [
              "{'a': 2, 'b': 3}"
            ]
          },
          "metadata": {},
          "execution_count": 135
        }
      ],
      "source": [
        "D2 = {'a' : 1 , 'a' : 2, 'b': 3} # 무엇이 문제일까? - key는 unique\n",
        "# key가 될 수 있는 data type은 int, float, str, tuple ..\n",
        "D2"
      ]
    },
    {
      "cell_type": "markdown",
      "metadata": {
        "id": "bS4jvsvKO5bW"
      },
      "source": [
        "> **TIP** 사전을 만들 때 key는 중복이 있으면 절대 안된다.\n",
        "\n",
        "> 사전에서 key가 될 수 있는 data type은 **immutable**이어야 한다."
      ]
    },
    {
      "cell_type": "markdown",
      "metadata": {
        "id": "xvva48l5O5bW"
      },
      "source": [
        "### 사전 관련 함수"
      ]
    },
    {
      "cell_type": "markdown",
      "metadata": {
        "id": "AuiC0cXuO5bW"
      },
      "source": [
        "#### 사전의 모든 key값들 보기 keys()"
      ]
    },
    {
      "cell_type": "code",
      "execution_count": 136,
      "metadata": {
        "id": "XeYkcSA_O5bW",
        "colab": {
          "base_uri": "https://localhost:8080/"
        },
        "outputId": "26b6aefd-98c0-4d4f-e4ba-90d6be48d2ff"
      },
      "outputs": [
        {
          "output_type": "execute_result",
          "data": {
            "text/plain": [
              "dict_keys(['name', 'phone', 'birth'])"
            ]
          },
          "metadata": {},
          "execution_count": 136
        }
      ],
      "source": [
        "D = {'name': 'kim', 'phone': '01012345679', 'birth': '1234'}\n",
        "D.keys()"
      ]
    },
    {
      "cell_type": "markdown",
      "metadata": {
        "id": "qzv5wDxPO5bW"
      },
      "source": [
        "#### 사전의 모든 value들 보기 values()"
      ]
    },
    {
      "cell_type": "code",
      "execution_count": 137,
      "metadata": {
        "id": "E6TL46qWO5bW",
        "colab": {
          "base_uri": "https://localhost:8080/"
        },
        "outputId": "ac55abd9-bec9-44ea-9a11-0ad2e85c0b45"
      },
      "outputs": [
        {
          "output_type": "execute_result",
          "data": {
            "text/plain": [
              "dict_values(['kim', '01012345679', '1234'])"
            ]
          },
          "metadata": {},
          "execution_count": 137
        }
      ],
      "source": [
        "D.values()"
      ]
    },
    {
      "cell_type": "markdown",
      "metadata": {
        "id": "wYi8lJzZO5bW"
      },
      "source": [
        "#### 사전의 모든 key, value 쌍 보기 items()"
      ]
    },
    {
      "cell_type": "code",
      "execution_count": 141,
      "metadata": {
        "id": "S1MvTj0ZO5bW",
        "colab": {
          "base_uri": "https://localhost:8080/"
        },
        "outputId": "16099d78-9ed4-4b41-e684-06a5cb874fc6"
      },
      "outputs": [
        {
          "output_type": "execute_result",
          "data": {
            "text/plain": [
              "dict_items([('name', 'kim'), ('phone', '01012345679'), ('birth', '1234')])"
            ]
          },
          "metadata": {},
          "execution_count": 141
        }
      ],
      "source": [
        "D.items()  #list아님\n"
      ]
    },
    {
      "cell_type": "markdown",
      "metadata": {
        "id": "KbvtmF_RO5bX"
      },
      "source": [
        "#### 사전의 원소 가져오기 get()"
      ]
    },
    {
      "cell_type": "code",
      "execution_count": 144,
      "metadata": {
        "id": "RzEoscRHO5bX",
        "colab": {
          "base_uri": "https://localhost:8080/",
          "height": 35
        },
        "outputId": "8503d61b-86ad-485b-d40d-7f81c1020a4e"
      },
      "outputs": [
        {
          "output_type": "execute_result",
          "data": {
            "text/plain": [
              "'Lee'"
            ],
            "application/vnd.google.colaboratory.intrinsic+json": {
              "type": "string"
            }
          },
          "metadata": {},
          "execution_count": 144
        }
      ],
      "source": [
        "# D['name']과 같다. \n",
        "D.get(\"surname\",\"Lee\") # get 함수를 사용하면, default 값을 지정할 수 있다. ('Lee')"
      ]
    },
    {
      "cell_type": "code",
      "source": [
        "D"
      ],
      "metadata": {
        "colab": {
          "base_uri": "https://localhost:8080/"
        },
        "id": "do28LfqF41-0",
        "outputId": "01dffe3e-bdbf-48ba-c6b5-3fa69cbc1754"
      },
      "execution_count": 148,
      "outputs": [
        {
          "output_type": "execute_result",
          "data": {
            "text/plain": [
              "{'birth': '1234', 'name': 'kim', 'phone': '01012345679'}"
            ]
          },
          "metadata": {},
          "execution_count": 148
        }
      ]
    },
    {
      "cell_type": "markdown",
      "metadata": {
        "id": "PgZpX_dXO5bX"
      },
      "source": [
        "### Sequence에 해당 데이터가 존재하는지 확인하기 : `in` operator\n",
        "\n",
        "\n",
        "- in이라는 operator는 모든 연속형 데이터 타입에 사용할 수 있다.\n",
        "\n",
        "\n",
        "- 사전의 경우에는 key값을 대상으로 하고, 리스트, 튜플, 집합, 문자열에 대해서는 해당 원소가 존재하는지 찾아서 True / False 를 알려준다."
      ]
    },
    {
      "cell_type": "code",
      "execution_count": 147,
      "metadata": {
        "id": "Sx2dWMd5O5bX",
        "colab": {
          "base_uri": "https://localhost:8080/"
        },
        "outputId": "7bcd7460-af9a-4c48-ad0d-e92a67414d91"
      },
      "outputs": [
        {
          "output_type": "execute_result",
          "data": {
            "text/plain": [
              "False"
            ]
          },
          "metadata": {},
          "execution_count": 147
        }
      ],
      "source": [
        "\"name\" in D #key값만 조회"
      ]
    },
    {
      "cell_type": "code",
      "execution_count": 146,
      "metadata": {
        "id": "rnlSH8PIO5bX",
        "colab": {
          "base_uri": "https://localhost:8080/"
        },
        "outputId": "46a9b3f4-efd1-4c95-b04a-a022728fb999"
      },
      "outputs": [
        {
          "output_type": "execute_result",
          "data": {
            "text/plain": [
              "False"
            ]
          },
          "metadata": {},
          "execution_count": 146
        }
      ],
      "source": [
        "\"major\" in D"
      ]
    },
    {
      "cell_type": "code",
      "execution_count": null,
      "metadata": {
        "id": "AFXTWwHCO5bX"
      },
      "outputs": [],
      "source": [
        "# 리스트, 튜플, 집합에서도 테스트\n"
      ]
    }
  ],
  "metadata": {
    "kernelspec": {
      "display_name": "Python 3",
      "language": "python",
      "name": "python3"
    },
    "language_info": {
      "codemirror_mode": {
        "name": "ipython",
        "version": 3
      },
      "file_extension": ".py",
      "mimetype": "text/x-python",
      "name": "python",
      "nbconvert_exporter": "python",
      "pygments_lexer": "ipython3",
      "version": "3.8.8"
    },
    "colab": {
      "name": "Chapter.01 파이썬 프로그래밍-04. Data Type (실습).ipynb의 사본",
      "provenance": [],
      "collapsed_sections": [],
      "include_colab_link": true
    }
  },
  "nbformat": 4,
  "nbformat_minor": 0
}

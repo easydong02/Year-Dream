{
  "cells": [
    {
      "cell_type": "markdown",
      "metadata": {
        "id": "view-in-github",
        "colab_type": "text"
      },
      "source": [
        "<a href=\"https://colab.research.google.com/github/easydong02/Year-Dream/blob/main/Numpy.ipynb\" target=\"_parent\"><img src=\"https://colab.research.google.com/assets/colab-badge.svg\" alt=\"Open In Colab\"/></a>"
      ]
    },
    {
      "cell_type": "markdown",
      "metadata": {
        "id": "TovVxwraoSLS"
      },
      "source": [
        "# Numpy (Numeric python)\n",
        "> - 패키지 이름과 같이 **수리적 파이썬 활용**을 위한 파이썬 패키지\n",
        "> - **선형대수학 구현**과 **과학적 컴퓨팅 연산**을 위한 함수를 제공\n",
        "> - (key) `nparray` 다차원 배열을 사용하여 **벡터의 산술 연산**이 가능\n",
        "\n",
        "> - **브로드캐스팅**을 활용하여 shape(형태 혹은 모양)이 다른 데이터의 연산이 가능\n",
        ">> - 기존 언어에서는 제공 X\n",
        ">> - 굉장히 파워풀한 기능으로서 빅데이터 연산에 굉장히 효율이 좋음     "
      ]
    },
    {
      "cell_type": "markdown",
      "metadata": {
        "id": "eFAdYM5doSLU"
      },
      "source": [
        "## Numpy 설치 와 import\n",
        "> - 선행 학습을 통해 클래스와 함수에서 클래스를 불러들여 사용할 수 있다고 배웠습니다.\n",
        "> - 다만 직접 작성한 클래스가 아닐경우, 그리고 현재 컴퓨터에 사용해야 할 패키지가 없을경우 간단한 명령어로 설치가능.\n",
        "\n",
        ">> - `pip`, `conda` 명령어 : python 라이브러리 관리 프로그램으로 오픈소스라이브러리를 간편하게 설치 할 수 있도록 하는 명령어  \n",
        "\n",
        "> 콘솔창에서 실행 시  \n",
        "**`pip` `install` `[패키지명]`** 혹은  \n",
        "**`conda` `install` `[패키지명]`**\n",
        "\n",
        "> 주피터 노트북으로 실행 시  \n",
        "**`!pip` `install` `[패키지명]`**  \n",
        "\n",
        "아나콘다 환경으로 python 환경설정 시 기본적으로 Numpy 설치가 되어있음"
      ]
    },
    {
      "cell_type": "code",
      "execution_count": null,
      "metadata": {
        "ExecuteTime": {
          "end_time": "2021-06-19T02:18:19.360356Z",
          "start_time": "2021-06-19T02:18:16.501938Z"
        },
        "id": "kYtIMBqGoSLV"
      },
      "outputs": [],
      "source": [
        "# 주피터 노트북에서 Numpy 설치\n",
        "!pip install numpy"
      ]
    },
    {
      "cell_type": "code",
      "execution_count": null,
      "metadata": {
        "ExecuteTime": {
          "end_time": "2021-08-03T05:00:26.054538Z",
          "start_time": "2021-08-03T05:00:26.051907Z"
        },
        "id": "FDoRhA0AoSLW"
      },
      "outputs": [],
      "source": [
        "# Numpy 사용을 위해 패키지 불러들이기\n",
        "import numpy as np\n",
        "# 관례적으로 np라는 약자를 많이 사용하게 됩니다.\n",
        "# 파이썬을 사용하는 대부분의 유저들이 사용하고 있는 닉네임이니 이건 꼭 지켜서 사용해주시는 것을 추천드립니다."
      ]
    },
    {
      "cell_type": "code",
      "source": [
        "test_list=\"안녕하세요\"\n",
        "# 리스트는 순서가 있음\n",
        "test_list[0]\n"
      ],
      "metadata": {
        "id": "2xi3OA9gpwAR"
      },
      "execution_count": null,
      "outputs": []
    },
    {
      "cell_type": "markdown",
      "metadata": {
        "id": "5C-U7sCkoSLX"
      },
      "source": [
        "## 데이터분석을 위한 잠깐의 선형대수학\n",
        "numpy는 기본적으로 수리적 컴퓨팅을 위한 패키지 입니다. 선형대수학을 약간만 이해한다면 데이터를 훨씬 더 깊이있게 다룰 수 있습니다.  \n",
        "<img src=\"https://drive.google.com/uc?id=1FIVLOIP-X72PeWS7tgChMEoWCUYtyOqa\">\n",
        "\n",
        "출처 : https://art28.github.io/blog/linear-algebra-1/"
      ]
    },
    {
      "cell_type": "markdown",
      "metadata": {
        "id": "UYXsqbcRoSLX"
      },
      "source": [
        "## 데이터의 구분에 따른 표현 방법과 예시\n",
        "\n",
        "#### 스칼라\n",
        "    1, 3.14, 실수 혹은 정수  \n",
        "    \n",
        "#### 벡터\n",
        "    [1, 2, 3, 4], 문자열  \n",
        "    \n",
        "#### 3 X 4 매트릭스\n",
        "    [[1, 2, 3, 4],\n",
        "     [5, 6, 7, 8],\n",
        "     [9, 0, 11, 12]]\n",
        "     \n",
        "#### 2 X 3 X 4 텐서\n",
        "    [[[1, 2, 3, 4],\n",
        "     [5, 6, 7, 8],\n",
        "     [9, 0, 11, 12]],\n",
        "     [[1, 2, 3, 4], \n",
        "     [5, 6, 7, 8],\n",
        "     [9, 0, 11, 12]]]"
      ]
    },
    {
      "cell_type": "markdown",
      "metadata": {
        "ExecuteTime": {
          "end_time": "2021-08-03T02:31:58.163370Z",
          "start_time": "2021-08-03T02:31:58.043519Z"
        },
        "id": "J38i-CURoSLY"
      },
      "source": [
        "### 데이터로 표현한 선형대수학\n",
        "<img src=\"https://drive.google.com/uc?id=1JXgwhjipPcV147LPIrC2CgT0TmS4jT1R\">\n",
        "\n",
        "출처 : https://m.blog.naver.com/nabilera1/221978354680"
      ]
    },
    {
      "cell_type": "markdown",
      "metadata": {
        "id": "Bm27G7ieoSLY"
      },
      "source": [
        "### 데이터 형태에 따른 사칙연산\n",
        "\n",
        "> 스칼라 +, -, *, / -> 결과도 스칼라  \n",
        "벡터 +, -, 내적 -> +, - 결과는 벡터, 내적 결과는 스칼라  \n",
        "매트릭스 +, -, *, /  \n",
        "텐서 +, -, *, /  "
      ]
    },
    {
      "cell_type": "markdown",
      "metadata": {
        "id": "Dy_RQ0asoSLZ"
      },
      "source": [
        "### 데이터분석에 자주 사용하는 특수한 연산\n",
        "벡터와 벡터의 내적\n",
        "    \n",
        "$$\\begin{bmatrix}1 & 2 & 3 & 4 \\end{bmatrix} \\times \\begin{bmatrix}1 \\\\ 2 \\\\ 3 \\\\ 4 \\end{bmatrix} = 1 * 1 + \\\n",
        "2 * 2 + 3 * 3 + 4 * 4 = 30$$\n",
        "# $$ A^TA $$"
      ]
    },
    {
      "cell_type": "markdown",
      "metadata": {
        "id": "m2e1tmrgoSLa"
      },
      "source": [
        "#### 벡터와 벡터의 내적이 이루어지려면\n",
        "    \n",
        "    1. 벡터가 마주하는 shape의 갯수(길이)가 같아야 합니다.\n",
        "    2. 연산 앞에 위치한 벡터는 전치(transpose) 되어야 합니다.\n",
        "<img src=\"https://drive.google.com/uc?id=1VdfUo6iFHpTrPd_5RSjJLjlrX_5zWO0v\" height=\"300px\" width=\"300px\">  \n",
        "\n",
        "출처 : https://ko.wikipedia.org/wiki/%EC%A0%84%EC%B9%98%ED%96%89%EB%A0%AC  "
      ]
    },
    {
      "cell_type": "markdown",
      "metadata": {
        "id": "uxN5tTxKoSLa"
      },
      "source": [
        "#### 벡터 내적으로 방정식 구현\n",
        "\n",
        "$$y = \\begin{bmatrix}1 & 2 & 1 \\end{bmatrix} \\times \\begin{bmatrix}x_1 \\\\ x_2 \\\\ x_3 \\\\ \\end{bmatrix} = 1 * x_1 + \\\n",
        "2 * x_2 + 1 * x_3 = x_1 + 2x_2 + x_3$$"
      ]
    },
    {
      "cell_type": "markdown",
      "metadata": {
        "id": "-peoATHWoSLb"
      },
      "source": [
        "## 브로드캐스팅\n",
        "> 파이썬 넘파이 연산은 브로드캐스팅을 지원합니다.  \n",
        "벡터연산 시 shape이 큰 벡터의 길이만큼 shape이 작은 벡터가 연장되어 연산됩니다.\n",
        "\n",
        "<img src=\"https://drive.google.com/uc?id=139z17KEUFNIoJR_-lSnnxepmJAJx--cw\" height=\"500px\" width=\"500px\">  \n",
        "\n",
        "출처 : http://www.astroml.org/book_figures/appendix/fig_broadcast_visual.html"
      ]
    },
    {
      "cell_type": "markdown",
      "metadata": {
        "id": "nV5AIDWJoSLb"
      },
      "source": [
        "## Numpy function(유니버셜 함수)\n",
        "> `numpy`는 컴퓨팅연산을 위한 다양한 연산함수를 제공합니다.  \n",
        ">> 연산함수 기본구조  \n",
        "ex) **`np.sum`**(연산대상, axis=연산방향)  \n",
        "**`dtype()`**"
      ]
    },
    {
      "cell_type": "markdown",
      "metadata": {
        "id": "keMwL4ivoSLb"
      },
      "source": [
        "### 수리연산\n",
        "- **`prod()`**\n",
        "- **`dot()`**\n",
        "- **`sum()`**\n",
        "- **`cumprod()`**\n",
        "- **`cumsum()`**\n",
        "- **`abs()`**\n",
        "- **`sqaure()`**\n",
        "- **`sqrt()`**\n",
        "- **`exp()`**\n",
        "- **`log()`**"
      ]
    },
    {
      "cell_type": "markdown",
      "metadata": {
        "id": "o7SGgjwRoSLc"
      },
      "source": [
        "### 통계연산\n",
        "- **`mean()`**\n",
        "- **`std()`**\n",
        "- **`var()`**\n",
        "- **`max()`**\n",
        "- **`min()`**\n",
        "- **`argmax()`**\n",
        "- **`argmin()`**"
      ]
    },
    {
      "cell_type": "markdown",
      "metadata": {
        "id": "GDL3QhqBoSLc"
      },
      "source": [
        "### 로직연산\n",
        "- **`arange()`**\n",
        "- **`isnan()`**\n",
        "- **`isinf()`**\n",
        "- **`unique()`**"
      ]
    },
    {
      "cell_type": "markdown",
      "metadata": {
        "id": "CmvPrKjZoSLc"
      },
      "source": [
        "### 기하\n",
        "- **`shape()`**\n",
        "- **`reshape()`**\n",
        "- **`ndim()`**\n",
        "- **`transpose()`**\n",
        "    \n",
        "각종 연산 함수 참고: https://numpy.org/doc/stable/reference/routines.math.html"
      ]
    },
    {
      "cell_type": "markdown",
      "metadata": {
        "id": "k8Vqx8oZoSLd"
      },
      "source": [
        "### numpy 함수 실습"
      ]
    },
    {
      "cell_type": "code",
      "execution_count": null,
      "metadata": {
        "ExecuteTime": {
          "end_time": "2021-09-10T05:07:46.258191Z",
          "start_time": "2021-09-10T05:07:46.245554Z"
        },
        "id": "xtB5bsZaoSLd"
      },
      "outputs": [],
      "source": [
        "# 함수 예제를 위한 데이터셋\n",
        "test_list = [1, 2, 3, 4]\n",
        "test_list2 = [[1, 3], [5, 7]]\n",
        "test_flist = [1, 3.14, -4.5]\n",
        "test_list_2nd = [[1, 2, 3],\n",
        "              [4, 5, 6],\n",
        "              [7, 8, 9]]\n",
        "\n",
        "test_list_3rd = [[[1, 2, 3, 4],\n",
        "              [5, 6, 7, 8]],\n",
        "              \n",
        "              [[1, 2, 3, 4],\n",
        "               [5, 6, 7, 8]],\n",
        "\n",
        "              [[1, 2, 3, 4],\n",
        "               [5, 6, 7, 8]]]\n",
        "test_exp = [0, 1, 10]\n",
        "test_nan = [0, np.nan, np.inf]"
      ]
    },
    {
      "cell_type": "code",
      "execution_count": null,
      "metadata": {
        "ExecuteTime": {
          "end_time": "2021-09-10T05:08:56.765908Z",
          "start_time": "2021-09-10T05:08:56.749821Z"
        },
        "colab": {
          "base_uri": "https://localhost:8080/"
        },
        "id": "9eQswVzpoSLd",
        "outputId": "f802c8e7-018c-45e6-a122-99baa868f371"
      },
      "outputs": [
        {
          "output_type": "execute_result",
          "data": {
            "text/plain": [
              "24"
            ]
          },
          "metadata": {},
          "execution_count": 3
        }
      ],
      "source": [
        "# 곱연산\n",
        "np.prod(test_list)"
      ]
    },
    {
      "cell_type": "code",
      "execution_count": null,
      "metadata": {
        "ExecuteTime": {
          "end_time": "2021-09-10T05:09:46.116420Z",
          "start_time": "2021-09-10T05:09:46.110493Z"
        },
        "id": "H0YgRL7ooSLe"
      },
      "outputs": [],
      "source": [
        "# 합연산\n"
      ]
    },
    {
      "cell_type": "code",
      "execution_count": null,
      "metadata": {
        "ExecuteTime": {
          "end_time": "2021-09-10T05:09:35.827442Z",
          "start_time": "2021-09-10T05:09:35.820458Z"
        },
        "colab": {
          "base_uri": "https://localhost:8080/"
        },
        "id": "gHt8cQR7oSLe",
        "outputId": "5ed85747-15d6-4944-9532-cd3d75ef1a65"
      },
      "outputs": [
        {
          "output_type": "execute_result",
          "data": {
            "text/plain": [
              "array([ 1,  2,  6, 24])"
            ]
          },
          "metadata": {},
          "execution_count": 4
        }
      ],
      "source": [
        "# 누적곱연산\n",
        "np.cumprod(test_list)"
      ]
    },
    {
      "cell_type": "code",
      "execution_count": null,
      "metadata": {
        "ExecuteTime": {
          "end_time": "2021-09-10T05:10:23.533814Z",
          "start_time": "2021-09-10T05:10:23.526317Z"
        },
        "colab": {
          "base_uri": "https://localhost:8080/"
        },
        "id": "b9YoCR91oSLe",
        "outputId": "c77aa7d9-c4d5-4afe-c32a-32af2a9a1a4a"
      },
      "outputs": [
        {
          "output_type": "execute_result",
          "data": {
            "text/plain": [
              "array([ 1,  3,  6, 10])"
            ]
          },
          "metadata": {},
          "execution_count": 5
        }
      ],
      "source": [
        "# 누적합연산\n",
        "# 누적수익률\n",
        "np.cumsum(test_list)"
      ]
    },
    {
      "cell_type": "code",
      "execution_count": null,
      "metadata": {
        "ExecuteTime": {
          "end_time": "2021-09-10T05:12:23.843403Z",
          "start_time": "2021-09-10T05:12:23.834717Z"
        },
        "id": "COWgbycaoSLe"
      },
      "outputs": [],
      "source": [
        "test_flist"
      ]
    },
    {
      "cell_type": "code",
      "execution_count": null,
      "metadata": {
        "ExecuteTime": {
          "end_time": "2021-09-10T05:12:11.972345Z",
          "start_time": "2021-09-10T05:12:11.963131Z"
        },
        "id": "nXGWHYRxoSLe"
      },
      "outputs": [],
      "source": [
        "# 절대값\n"
      ]
    },
    {
      "cell_type": "code",
      "execution_count": null,
      "metadata": {
        "ExecuteTime": {
          "end_time": "2021-06-19T04:07:45.726523Z",
          "start_time": "2021-06-19T04:07:45.720686Z"
        },
        "id": "mXuiLlE-oSLe"
      },
      "outputs": [],
      "source": [
        "# 제곱\n"
      ]
    },
    {
      "cell_type": "code",
      "execution_count": null,
      "metadata": {
        "ExecuteTime": {
          "end_time": "2021-06-19T04:11:03.369518Z",
          "start_time": "2021-06-19T04:11:03.358175Z"
        },
        "id": "kPxLP5YjoSLf"
      },
      "outputs": [],
      "source": [
        "# 루트\n"
      ]
    },
    {
      "cell_type": "code",
      "execution_count": null,
      "metadata": {
        "ExecuteTime": {
          "end_time": "2021-06-19T04:11:18.225586Z",
          "start_time": "2021-06-19T04:11:18.219116Z"
        },
        "id": "CXLSKkmioSLf"
      },
      "outputs": [],
      "source": [
        "# exp\n"
      ]
    },
    {
      "cell_type": "code",
      "execution_count": null,
      "metadata": {
        "ExecuteTime": {
          "end_time": "2021-08-03T05:01:19.591520Z",
          "start_time": "2021-08-03T05:01:19.585551Z"
        },
        "id": "EtpgbyhwoSLf"
      },
      "outputs": [],
      "source": [
        "# 로그\n"
      ]
    },
    {
      "cell_type": "markdown",
      "metadata": {
        "id": "oGxCvegJoSLf"
      },
      "source": [
        "## 통계값"
      ]
    },
    {
      "cell_type": "code",
      "execution_count": null,
      "metadata": {
        "ExecuteTime": {
          "end_time": "2021-09-10T05:13:37.170636Z",
          "start_time": "2021-09-10T05:13:37.164700Z"
        },
        "colab": {
          "base_uri": "https://localhost:8080/"
        },
        "id": "t05MRWYFoSLg",
        "outputId": "24fd64d3-6a0b-4dbd-ff7a-0f60aa68fb95"
      },
      "outputs": [
        {
          "output_type": "execute_result",
          "data": {
            "text/plain": [
              "[1, 2, 3, 4]"
            ]
          },
          "metadata": {},
          "execution_count": 6
        }
      ],
      "source": [
        "test_list"
      ]
    },
    {
      "cell_type": "code",
      "execution_count": null,
      "metadata": {
        "ExecuteTime": {
          "end_time": "2021-09-10T05:13:30.853608Z",
          "start_time": "2021-09-10T05:13:30.844952Z"
        },
        "id": "4La6TRqhoSLg"
      },
      "outputs": [],
      "source": [
        "# 평균\n"
      ]
    },
    {
      "cell_type": "code",
      "execution_count": null,
      "metadata": {
        "ExecuteTime": {
          "end_time": "2021-09-10T05:13:56.366791Z",
          "start_time": "2021-09-10T05:13:56.358622Z"
        },
        "id": "hwatvtPhoSLg"
      },
      "outputs": [],
      "source": [
        "# 표준편차\n"
      ]
    },
    {
      "cell_type": "code",
      "execution_count": null,
      "metadata": {
        "ExecuteTime": {
          "end_time": "2021-09-10T05:14:06.823565Z",
          "start_time": "2021-09-10T05:14:06.815675Z"
        },
        "id": "WbuQ0GOBoSLh"
      },
      "outputs": [],
      "source": [
        "# 분산\n"
      ]
    },
    {
      "cell_type": "code",
      "execution_count": null,
      "metadata": {
        "ExecuteTime": {
          "end_time": "2021-06-19T04:12:27.542508Z",
          "start_time": "2021-06-19T04:12:27.534606Z"
        },
        "id": "Su6IrPR9oSLh"
      },
      "outputs": [],
      "source": [
        "# 최대값\n"
      ]
    },
    {
      "cell_type": "code",
      "execution_count": null,
      "metadata": {
        "ExecuteTime": {
          "end_time": "2021-06-19T04:12:33.511575Z",
          "start_time": "2021-06-19T04:12:33.502964Z"
        },
        "id": "P3iO7K_zoSLh"
      },
      "outputs": [],
      "source": [
        "# 최소값\n"
      ]
    },
    {
      "cell_type": "code",
      "execution_count": null,
      "metadata": {
        "ExecuteTime": {
          "end_time": "2021-09-10T05:15:23.830359Z",
          "start_time": "2021-09-10T05:15:23.823549Z"
        },
        "colab": {
          "base_uri": "https://localhost:8080/"
        },
        "id": "SxJyqx5AoSLh",
        "outputId": "9b9f40dd-b434-416c-9b9c-ed08084d653d"
      },
      "outputs": [
        {
          "output_type": "execute_result",
          "data": {
            "text/plain": [
              "[[1, 2, 3], [4, 5, 6], [7, 8, 9]]"
            ]
          },
          "metadata": {},
          "execution_count": 12
        }
      ],
      "source": [
        "test_list_2nd"
      ]
    },
    {
      "cell_type": "code",
      "execution_count": null,
      "metadata": {
        "ExecuteTime": {
          "end_time": "2021-09-10T05:16:00.907914Z",
          "start_time": "2021-09-10T05:16:00.900907Z"
        },
        "colab": {
          "base_uri": "https://localhost:8080/"
        },
        "id": "16jOtoyboSLh",
        "outputId": "72869c08-b4fb-4af5-d759-2b0545aaf608"
      },
      "outputs": [
        {
          "output_type": "execute_result",
          "data": {
            "text/plain": [
              "3"
            ]
          },
          "metadata": {},
          "execution_count": 27
        }
      ],
      "source": [
        "# 자주 사용합니다.\n",
        "# 최대값 존재하고 있는 인덱스 넘버를 리턴\n",
        "# 출력값이 인덱스\n",
        "np.argmax(test_list)"
      ]
    },
    {
      "cell_type": "code",
      "execution_count": null,
      "metadata": {
        "ExecuteTime": {
          "end_time": "2021-09-10T05:17:31.475238Z",
          "start_time": "2021-09-10T05:17:31.468087Z"
        },
        "colab": {
          "base_uri": "https://localhost:8080/"
        },
        "id": "deZbXWeToSLh",
        "outputId": "51dcffaf-9a74-42ac-fbfc-2b75477f2140"
      },
      "outputs": [
        {
          "output_type": "execute_result",
          "data": {
            "text/plain": [
              "0"
            ]
          },
          "metadata": {},
          "execution_count": 28
        }
      ],
      "source": [
        "# 최소값 인덱스\n",
        "# argmax보다는 덜 쓰이지만 자주 보임\n",
        "np.argmin(test_list)"
      ]
    },
    {
      "cell_type": "code",
      "execution_count": null,
      "metadata": {
        "ExecuteTime": {
          "end_time": "2021-09-10T05:19:08.152130Z",
          "start_time": "2021-09-10T05:19:08.145038Z"
        },
        "colab": {
          "base_uri": "https://localhost:8080/"
        },
        "id": "_CmJkpUaoSLh",
        "outputId": "abcfbeba-fb3e-45ac-b5b1-509d355512c1"
      },
      "outputs": [
        {
          "output_type": "execute_result",
          "data": {
            "text/plain": [
              "array([0, 1, 2, 3, 4, 5, 6, 7, 8, 9])"
            ]
          },
          "metadata": {},
          "execution_count": 29
        }
      ],
      "source": [
        "# 범위설정\n",
        "# (시작포인트, 마지막포인트 + 1, 스텝수)\n",
        "# range() 함수와 동일하게 작동함\n",
        "# for i in range(0, 100, 10):\n",
        "#     print(i)\n",
        "np.arange(10)"
      ]
    },
    {
      "cell_type": "code",
      "execution_count": null,
      "metadata": {
        "ExecuteTime": {
          "end_time": "2021-09-10T05:21:51.287275Z",
          "start_time": "2021-09-10T05:21:51.279257Z"
        },
        "colab": {
          "base_uri": "https://localhost:8080/"
        },
        "id": "WXI2E7VXoSLj",
        "outputId": "396c98dc-d39f-4e19-9ccd-2ee480537336"
      },
      "outputs": [
        {
          "output_type": "execute_result",
          "data": {
            "text/plain": [
              "array([ 0.        ,  0.20408163,  0.40816327,  0.6122449 ,  0.81632653,\n",
              "        1.02040816,  1.2244898 ,  1.42857143,  1.63265306,  1.83673469,\n",
              "        2.04081633,  2.24489796,  2.44897959,  2.65306122,  2.85714286,\n",
              "        3.06122449,  3.26530612,  3.46938776,  3.67346939,  3.87755102,\n",
              "        4.08163265,  4.28571429,  4.48979592,  4.69387755,  4.89795918,\n",
              "        5.10204082,  5.30612245,  5.51020408,  5.71428571,  5.91836735,\n",
              "        6.12244898,  6.32653061,  6.53061224,  6.73469388,  6.93877551,\n",
              "        7.14285714,  7.34693878,  7.55102041,  7.75510204,  7.95918367,\n",
              "        8.16326531,  8.36734694,  8.57142857,  8.7755102 ,  8.97959184,\n",
              "        9.18367347,  9.3877551 ,  9.59183673,  9.79591837, 10.        ])"
            ]
          },
          "metadata": {},
          "execution_count": 30
        }
      ],
      "source": [
        "# 범위 데이터 생성\n",
        "# (시작포인트, 마지막포인트 + 1, 데이터갯수)\n",
        "np.linspace(0,10,50)"
      ]
    },
    {
      "cell_type": "code",
      "execution_count": null,
      "metadata": {
        "ExecuteTime": {
          "end_time": "2021-09-10T05:22:33.862908Z",
          "start_time": "2021-09-10T05:22:33.857150Z"
        },
        "colab": {
          "base_uri": "https://localhost:8080/"
        },
        "id": "BZbyfyE3oSLn",
        "outputId": "d9bb3137-4587-49af-c94c-32777d9b5930"
      },
      "outputs": [
        {
          "output_type": "execute_result",
          "data": {
            "text/plain": [
              "[0, nan, inf]"
            ]
          },
          "metadata": {},
          "execution_count": 17
        }
      ],
      "source": [
        "test_nan"
      ]
    },
    {
      "cell_type": "code",
      "execution_count": null,
      "metadata": {
        "ExecuteTime": {
          "end_time": "2021-09-10T05:23:04.766328Z",
          "start_time": "2021-09-10T05:23:04.759827Z"
        },
        "id": "v_bsZKtGoSLo"
      },
      "outputs": [],
      "source": [
        "# 결측 확인\n"
      ]
    },
    {
      "cell_type": "code",
      "execution_count": null,
      "metadata": {
        "ExecuteTime": {
          "end_time": "2021-09-10T05:23:29.589356Z",
          "start_time": "2021-09-10T05:23:29.582563Z"
        },
        "id": "QJNpj6oIoSLo"
      },
      "outputs": [],
      "source": [
        "# 발산 확인\n"
      ]
    },
    {
      "cell_type": "code",
      "execution_count": null,
      "metadata": {
        "ExecuteTime": {
          "end_time": "2021-09-10T05:24:04.892319Z",
          "start_time": "2021-09-10T05:24:04.886284Z"
        },
        "colab": {
          "base_uri": "https://localhost:8080/"
        },
        "id": "lCOeYiOYoSLo",
        "outputId": "2ca6e196-88c9-4198-d2fa-13821987dc8d"
      },
      "outputs": [
        {
          "output_type": "execute_result",
          "data": {
            "text/plain": [
              "[[[1, 2, 3, 4], [5, 6, 7, 8]],\n",
              " [[1, 2, 3, 4], [5, 6, 7, 8]],\n",
              " [[1, 2, 3, 4], [5, 6, 7, 8]]]"
            ]
          },
          "metadata": {},
          "execution_count": 20
        }
      ],
      "source": [
        "test_list_3rd"
      ]
    },
    {
      "cell_type": "code",
      "execution_count": null,
      "metadata": {
        "ExecuteTime": {
          "end_time": "2021-09-10T05:25:09.938954Z",
          "start_time": "2021-09-10T05:25:09.929863Z"
        },
        "colab": {
          "base_uri": "https://localhost:8080/"
        },
        "id": "66H74AM1oSLo",
        "outputId": "ecfc1b4c-f1e4-44a6-b732-631fe820c7a0"
      },
      "outputs": [
        {
          "output_type": "execute_result",
          "data": {
            "text/plain": [
              "array([1, 2, 3, 4, 5, 6, 7, 8])"
            ]
          },
          "metadata": {},
          "execution_count": 32
        }
      ],
      "source": [
        "# 고유값 확인\n",
        "np.unique(test_list_3rd)"
      ]
    },
    {
      "cell_type": "code",
      "execution_count": null,
      "metadata": {
        "ExecuteTime": {
          "end_time": "2021-09-10T05:25:42.923158Z",
          "start_time": "2021-09-10T05:25:42.911006Z"
        },
        "colab": {
          "base_uri": "https://localhost:8080/"
        },
        "id": "t8qHIYnEoSLo",
        "outputId": "d35cc421-3eab-4094-d2f5-177149764b09"
      },
      "outputs": [
        {
          "output_type": "execute_result",
          "data": {
            "text/plain": [
              "(3, 2, 4)"
            ]
          },
          "metadata": {},
          "execution_count": 33
        }
      ],
      "source": [
        "# 데이터 구조(모양)확인\n",
        "np.shape(test_list_3rd)"
      ]
    },
    {
      "cell_type": "code",
      "execution_count": null,
      "metadata": {
        "ExecuteTime": {
          "end_time": "2021-09-10T05:28:35.937865Z",
          "start_time": "2021-09-10T05:28:35.931340Z"
        },
        "colab": {
          "base_uri": "https://localhost:8080/"
        },
        "id": "kBH7DCVUoSLp",
        "outputId": "4f0f4bc6-a7c2-470c-8b58-148ef45f4f1c"
      },
      "outputs": [
        {
          "output_type": "execute_result",
          "data": {
            "text/plain": [
              "array([[1, 2, 3, 4, 5, 6],\n",
              "       [7, 8, 1, 2, 3, 4],\n",
              "       [5, 6, 7, 8, 1, 2],\n",
              "       [3, 4, 5, 6, 7, 8]])"
            ]
          },
          "metadata": {},
          "execution_count": 34
        }
      ],
      "source": [
        "# 데이터 shape 변경\n",
        "# 어떤 조건에서 reshape가능한가? 데이터 내부에 존재하는 속성 갯수가 같아야 함.\n",
        "np.reshape(test_list_3rd, (4,6))"
      ]
    },
    {
      "cell_type": "code",
      "execution_count": null,
      "metadata": {
        "ExecuteTime": {
          "end_time": "2021-09-10T05:30:37.880633Z",
          "start_time": "2021-09-10T05:30:37.875952Z"
        },
        "colab": {
          "base_uri": "https://localhost:8080/"
        },
        "id": "Yh6CJwoUoSLp",
        "outputId": "d2f10c75-7561-401a-9721-20ba15de6452"
      },
      "outputs": [
        {
          "output_type": "execute_result",
          "data": {
            "text/plain": [
              "(3, 2, 4)"
            ]
          },
          "metadata": {},
          "execution_count": 24
        }
      ],
      "source": [
        "np.shape(test_list_3rd)"
      ]
    },
    {
      "cell_type": "code",
      "execution_count": null,
      "metadata": {
        "ExecuteTime": {
          "end_time": "2021-09-10T05:30:11.053839Z",
          "start_time": "2021-09-10T05:30:11.048323Z"
        },
        "colab": {
          "base_uri": "https://localhost:8080/"
        },
        "id": "u7_xtHDEoSLp",
        "outputId": "c1f61df9-0fce-41d6-c7d6-9b202b8db751"
      },
      "outputs": [
        {
          "output_type": "execute_result",
          "data": {
            "text/plain": [
              "3"
            ]
          },
          "metadata": {},
          "execution_count": 35
        }
      ],
      "source": [
        "# 데이터 차원확인\n",
        "# 데이터가 존재하는 축방향이 늘어나면 차원수도 늘어남\n",
        "# 기하학적 데이터의 차원수를 이야기하고\n",
        "# 데이터분석을 할 때는 열기준으로 차원을 이야기 합니다.\n",
        "np.ndim(test_list_3rd)"
      ]
    },
    {
      "cell_type": "code",
      "execution_count": null,
      "metadata": {
        "ExecuteTime": {
          "end_time": "2021-09-10T05:33:44.542351Z",
          "start_time": "2021-09-10T05:33:44.536058Z"
        },
        "id": "dCEdx6O2oSLq"
      },
      "outputs": [],
      "source": [
        "# 전치행렬\n"
      ]
    },
    {
      "cell_type": "markdown",
      "metadata": {
        "id": "_qLwkfUxoSLq"
      },
      "source": [
        "## Numpy array (배열, 행렬)\n",
        "> - numpy 연산의 기본이 되는 데이터 구조입니다.  \n",
        "> - 리스트보다 간편하게 만들 수 있으며 **연산이 빠른** 장점이 있습니다.  \n",
        "> - **브로드캐스팅 연산을 지원**합니다.  \n",
        "> - 단, **같은 type**의 데이터만 저장 가능합니다.  \n",
        "> - array 또한 numpy의 기본 함수로서 생성 가능합니다.  \n",
        "\n",
        ">> array 함수 호출 기본구조  \n",
        "ex) **`np.array(배열변환 대상 데이터)`**  \n",
        "ex) **`np.arange(start, end, step_forward)`**"
      ]
    },
    {
      "cell_type": "markdown",
      "metadata": {
        "id": "e9VDI_zJoSLq"
      },
      "source": [
        "### numpy array 실습"
      ]
    },
    {
      "cell_type": "code",
      "execution_count": null,
      "metadata": {
        "ExecuteTime": {
          "end_time": "2021-09-10T05:38:17.188254Z",
          "start_time": "2021-09-10T05:38:17.183014Z"
        },
        "id": "-dxeqMcVoSLq"
      },
      "outputs": [],
      "source": [
        "# 기존 데이터 구조를 array로 변환\n",
        "test_array = np.array(test_list)\n",
        "test_array2 = np.array(test_list2)\n",
        "test_farray = np.array(test_flist)\n",
        "test_array_2nd = np.array(test_list_2nd)\n",
        "test_array_3rd = np.array(test_list_3rd)"
      ]
    },
    {
      "cell_type": "code",
      "execution_count": null,
      "metadata": {
        "ExecuteTime": {
          "end_time": "2021-09-10T05:38:47.055844Z",
          "start_time": "2021-09-10T05:38:47.051784Z"
        },
        "colab": {
          "base_uri": "https://localhost:8080/"
        },
        "id": "-o8Pa6iZoSLq",
        "outputId": "f0b6b607-e3f4-4ae9-e022-f40061ce69a5"
      },
      "outputs": [
        {
          "output_type": "execute_result",
          "data": {
            "text/plain": [
              "array([[[1, 2, 3, 4],\n",
              "        [5, 6, 7, 8]],\n",
              "\n",
              "       [[1, 2, 3, 4],\n",
              "        [5, 6, 7, 8]],\n",
              "\n",
              "       [[1, 2, 3, 4],\n",
              "        [5, 6, 7, 8]]])"
            ]
          },
          "metadata": {},
          "execution_count": 38
        }
      ],
      "source": [
        "# array 생성 확인\n",
        "test_array\n",
        "\n",
        "test_array_3rd"
      ]
    },
    {
      "cell_type": "code",
      "execution_count": null,
      "metadata": {
        "ExecuteTime": {
          "end_time": "2021-09-10T05:43:27.080879Z",
          "start_time": "2021-09-10T05:43:27.078172Z"
        },
        "colab": {
          "base_uri": "https://localhost:8080/"
        },
        "id": "W4Pqyo3hoSLr",
        "outputId": "7e864903-b4e9-4c9a-d768-518352ffab57"
      },
      "outputs": [
        {
          "output_type": "execute_result",
          "data": {
            "text/plain": [
              "array(['1', '2', '3', '4', '안녕', '안녕'], dtype='<U21')"
            ]
          },
          "metadata": {},
          "execution_count": 40
        }
      ],
      "source": [
        "# 같은 타입의 데이터만 들어가는지 확인\n",
        "test_list.append(\"안녕\")\n",
        "test_list\n",
        "\n",
        "np.array(test_list)"
      ]
    },
    {
      "cell_type": "code",
      "execution_count": null,
      "metadata": {
        "ExecuteTime": {
          "end_time": "2021-09-10T05:44:09.302063Z",
          "start_time": "2021-09-10T05:44:09.295076Z"
        },
        "id": "wYCv--kVoSLr"
      },
      "outputs": [],
      "source": [
        "# 2차원 배열 확인\n"
      ]
    },
    {
      "cell_type": "code",
      "execution_count": null,
      "metadata": {
        "ExecuteTime": {
          "end_time": "2021-09-10T05:44:55.643344Z",
          "start_time": "2021-09-10T05:44:55.637106Z"
        },
        "id": "bXS_N1kPoSLs"
      },
      "outputs": [],
      "source": [
        "# 3차원 배열 확인\n"
      ]
    },
    {
      "cell_type": "code",
      "execution_count": null,
      "metadata": {
        "ExecuteTime": {
          "end_time": "2021-09-10T05:47:06.371655Z",
          "start_time": "2021-09-10T05:47:06.367168Z"
        },
        "colab": {
          "base_uri": "https://localhost:8080/"
        },
        "id": "VOaiehQNoSLs",
        "outputId": "762e0d6e-008a-4a7a-df03-58d3c9f6e68a"
      },
      "outputs": [
        {
          "output_type": "execute_result",
          "data": {
            "text/plain": [
              "array([[ 0,  1,  2,  3,  4],\n",
              "       [ 5,  6,  7,  8,  9],\n",
              "       [10, 11, 12, 13, 14],\n",
              "       [15, 16, 17, 18, 19],\n",
              "       [20, 21, 22, 23, 24]])"
            ]
          },
          "metadata": {},
          "execution_count": 43
        }
      ],
      "source": [
        "# np.arange 함수로 생성\n",
        "np.arange(25).reshape(5,5)"
      ]
    },
    {
      "cell_type": "code",
      "execution_count": null,
      "metadata": {
        "ExecuteTime": {
          "end_time": "2021-09-10T05:57:45.735507Z",
          "start_time": "2021-09-10T05:57:45.730329Z"
        },
        "id": "i2GNlOUnoSLs"
      },
      "outputs": [],
      "source": [
        ""
      ]
    },
    {
      "cell_type": "markdown",
      "metadata": {
        "id": "uVD7IlT2oSLs"
      },
      "source": [
        "### 특수한 형태의 array를 함수로 생성\n",
        "함수 호출의 기본구조\n",
        "> ex) **`np.ones([자료구조 shape])`**  \n",
        "> 자료구조 shape은 정수, **[ ]**리스트, **( )** 튜플 로만 입력가능합니다.\n",
        "\n",
        ">> - ones()  \n",
        ">> - zeros()  \n",
        ">> - empty()  \n",
        ">> - eye()"
      ]
    },
    {
      "cell_type": "code",
      "execution_count": null,
      "metadata": {
        "ExecuteTime": {
          "end_time": "2021-09-10T06:03:35.147322Z",
          "start_time": "2021-09-10T06:03:35.141909Z"
        },
        "colab": {
          "base_uri": "https://localhost:8080/"
        },
        "id": "5Hf5GT9poSLs",
        "outputId": "e2c5ef74-6489-4556-9a30-c2c8f02d891d"
      },
      "outputs": [
        {
          "output_type": "execute_result",
          "data": {
            "text/plain": [
              "array([[1., 1., 1., 1., 1.],\n",
              "       [1., 1., 1., 1., 1.],\n",
              "       [1., 1., 1., 1., 1.],\n",
              "       [1., 1., 1., 1., 1.],\n",
              "       [1., 1., 1., 1., 1.]])"
            ]
          },
          "metadata": {},
          "execution_count": 45
        }
      ],
      "source": [
        "# 1로 초기화한 array 생성\n",
        "np.ones((5,5))"
      ]
    },
    {
      "cell_type": "code",
      "execution_count": null,
      "metadata": {
        "ExecuteTime": {
          "end_time": "2021-09-10T06:04:05.457164Z",
          "start_time": "2021-09-10T06:04:05.451399Z"
        },
        "id": "BFZ2GY_4oSLt"
      },
      "outputs": [],
      "source": [
        "# 0으로 초기화\n"
      ]
    },
    {
      "cell_type": "code",
      "execution_count": null,
      "metadata": {
        "ExecuteTime": {
          "end_time": "2021-09-10T06:05:07.127161Z",
          "start_time": "2021-09-10T06:05:07.121604Z"
        },
        "id": "BN5YmYacoSLt"
      },
      "outputs": [],
      "source": [
        "# 빈 값으로 초기화\n"
      ]
    },
    {
      "cell_type": "code",
      "execution_count": null,
      "metadata": {
        "ExecuteTime": {
          "end_time": "2021-09-10T06:11:41.461776Z",
          "start_time": "2021-09-10T06:11:41.455598Z"
        },
        "id": "_va7cph_oSLt"
      },
      "outputs": [],
      "source": [
        "# 항등행렬 초기화\n",
        "# 항등행렬의 수학적 의미는 항등행렬 X A = A\n",
        "# shape이 안맞는 경우 연산이 가능하도록 할 때\n"
      ]
    },
    {
      "cell_type": "markdown",
      "metadata": {
        "id": "YOhSIbHHoSLt"
      },
      "source": [
        "### array 속성 및 내장함수\n",
        "`np.array` 에는 유용한 수리, 통계 연산을 위한 함수가 갖추어져 있습니다. 다차원 기하학적 연산을 위한 함수도 함께 살펴보겠습니다.  \n",
        "    \n",
        "> array 내장 속성 호출 기본구조  \n",
        "ex) **`test_array.ndim`**  \n",
        "자주 사용하는 속성 `shape`, `dtype`, `ndim`\n",
        "    \n",
        "> array 내장함수 호출 기본구조  \n",
        "ex) **`test_array.prod()`**\n",
        "    \n",
        "위에 학습한 np.sum() 과는 달리 array 변수의 인자를 받아 그대로 사용합니다."
      ]
    },
    {
      "cell_type": "markdown",
      "metadata": {
        "id": "3q678tawoSLt"
      },
      "source": [
        "#### array 속성"
      ]
    },
    {
      "cell_type": "code",
      "execution_count": null,
      "metadata": {
        "ExecuteTime": {
          "end_time": "2021-09-10T06:18:59.601375Z",
          "start_time": "2021-09-10T06:18:59.597286Z"
        },
        "colab": {
          "base_uri": "https://localhost:8080/"
        },
        "id": "wEdCXTvdoSLu",
        "outputId": "94ea0cb4-75e3-4394-fad0-d8e950ae9cf1"
      },
      "outputs": [
        {
          "output_type": "execute_result",
          "data": {
            "text/plain": [
              "4"
            ]
          },
          "metadata": {},
          "execution_count": 47
        }
      ],
      "source": [
        "# 데이터 타입확인\n",
        "test_array.argmax()"
      ]
    },
    {
      "cell_type": "code",
      "execution_count": null,
      "metadata": {
        "ExecuteTime": {
          "end_time": "2021-09-10T06:19:24.178008Z",
          "start_time": "2021-09-10T06:19:24.174611Z"
        },
        "colab": {
          "base_uri": "https://localhost:8080/"
        },
        "id": "BQuFx1bNoSLu",
        "outputId": "474d8864-09b4-48eb-a1ee-9bf03df2f3fd"
      },
      "outputs": [
        {
          "output_type": "execute_result",
          "data": {
            "text/plain": [
              "(6,)"
            ]
          },
          "metadata": {},
          "execution_count": 48
        }
      ],
      "source": [
        "# 데이터구조 확인\n",
        "# np.shape()\n",
        "test_array.shape"
      ]
    },
    {
      "cell_type": "code",
      "execution_count": null,
      "metadata": {
        "ExecuteTime": {
          "end_time": "2021-09-10T06:20:10.057116Z",
          "start_time": "2021-09-10T06:20:10.053090Z"
        },
        "id": "I7cDVHPIoSLu"
      },
      "outputs": [],
      "source": [
        "# 데이터 차원 확인\n"
      ]
    },
    {
      "cell_type": "code",
      "execution_count": null,
      "metadata": {
        "ExecuteTime": {
          "end_time": "2021-09-10T06:29:16.069671Z",
          "start_time": "2021-09-10T06:29:16.064815Z"
        },
        "id": "G1uTEWZxoSLu"
      },
      "outputs": [],
      "source": [
        "# 전치행렬\n"
      ]
    },
    {
      "cell_type": "markdown",
      "metadata": {
        "id": "IFFqPWTkoSLu"
      },
      "source": [
        "#### array 내장함수"
      ]
    },
    {
      "cell_type": "code",
      "execution_count": null,
      "metadata": {
        "ExecuteTime": {
          "end_time": "2021-09-10T06:30:44.690675Z",
          "start_time": "2021-09-10T06:30:44.686617Z"
        },
        "id": "Ws9sP23KoSLu"
      },
      "outputs": [],
      "source": [
        "test_array"
      ]
    },
    {
      "cell_type": "code",
      "execution_count": null,
      "metadata": {
        "ExecuteTime": {
          "end_time": "2021-09-10T06:33:07.374789Z",
          "start_time": "2021-09-10T06:33:07.369909Z"
        },
        "id": "LYaIrjXtoSLv"
      },
      "outputs": [],
      "source": [
        "# 내장함수 호출\n"
      ]
    },
    {
      "cell_type": "code",
      "execution_count": null,
      "metadata": {
        "id": "5SqQKuQBoSLv"
      },
      "outputs": [],
      "source": [
        "# numpy 함수와 키워드가 같습니다.\n"
      ]
    },
    {
      "cell_type": "markdown",
      "metadata": {
        "id": "ZL9W5CXqoSLv"
      },
      "source": [
        "### array 연산\n",
        "컴퓨팅 연산을 위한 패키지인 만큼 편리한 배열 연산 기능을 지원합니다. 여러 array 연산을 통해 다른 자료구조와의 연산 차이를 알아봅시다."
      ]
    },
    {
      "cell_type": "code",
      "execution_count": null,
      "metadata": {
        "ExecuteTime": {
          "end_time": "2021-09-10T06:38:24.605844Z",
          "start_time": "2021-09-10T06:38:24.600219Z"
        },
        "colab": {
          "base_uri": "https://localhost:8080/"
        },
        "id": "TX9QpGQGoSLv",
        "outputId": "89d76933-b803-4c52-d182-1b05ce07e3e3"
      },
      "outputs": [
        {
          "output_type": "execute_result",
          "data": {
            "text/plain": [
              "[1, 2, 3, 4, '안녕', '안녕', 5]"
            ]
          },
          "metadata": {},
          "execution_count": 51
        }
      ],
      "source": [
        "# 리스트연산 test\n",
        "test_list +[5]"
      ]
    },
    {
      "cell_type": "code",
      "execution_count": null,
      "metadata": {
        "ExecuteTime": {
          "end_time": "2021-09-10T06:40:44.379763Z",
          "start_time": "2021-09-10T06:40:44.374980Z"
        },
        "colab": {
          "base_uri": "https://localhost:8080/"
        },
        "id": "R_d5SjJOoSLv",
        "outputId": "b6ecd1ac-032d-40b3-d946-4e00e2b10750"
      },
      "outputs": [
        {
          "output_type": "execute_result",
          "data": {
            "text/plain": [
              "array([6, 7, 8, 9])"
            ]
          },
          "metadata": {},
          "execution_count": 60
        }
      ],
      "source": [
        "# array 덧셈, 뺄셈, 곱셈, 나눗셈\n",
        "test_array + 5\n"
      ]
    },
    {
      "cell_type": "code",
      "execution_count": null,
      "metadata": {
        "ExecuteTime": {
          "end_time": "2021-09-10T06:44:05.940243Z",
          "start_time": "2021-09-10T06:44:05.308490Z"
        },
        "id": "32WM7F0DoSLw"
      },
      "outputs": [],
      "source": [
        "# 실제 연산속도 차이를 확인하기 위한 큰 데이터 생성\n",
        "big_list = [i for i in range(50000000)]"
      ]
    },
    {
      "cell_type": "code",
      "source": [
        "big_array= np.array(big_list)"
      ],
      "metadata": {
        "id": "P92b-ot22JxC"
      },
      "execution_count": null,
      "outputs": []
    },
    {
      "cell_type": "code",
      "execution_count": null,
      "metadata": {
        "ExecuteTime": {
          "end_time": "2021-09-10T06:44:10.244421Z",
          "start_time": "2021-09-10T06:44:09.858402Z"
        },
        "colab": {
          "base_uri": "https://localhost:8080/"
        },
        "id": "BfLO1BOZoSLw",
        "outputId": "d0c92fa4-0fbb-44e1-c6b6-46156918eeeb"
      },
      "outputs": [
        {
          "output_type": "stream",
          "name": "stdout",
          "text": [
            "CPU times: user 3.34 s, sys: 1.93 s, total: 5.27 s\n",
            "Wall time: 5.29 s\n"
          ]
        }
      ],
      "source": [
        "%%time\n",
        "# 리스트연산테스트\n",
        "big_list2= [i+1 for i in big_list]"
      ]
    },
    {
      "cell_type": "code",
      "execution_count": null,
      "metadata": {
        "ExecuteTime": {
          "end_time": "2021-09-10T06:44:12.755657Z",
          "start_time": "2021-09-10T06:44:12.650882Z"
        },
        "colab": {
          "base_uri": "https://localhost:8080/"
        },
        "id": "jC1ZtS7moSLw",
        "outputId": "09280838-c06d-4df6-9b0c-2748d817b638"
      },
      "outputs": [
        {
          "output_type": "stream",
          "name": "stdout",
          "text": [
            "CPU times: user 104 ms, sys: 17.6 ms, total: 121 ms\n",
            "Wall time: 123 ms\n"
          ]
        },
        {
          "output_type": "execute_result",
          "data": {
            "text/plain": [
              "array([       1,        2,        3, ..., 49999998, 49999999, 50000000])"
            ]
          },
          "metadata": {},
          "execution_count": 64
        }
      ],
      "source": [
        "%%time\n",
        "# array 연산테스트\n",
        "big_array+1"
      ]
    },
    {
      "cell_type": "code",
      "execution_count": null,
      "metadata": {
        "ExecuteTime": {
          "end_time": "2021-09-10T07:02:49.091212Z",
          "start_time": "2021-09-10T07:02:49.088103Z"
        },
        "id": "c8D6DJhOoSLw"
      },
      "outputs": [],
      "source": [
        "# 행렬내적\n",
        "a = np.arange(24).reshape(4,6)\n",
        "b = np.arange(24).reshape(6,4)"
      ]
    },
    {
      "cell_type": "code",
      "execution_count": null,
      "metadata": {
        "ExecuteTime": {
          "end_time": "2021-09-10T07:03:55.213937Z",
          "start_time": "2021-09-10T07:03:55.206895Z"
        },
        "colab": {
          "base_uri": "https://localhost:8080/"
        },
        "id": "ZJr5Jp4-oSLw",
        "outputId": "ec59dfda-e5a8-477d-8dc0-2fb498c6b832"
      },
      "outputs": [
        {
          "output_type": "execute_result",
          "data": {
            "text/plain": [
              "array([[ 220,  235,  250,  265],\n",
              "       [ 580,  631,  682,  733],\n",
              "       [ 940, 1027, 1114, 1201],\n",
              "       [1300, 1423, 1546, 1669]])"
            ]
          },
          "metadata": {},
          "execution_count": 67
        }
      ],
      "source": [
        "# 행렬내적 연산\n",
        "a@b"
      ]
    },
    {
      "cell_type": "markdown",
      "metadata": {
        "id": "FFT0tjrroSLx"
      },
      "source": [
        "### 벡터 가중합\n",
        "벡터의 내적은 가중합을 계산할 때 쓰일 수 있습니다. **가중합(weighted sum)**이란 복수의 데이터를 단순히 합하는 것이 아니라 각각의 수에 어떤 가중치 값을 곱한 후 이 곱셈 결과들을 다시 합한 것을 말합니다.  \n",
        "데이터 벡터가 $x=[x_1, \\cdots, x_N]^T$이고 가중치 벡터가 $w=[w_1, \\cdots, w_N]^T$이면 데이터 벡터의 가중합은 다음과 같습니다.\n",
        "\n",
        "$$ \n",
        "\\begin{align}\n",
        "w_1 x_1 + \\cdots + w_N x_N = \\sum_{i=1}^N w_i x_i \n",
        "\\end{align}\n",
        "$$ \n",
        "\n",
        "이 값을 벡터 $x$와 $w$의 곱으로 나타내면 $w^Tx$ 또는 $x^Tw$ 라는 간단한 수식으로 표시할 수 있습니다.  \n",
        "쇼핑을 할 때 각 물건의 가격은 데이터 벡터, 각 물건의 수량은 가중치로 생각하여 내적을 구하면 총금액을 계산할 수 있습니다."
      ]
    },
    {
      "cell_type": "code",
      "execution_count": null,
      "metadata": {
        "ExecuteTime": {
          "end_time": "2021-09-10T07:15:59.162206Z",
          "start_time": "2021-09-10T07:15:59.157182Z"
        },
        "colab": {
          "base_uri": "https://localhost:8080/"
        },
        "id": "QG-qrybJoSLx",
        "outputId": "bb41747c-1aee-4c3e-b888-5dbc9e343e7a"
      },
      "outputs": [
        {
          "output_type": "stream",
          "name": "stdout",
          "text": [
            "24100000\n"
          ]
        },
        {
          "output_type": "execute_result",
          "data": {
            "text/plain": [
              "24100000"
            ]
          },
          "metadata": {},
          "execution_count": 71
        }
      ],
      "source": [
        "# 벡터의 가중합 연습문제\n",
        "# 삼성전자, 셀트리온, 카카오로 포트폴리오를 구성하려한다. \n",
        "# 각 종목의 가격은 80,000원, 270,000원, 160,000원이다.\n",
        "# 삼성전자 100주, 셀트리온 30주, 카카오 50주로 구성하기 위한 매수금액을 구하시오\n",
        "print( (80000 * 100) + (270000 * 30) + (160000 * 50))\n",
        "\n",
        "a = np.array([80000,270000,160000])\n",
        "b= np.array([100,30,50])\n",
        "\n",
        "a@b.T\n"
      ]
    },
    {
      "cell_type": "markdown",
      "metadata": {
        "id": "qnhA0LHUoSLx"
      },
      "source": [
        "## array 인덱싱, 슬라이싱(매우중요)\n",
        "> 기본적으로 자료구조란 데이터의 묶음, 그 묶음을 관리 할 수 있는 바구니를 이야기 합니다.  \n",
        "데이터 분석을 위해 자료구조를 사용하지만 자료구조안 내용에 접근을 해야 할 경우도 있습니다.\n",
        ">> **인덱싱**이란?  \n",
        "데이터 바구니 안에 든 내용 하나에 접근하는 명령, 인덱스는 내용의 순번  \n",
        ">> **슬라이싱**이란?  \n",
        "데이터 바구니 안에 든 내용 여러가지에 접근 하는 명령  \n",
        "\n",
        "기본적으로 인덱싱과 슬라이싱의 색인은 리스트와 동일합니다."
      ]
    },
    {
      "cell_type": "markdown",
      "metadata": {
        "id": "cbDJWMGLoSLx"
      },
      "source": [
        "### 인덱싱, 슬라이싱 실습"
      ]
    },
    {
      "cell_type": "code",
      "execution_count": null,
      "metadata": {
        "ExecuteTime": {
          "end_time": "2021-09-10T07:37:56.003486Z",
          "start_time": "2021-09-10T07:37:55.999507Z"
        },
        "colab": {
          "base_uri": "https://localhost:8080/"
        },
        "id": "NgQ0s4r4oSLy",
        "outputId": "92e6368c-9ff3-4b2b-8f6f-1c4bcebf5dbd"
      },
      "outputs": [
        {
          "output_type": "stream",
          "name": "stdout",
          "text": [
            "[10 11 12 13 14 15 16 17 18 19]\n"
          ]
        }
      ],
      "source": [
        "# 10부터 19까지 범위를 가지는 array생성\n",
        "a = np.arange(10,20)\n",
        "print(a)"
      ]
    },
    {
      "cell_type": "code",
      "execution_count": null,
      "metadata": {
        "ExecuteTime": {
          "end_time": "2021-09-10T07:41:45.003072Z",
          "start_time": "2021-09-10T07:41:44.999380Z"
        },
        "colab": {
          "base_uri": "https://localhost:8080/"
        },
        "id": "5Z_DkDt6oSLy",
        "outputId": "a463cbac-a646-4204-9797-f2b7fa6bae0c"
      },
      "outputs": [
        {
          "output_type": "execute_result",
          "data": {
            "text/plain": [
              "array([10, 11, 12, 13])"
            ]
          },
          "metadata": {},
          "execution_count": 82
        }
      ],
      "source": [
        "# 0부터 3번 인덱스까지\n",
        "a[:4]"
      ]
    },
    {
      "cell_type": "code",
      "execution_count": null,
      "metadata": {
        "ExecuteTime": {
          "end_time": "2021-09-10T07:41:52.010291Z",
          "start_time": "2021-09-10T07:41:52.005957Z"
        },
        "colab": {
          "base_uri": "https://localhost:8080/"
        },
        "id": "PwrWYNbAoSLy",
        "outputId": "17157cf8-7999-4530-c8be-e121649c4c68"
      },
      "outputs": [
        {
          "output_type": "execute_result",
          "data": {
            "text/plain": [
              "array([14, 15, 16, 17, 18, 19])"
            ]
          },
          "metadata": {},
          "execution_count": 78
        }
      ],
      "source": [
        "# 4번 인덱스부터 마지막 인덱스까지\n",
        "a[4:]"
      ]
    },
    {
      "cell_type": "code",
      "execution_count": null,
      "metadata": {
        "ExecuteTime": {
          "end_time": "2021-09-10T07:42:14.989703Z",
          "start_time": "2021-09-10T07:42:14.984451Z"
        },
        "colab": {
          "base_uri": "https://localhost:8080/"
        },
        "id": "88rourUhoSLz",
        "outputId": "296dcc07-91ad-411d-a02f-34d096f0a9a0"
      },
      "outputs": [
        {
          "output_type": "execute_result",
          "data": {
            "text/plain": [
              "array([19, 18, 17])"
            ]
          },
          "metadata": {},
          "execution_count": 81
        }
      ],
      "source": [
        "# 마지막 인덱스부터 뒤에서 3번째 인덱스까지\n",
        "a[-1:-4:-1]"
      ]
    },
    {
      "cell_type": "code",
      "execution_count": null,
      "metadata": {
        "ExecuteTime": {
          "end_time": "2021-09-10T07:42:30.002782Z",
          "start_time": "2021-09-10T07:42:29.997452Z"
        },
        "colab": {
          "base_uri": "https://localhost:8080/"
        },
        "id": "gcDAtacroSLz",
        "outputId": "bf4c93ab-34da-4ad5-e107-9236f47b9f3f"
      },
      "outputs": [
        {
          "output_type": "execute_result",
          "data": {
            "text/plain": [
              "array([10, 13, 16, 19])"
            ]
          },
          "metadata": {},
          "execution_count": 76
        }
      ],
      "source": [
        "# 0부터 3씩 증가하는 인덱스\n",
        "a[::3]"
      ]
    },
    {
      "cell_type": "markdown",
      "metadata": {
        "id": "IWD0XZvwoSLz"
      },
      "source": [
        "### 여러가지 인덱싱 및 슬라이싱 방법을 시도해봅시다"
      ]
    },
    {
      "cell_type": "code",
      "execution_count": null,
      "metadata": {
        "ExecuteTime": {
          "end_time": "2021-09-30T10:07:57.604703Z",
          "start_time": "2021-09-30T10:07:57.595285Z"
        },
        "colab": {
          "base_uri": "https://localhost:8080/"
        },
        "id": "RZ9d3U4joSLz",
        "outputId": "62eca54f-e3c7-42ab-fc34-946bcc7f0333"
      },
      "outputs": [
        {
          "output_type": "execute_result",
          "data": {
            "text/plain": [
              "array([[ 0,  1,  2,  3,  4],\n",
              "       [ 5,  6,  7,  8,  9],\n",
              "       [10, 11, 12, 13, 14],\n",
              "       [15, 16, 17, 18, 19],\n",
              "       [20, 21, 22, 23, 24]])"
            ]
          },
          "metadata": {},
          "execution_count": 83
        }
      ],
      "source": [
        "# 인덱싱 테스트 array 생성\n",
        "index_test2 = np.array(range(25)).reshape([5, 5])\n",
        "index_test2"
      ]
    },
    {
      "cell_type": "code",
      "execution_count": null,
      "metadata": {
        "id": "sRdmRtkioSLz"
      },
      "outputs": [],
      "source": [
        "# 아래 슬라이싱 결과와 같게 코드를 입력해보세요"
      ]
    },
    {
      "cell_type": "code",
      "execution_count": null,
      "metadata": {
        "ExecuteTime": {
          "end_time": "2021-09-30T10:07:59.655570Z",
          "start_time": "2021-09-30T10:07:59.651351Z"
        },
        "colab": {
          "base_uri": "https://localhost:8080/"
        },
        "id": "jPUvN3HmoSL0",
        "outputId": "a9d002f4-2937-4dea-ea75-f6259c5d02ee"
      },
      "outputs": [
        {
          "output_type": "execute_result",
          "data": {
            "text/plain": [
              "array([[11, 12, 13],\n",
              "       [16, 17, 18],\n",
              "       [21, 22, 23]])"
            ]
          },
          "metadata": {},
          "execution_count": 87
        }
      ],
      "source": [
        "index_test2[2:, 1:4]"
      ]
    },
    {
      "cell_type": "code",
      "execution_count": null,
      "metadata": {
        "id": "F5dbjR5coSL0"
      },
      "outputs": [],
      "source": [
        "# 아래 슬라이싱 결과와 같게 코드를 입력해보세요"
      ]
    },
    {
      "cell_type": "code",
      "execution_count": null,
      "metadata": {
        "ExecuteTime": {
          "end_time": "2021-09-30T10:08:00.840089Z",
          "start_time": "2021-09-30T10:08:00.835731Z"
        },
        "colab": {
          "base_uri": "https://localhost:8080/"
        },
        "id": "9EoviBQnoSL0",
        "outputId": "91890299-02c7-4129-952e-624cf70a67ff"
      },
      "outputs": [
        {
          "output_type": "execute_result",
          "data": {
            "text/plain": [
              "array([[2, 3, 4],\n",
              "       [7, 8, 9]])"
            ]
          },
          "metadata": {},
          "execution_count": 88
        }
      ],
      "source": [
        "index_test2[0:2, 2:]"
      ]
    },
    {
      "cell_type": "code",
      "execution_count": null,
      "metadata": {
        "id": "2cN1dREVoSL1"
      },
      "outputs": [],
      "source": [
        "# 아래 슬라이싱 결과와 같게 코드를 입력해보세요"
      ]
    },
    {
      "cell_type": "code",
      "execution_count": null,
      "metadata": {
        "ExecuteTime": {
          "end_time": "2021-09-30T10:09:08.554090Z",
          "start_time": "2021-09-30T10:09:08.550075Z"
        },
        "colab": {
          "base_uri": "https://localhost:8080/"
        },
        "id": "iJkhyIsvoSL2",
        "outputId": "11273b9c-7e6d-47c0-851e-0dbdaf37fec8"
      },
      "outputs": [
        {
          "output_type": "execute_result",
          "data": {
            "text/plain": [
              "array([ 1,  6, 11, 16, 21])"
            ]
          },
          "metadata": {},
          "execution_count": 90
        }
      ],
      "source": [
        "index_test2[:, 1]"
      ]
    },
    {
      "cell_type": "code",
      "execution_count": null,
      "metadata": {
        "ExecuteTime": {
          "end_time": "2021-09-30T10:09:24.117254Z",
          "start_time": "2021-09-30T10:09:24.112995Z"
        },
        "colab": {
          "base_uri": "https://localhost:8080/"
        },
        "id": "FHfuMBcRoSL3",
        "outputId": "6bfcc57a-ce17-4a0a-a31d-bfa72e5c0c5b"
      },
      "outputs": [
        {
          "output_type": "execute_result",
          "data": {
            "text/plain": [
              "array([[[ 0,  1,  2,  3],\n",
              "        [ 4,  5,  6,  7],\n",
              "        [ 8,  9, 10, 11],\n",
              "        [12, 13, 14, 15],\n",
              "        [16, 17, 18, 19]],\n",
              "\n",
              "       [[20, 21, 22, 23],\n",
              "        [24, 25, 26, 27],\n",
              "        [28, 29, 30, 31],\n",
              "        [32, 33, 34, 35],\n",
              "        [36, 37, 38, 39]]])"
            ]
          },
          "metadata": {},
          "execution_count": 91
        }
      ],
      "source": [
        "index_test3 = np.arange(40).reshape(2, 5, 4)\n",
        "index_test3"
      ]
    },
    {
      "cell_type": "code",
      "execution_count": null,
      "metadata": {
        "id": "CswPJEYNoSL3"
      },
      "outputs": [],
      "source": [
        "# 아래 슬라이싱 결과와 같게 코드를 입력해보세요"
      ]
    },
    {
      "cell_type": "code",
      "execution_count": null,
      "metadata": {
        "ExecuteTime": {
          "end_time": "2021-09-30T10:09:27.573403Z",
          "start_time": "2021-09-30T10:09:27.568936Z"
        },
        "colab": {
          "base_uri": "https://localhost:8080/"
        },
        "id": "hC8H8DGdoSL3",
        "outputId": "f246d151-f847-43b8-fc8d-d433c8cab89c"
      },
      "outputs": [
        {
          "output_type": "execute_result",
          "data": {
            "text/plain": [
              "array([[13, 14],\n",
              "       [17, 18]])"
            ]
          },
          "metadata": {},
          "execution_count": 92
        }
      ],
      "source": [
        "index_test3[0,3:,1:3]"
      ]
    },
    {
      "cell_type": "code",
      "execution_count": null,
      "metadata": {
        "id": "YlqP3mXYoSL3"
      },
      "outputs": [],
      "source": [
        "# 아래 슬라이싱 결과와 같게 코드를 입력해보세요"
      ]
    },
    {
      "cell_type": "code",
      "execution_count": null,
      "metadata": {
        "ExecuteTime": {
          "end_time": "2021-09-30T10:12:05.975572Z",
          "start_time": "2021-09-30T10:12:05.971208Z"
        },
        "colab": {
          "base_uri": "https://localhost:8080/"
        },
        "id": "pStHSVEVoSL3",
        "outputId": "94de4edc-f334-4deb-c76f-a21791192550"
      },
      "outputs": [
        {
          "output_type": "execute_result",
          "data": {
            "text/plain": [
              "array([[[ 8,  9, 10],\n",
              "        [12, 13, 14],\n",
              "        [16, 17, 18]],\n",
              "\n",
              "       [[28, 29, 30],\n",
              "        [32, 33, 34],\n",
              "        [36, 37, 38]]])"
            ]
          },
          "metadata": {},
          "execution_count": 93
        }
      ],
      "source": [
        "index_test3[:, 2:, :3]"
      ]
    },
    {
      "cell_type": "code",
      "execution_count": null,
      "metadata": {
        "id": "aUbK7kSAoSL4"
      },
      "outputs": [],
      "source": [
        "# 아래 슬라이싱 결과와 같게 코드를 입력해보세요"
      ]
    },
    {
      "cell_type": "code",
      "execution_count": null,
      "metadata": {
        "ExecuteTime": {
          "end_time": "2021-09-30T10:09:28.043744Z",
          "start_time": "2021-09-30T10:09:28.039181Z"
        },
        "colab": {
          "base_uri": "https://localhost:8080/"
        },
        "id": "M2qo0q3loSL4",
        "outputId": "cf429571-e0b9-4477-d668-a3e0eaceca26"
      },
      "outputs": [
        {
          "output_type": "execute_result",
          "data": {
            "text/plain": [
              "array([[ 1,  5,  9, 13, 17],\n",
              "       [21, 25, 29, 33, 37]])"
            ]
          },
          "metadata": {},
          "execution_count": 94
        }
      ],
      "source": [
        "index_test3[:,:,1]"
      ]
    },
    {
      "cell_type": "markdown",
      "metadata": {
        "id": "M2F3jtMZoSL4"
      },
      "source": [
        "## 팬시인덱싱\n",
        "numpy에서 벡터연산을 통해 bool 형태의 벡터를 기준으로 데이터를 선별하는 방법"
      ]
    },
    {
      "cell_type": "code",
      "execution_count": null,
      "metadata": {
        "ExecuteTime": {
          "end_time": "2021-09-30T10:13:41.597329Z",
          "start_time": "2021-09-30T10:13:41.591382Z"
        },
        "colab": {
          "base_uri": "https://localhost:8080/"
        },
        "id": "sM7b4kjMoSL4",
        "outputId": "f0b81bea-f1db-4086-b0c9-f133cad17d1e"
      },
      "outputs": [
        {
          "output_type": "execute_result",
          "data": {
            "text/plain": [
              "array([[ 1.71755873,  1.207279  , -0.51337979, -1.58940312,  0.50565266],\n",
              "       [ 0.30102507,  0.10761081, -1.65188597,  1.65223565,  1.07219482],\n",
              "       [-0.34266068,  0.51001218, -0.22000734, -0.94292393,  0.62709024],\n",
              "       [-0.82086014,  0.76477874,  1.37877341,  0.84654168,  1.22175624],\n",
              "       [ 1.07230581, -0.48646094,  2.14272199, -0.02723733, -1.15014585],\n",
              "       [ 0.07355547, -0.22400704, -0.46372803,  0.0776093 , -0.03659242]])"
            ]
          },
          "metadata": {},
          "execution_count": 95
        }
      ],
      "source": [
        "# 테스트 array 생성\n",
        "pet = np.array(['개', '고양이', '고양이', '햄스터', '개', '햄스터'])\n",
        "num = np.array([1, 2, 3, 4, 5, 6])\n",
        "indexing_test = np.random.randn(6, 5)\n",
        "indexing_test"
      ]
    },
    {
      "cell_type": "code",
      "execution_count": null,
      "metadata": {
        "ExecuteTime": {
          "end_time": "2021-09-10T08:21:25.026711Z",
          "start_time": "2021-09-10T08:21:25.021570Z"
        },
        "colab": {
          "base_uri": "https://localhost:8080/"
        },
        "id": "1eXkiaNYoSL5",
        "outputId": "5c2a0854-3e13-435b-d2d8-032277512534"
      },
      "outputs": [
        {
          "output_type": "execute_result",
          "data": {
            "text/plain": [
              "array([False, False, False,  True,  True,  True])"
            ]
          },
          "metadata": {},
          "execution_count": 96
        }
      ],
      "source": [
        "# num array 조건연산\n",
        "num >3"
      ]
    },
    {
      "cell_type": "code",
      "execution_count": null,
      "metadata": {
        "colab": {
          "base_uri": "https://localhost:8080/"
        },
        "id": "ZZADhlmooSL5",
        "outputId": "84553250-b0c9-411b-eb22-cbe85c0dd1b4"
      },
      "outputs": [
        {
          "output_type": "execute_result",
          "data": {
            "text/plain": [
              "array([False,  True,  True, False, False, False])"
            ]
          },
          "metadata": {},
          "execution_count": 97
        }
      ],
      "source": [
        "# pet array 조건연산\n",
        "pet == \"고양이\""
      ]
    },
    {
      "cell_type": "code",
      "execution_count": null,
      "metadata": {
        "ExecuteTime": {
          "end_time": "2021-09-10T08:20:36.569910Z",
          "start_time": "2021-09-10T08:20:36.561863Z"
        },
        "colab": {
          "base_uri": "https://localhost:8080/"
        },
        "id": "J39ycRV8oSL5",
        "outputId": "c52745de-9686-4103-e0c3-c3ede61d6aa8"
      },
      "outputs": [
        {
          "output_type": "execute_result",
          "data": {
            "text/plain": [
              "array([[ 0.30102507,  0.10761081, -1.65188597,  1.65223565,  1.07219482],\n",
              "       [-0.34266068,  0.51001218, -0.22000734, -0.94292393,  0.62709024]])"
            ]
          },
          "metadata": {},
          "execution_count": 99
        }
      ],
      "source": [
        "# 팬시인덱스 전달\n",
        "indexing_test[pet == \"고양이\"]"
      ]
    },
    {
      "cell_type": "code",
      "execution_count": null,
      "metadata": {
        "ExecuteTime": {
          "end_time": "2021-09-10T08:22:57.622079Z",
          "start_time": "2021-09-10T08:22:57.617049Z"
        },
        "colab": {
          "base_uri": "https://localhost:8080/"
        },
        "id": "RFO6TbgCoSL5",
        "outputId": "215e436a-52d7-402f-8d34-d528caf529f5"
      },
      "outputs": [
        {
          "output_type": "execute_result",
          "data": {
            "text/plain": [
              "False"
            ]
          },
          "metadata": {},
          "execution_count": 104
        }
      ],
      "source": [
        "# 조건연산 추가 sum, any, all\n",
        "\n",
        "(num>3).sum() # True 1\n",
        "\n",
        "(num>3).any() # 값에 하나라도 True 있으면 True 반환\n",
        "\n",
        "(num>3).all() # 전부 True면"
      ]
    }
  ],
  "metadata": {
    "kernelspec": {
      "display_name": "Python 3 (ipykernel)",
      "language": "python",
      "name": "python3"
    },
    "language_info": {
      "codemirror_mode": {
        "name": "ipython",
        "version": 3
      },
      "file_extension": ".py",
      "mimetype": "text/x-python",
      "name": "python",
      "nbconvert_exporter": "python",
      "pygments_lexer": "ipython3",
      "version": "3.8.12"
    },
    "toc": {
      "base_numbering": 1,
      "nav_menu": {},
      "number_sections": true,
      "sideBar": true,
      "skip_h1_title": true,
      "title_cell": "Table of Contents",
      "title_sidebar": "Contents",
      "toc_cell": false,
      "toc_position": {},
      "toc_section_display": true,
      "toc_window_display": false
    },
    "varInspector": {
      "cols": {
        "lenName": 16,
        "lenType": 16,
        "lenVar": 40
      },
      "kernels_config": {
        "python": {
          "delete_cmd_postfix": "",
          "delete_cmd_prefix": "del ",
          "library": "var_list.py",
          "varRefreshCmd": "print(var_dic_list())"
        },
        "r": {
          "delete_cmd_postfix": ") ",
          "delete_cmd_prefix": "rm(",
          "library": "var_list.r",
          "varRefreshCmd": "cat(var_dic_list()) "
        }
      },
      "types_to_exclude": [
        "module",
        "function",
        "builtin_function_or_method",
        "instance",
        "_Feature"
      ],
      "window_display": false
    },
    "colab": {
      "name": "01_package_numpy.ipynb",
      "provenance": [],
      "collapsed_sections": [
        "GDL3QhqBoSLc",
        "CmvPrKjZoSLc"
      ],
      "include_colab_link": true
    }
  },
  "nbformat": 4,
  "nbformat_minor": 0
}

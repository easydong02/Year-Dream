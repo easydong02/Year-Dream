{
 "cells": [
  {
   "cell_type": "markdown",
   "id": "d66891e6",
   "metadata": {},
   "source": [
    "### Pandas\n",
    "- 데이터 분석을 위한 쉽고 성능이 좋은 오픈소스 python 라이브러리\n",
    "- Series : index, value로 이루어진 데이터 타입\n",
    "- DataFrame : index, column, value로 이루어진 데이터 타입\n",
    "    - CRUD : create, read, update, delete\n",
    "    - IO"
   ]
  },
  {
   "cell_type": "code",
   "execution_count": null,
   "id": "17680920",
   "metadata": {},
   "outputs": [],
   "source": [
    "import pandas as pd"
   ]
  },
  {
   "cell_type": "code",
   "execution_count": null,
   "id": "c85c3f47",
   "metadata": {},
   "outputs": [],
   "source": [
    "# 1. Series"
   ]
  },
  {
   "cell_type": "code",
   "execution_count": null,
   "id": "48bfc5f5",
   "metadata": {},
   "outputs": [],
   "source": [
    "datas = pd.Series([3, 1, 9])\n",
    "datas"
   ]
  },
  {
   "cell_type": "code",
   "execution_count": null,
   "id": "2861081f",
   "metadata": {},
   "outputs": [],
   "source": [
    "list(datas.index), datas.values, datas.dtype"
   ]
  },
  {
   "cell_type": "code",
   "execution_count": null,
   "id": "30ca66c9",
   "metadata": {},
   "outputs": [],
   "source": [
    "# 2. DateFrame"
   ]
  },
  {
   "cell_type": "code",
   "execution_count": null,
   "id": "a99b82f3",
   "metadata": {},
   "outputs": [],
   "source": [
    "# create"
   ]
  },
  {
   "cell_type": "code",
   "execution_count": null,
   "id": "5720e2bc",
   "metadata": {},
   "outputs": [],
   "source": [
    "# 리스트 안에 딕셔너리 : row 데이터를 기준으로 저장"
   ]
  },
  {
   "cell_type": "code",
   "execution_count": null,
   "id": "a8d39547",
   "metadata": {},
   "outputs": [],
   "source": [
    "datas = [\n",
    "    {\"name\": \"peter\", \"email\": \"peter@gmail.com\", \"id\": 1},\n",
    "    {\"name\": \"jhon\", \"email\": \"jhon@gmail.com\", \"id\": 2},\n",
    "    {\"name\": \"andy\", \"email\": \"andy@naver.com\", \"id\": 3},\n",
    "]\n",
    "df = pd.DataFrame(datas)\n",
    "df"
   ]
  },
  {
   "cell_type": "code",
   "execution_count": null,
   "id": "75aca7d2",
   "metadata": {},
   "outputs": [],
   "source": [
    "# 딕셔너리 안에 리스트 : column 데이터를 기준으로 저장"
   ]
  },
  {
   "cell_type": "code",
   "execution_count": null,
   "id": "fe357d2d",
   "metadata": {},
   "outputs": [],
   "source": [
    "datas = df.to_dict(\"list\")\n",
    "print(datas)\n",
    "df = pd.DataFrame(datas)\n",
    "df"
   ]
  },
  {
   "cell_type": "code",
   "execution_count": null,
   "id": "ca77408b",
   "metadata": {},
   "outputs": [],
   "source": [
    "list(df.index), list(df.columns), df.values"
   ]
  },
  {
   "cell_type": "code",
   "execution_count": null,
   "id": "5d2ab699",
   "metadata": {},
   "outputs": [],
   "source": [
    "df.dtypes"
   ]
  },
  {
   "cell_type": "code",
   "execution_count": null,
   "id": "00af538f",
   "metadata": {},
   "outputs": [],
   "source": [
    "# read"
   ]
  },
  {
   "cell_type": "code",
   "execution_count": null,
   "id": "c424c635",
   "metadata": {},
   "outputs": [],
   "source": [
    "# row : df.loc[row] : [index], [start:end], [start:end:stride]\n",
    "# df.loc[1]\n",
    "# df.loc[:1]\n",
    "df.loc[::-1]"
   ]
  },
  {
   "cell_type": "code",
   "execution_count": null,
   "id": "479aabd4",
   "metadata": {},
   "outputs": [],
   "source": [
    "# column : df[column](Series), df[[columns]](DataFrame)\n",
    "# df[\"name\"]\n",
    "df[[\"id\", \"name\"]]"
   ]
  },
  {
   "cell_type": "code",
   "execution_count": null,
   "id": "763179a7",
   "metadata": {},
   "outputs": [],
   "source": [
    "# row + column : df.loc[row, columns]\n",
    "df.loc[1:, [\"id\", \"name\"]]"
   ]
  },
  {
   "cell_type": "code",
   "execution_count": null,
   "id": "0730cc10",
   "metadata": {},
   "outputs": [],
   "source": [
    "# condition : df[df[column] condition]"
   ]
  },
  {
   "cell_type": "code",
   "execution_count": null,
   "id": "fd6dabdc",
   "metadata": {},
   "outputs": [],
   "source": [
    "# 브로드캐스팅\n",
    "df[\"id\"] % 2 != 0"
   ]
  },
  {
   "cell_type": "code",
   "execution_count": null,
   "id": "e2a22897",
   "metadata": {},
   "outputs": [],
   "source": [
    "df[df[\"id\"] % 2 != 0]"
   ]
  },
  {
   "cell_type": "code",
   "execution_count": null,
   "id": "d07bc246",
   "metadata": {},
   "outputs": [],
   "source": [
    "# update"
   ]
  },
  {
   "cell_type": "code",
   "execution_count": null,
   "id": "a25bda0f",
   "metadata": {},
   "outputs": [],
   "source": [
    "df[\"id\"] = 4\n",
    "df"
   ]
  },
  {
   "cell_type": "code",
   "execution_count": null,
   "id": "7fddd81f",
   "metadata": {},
   "outputs": [],
   "source": [
    "df[\"id\"] = [5, 6, 7]\n",
    "df"
   ]
  },
  {
   "cell_type": "code",
   "execution_count": null,
   "id": "924985fe",
   "metadata": {},
   "outputs": [],
   "source": [
    "# delete : df.drop(index=[], columns=[])"
   ]
  },
  {
   "cell_type": "code",
   "execution_count": null,
   "id": "3a751949",
   "metadata": {},
   "outputs": [],
   "source": [
    "df.drop(index=[1], columns=[\"email\"])"
   ]
  },
  {
   "cell_type": "code",
   "execution_count": null,
   "id": "70ada1e9",
   "metadata": {},
   "outputs": [],
   "source": [
    "# IO : .csv"
   ]
  },
  {
   "cell_type": "code",
   "execution_count": null,
   "id": "1b3d78d0",
   "metadata": {},
   "outputs": [],
   "source": [
    "# save\n",
    "df.to_csv(\"user.csv\", index=False)"
   ]
  },
  {
   "cell_type": "code",
   "execution_count": null,
   "id": "79adb6e6",
   "metadata": {},
   "outputs": [],
   "source": [
    "%ls"
   ]
  },
  {
   "cell_type": "code",
   "execution_count": null,
   "id": "07cce085",
   "metadata": {},
   "outputs": [],
   "source": [
    "!cat user.csv"
   ]
  },
  {
   "cell_type": "code",
   "execution_count": null,
   "id": "86f761d4",
   "metadata": {},
   "outputs": [],
   "source": [
    "# load\n",
    "load_df = pd.read_csv(\"user.csv\")\n",
    "load_df"
   ]
  },
  {
   "cell_type": "code",
   "execution_count": null,
   "id": "03d56c97",
   "metadata": {},
   "outputs": [],
   "source": [
    "!pip install xlrd openpyxl xlsxwriter"
   ]
  },
  {
   "cell_type": "code",
   "execution_count": null,
   "id": "abeef1ef",
   "metadata": {},
   "outputs": [],
   "source": [
    "df.to_excel(\n",
    "    \"user.xlsx\", index=False, engine=\"xlsxwriter\", encoding=\"utf-8-sig\"\n",
    ")"
   ]
  },
  {
   "cell_type": "code",
   "execution_count": null,
   "id": "9791d219",
   "metadata": {},
   "outputs": [],
   "source": [
    "%ls"
   ]
  },
  {
   "cell_type": "code",
   "execution_count": null,
   "id": "58c6bde6",
   "metadata": {},
   "outputs": [],
   "source": [
    "load_df = pd.read_excel(\"user.xlsx\")\n",
    "load_df"
   ]
  },
  {
   "cell_type": "code",
   "execution_count": null,
   "id": "299ca84d",
   "metadata": {},
   "outputs": [],
   "source": []
  },
  {
   "cell_type": "code",
   "execution_count": null,
   "id": "7c9535ee",
   "metadata": {},
   "outputs": [],
   "source": []
  }
 ],
 "metadata": {
  "kernelspec": {
   "display_name": "Python 3 (ipykernel)",
   "language": "python",
   "name": "python3"
  },
  "language_info": {
   "codemirror_mode": {
    "name": "ipython",
    "version": 3
   },
   "file_extension": ".py",
   "mimetype": "text/x-python",
   "name": "python",
   "nbconvert_exporter": "python",
   "pygments_lexer": "ipython3",
   "version": "3.7.12"
  }
 },
 "nbformat": 4,
 "nbformat_minor": 5
}

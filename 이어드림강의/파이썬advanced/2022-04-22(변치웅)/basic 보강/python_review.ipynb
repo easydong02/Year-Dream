{
 "cells": [
  {
   "cell_type": "markdown",
   "id": "e53c0ad9",
   "metadata": {},
   "source": [
    "# 이어드림스쿨 python basic review"
   ]
  },
  {
   "cell_type": "markdown",
   "id": "1a93fae1",
   "metadata": {},
   "source": [
    "## 딕셔너리(dict)\n",
    "> 사전을 떠올려봅시다. 사전을 구성하고 있는 항목은?    \n",
    "> - 단어 : 단어의 설명  \n",
    "\n",
    "> `key`와 `value`값을 쌍으로 저장가능 한 자료구조  \n",
    "> - `key` : `value`  \n",
    "> - **`{ }`** 중괄호로 묶어 사용한다.  \n",
    "> - 딕셔너리 요소 구분은 리스트와 마찬가지로 쉼표  "
   ]
  },
  {
   "cell_type": "markdown",
   "id": "bee27420",
   "metadata": {},
   "source": [
    "### 딕셔너리 생성"
   ]
  },
  {
   "cell_type": "code",
   "execution_count": 1,
   "id": "f86fcc96",
   "metadata": {
    "ExecuteTime": {
     "end_time": "2022-04-20T12:36:08.416998Z",
     "start_time": "2022-04-20T12:36:08.410383Z"
    }
   },
   "outputs": [],
   "source": [
    "# 값을 추가하면서 딕셔너리 생성\n",
    "wallet = {\n",
    "    'card':'SK카드',\n",
    "    'cash':75000,\n",
    "    'coin':{'500원':1,\n",
    "            '100원':1,},\n",
    "    'id':['주민등록증', '여권'],\n",
    "    'licence':'운전면허증'\n",
    "}\n",
    "\n",
    "# 중괄호 내 key : value 값을 전달하고 각 항목의 구분은 쉼표\n",
    "# 리스트와 마찬가지로 딕셔너리 내부에 리스트등 타 자료구조 저장 가능"
   ]
  },
  {
   "cell_type": "code",
   "execution_count": null,
   "id": "9546fb15",
   "metadata": {},
   "outputs": [],
   "source": [
    "# 딕셔너리 호출\n"
   ]
  },
  {
   "cell_type": "markdown",
   "id": "ccb5a3a5",
   "metadata": {},
   "source": [
    "### 딕셔너리 갯수세기"
   ]
  },
  {
   "cell_type": "code",
   "execution_count": null,
   "id": "5854cb34",
   "metadata": {},
   "outputs": [],
   "source": [
    "# 딕셔너리 갯수세기\n"
   ]
  },
  {
   "cell_type": "markdown",
   "id": "430e0132",
   "metadata": {},
   "source": [
    "### 딕셔너리 값에 접근하기"
   ]
  },
  {
   "cell_type": "code",
   "execution_count": null,
   "id": "a0096b96",
   "metadata": {},
   "outputs": [],
   "source": [
    "# key값으로 딕셔너리 값에 접근\n",
    "\n",
    "# 리스트에서 인덱스를 사용하였다면 딕셔너리는 key값을 전달하여 값에 접근합니다."
   ]
  },
  {
   "cell_type": "markdown",
   "id": "00bf9d53",
   "metadata": {},
   "source": [
    "### 딕셔너리 편집"
   ]
  },
  {
   "cell_type": "code",
   "execution_count": 2,
   "id": "025c2af2",
   "metadata": {
    "ExecuteTime": {
     "end_time": "2022-04-20T12:37:31.421832Z",
     "start_time": "2022-04-20T12:37:31.416448Z"
    }
   },
   "outputs": [],
   "source": [
    "# 딕셔너리에 point card key를 갖는 해피포인트 문자열을 값으로 저장\n",
    "\n",
    "# key값이 숫자여도 관계없음\n"
   ]
  },
  {
   "cell_type": "code",
   "execution_count": 3,
   "id": "61175a6e",
   "metadata": {
    "ExecuteTime": {
     "end_time": "2022-04-20T12:37:58.344015Z",
     "start_time": "2022-04-20T12:37:58.340755Z"
    }
   },
   "outputs": [],
   "source": [
    "# 딕셔너리 특정 항목 업데이트\n"
   ]
  },
  {
   "cell_type": "code",
   "execution_count": 4,
   "id": "88d8f6a5",
   "metadata": {
    "ExecuteTime": {
     "end_time": "2022-04-20T12:38:13.147400Z",
     "start_time": "2022-04-20T12:38:13.143624Z"
    }
   },
   "outputs": [],
   "source": [
    "# 딕셔너리 특정 value값 빼오기\n"
   ]
  },
  {
   "cell_type": "code",
   "execution_count": 5,
   "id": "470ced28",
   "metadata": {
    "ExecuteTime": {
     "end_time": "2022-04-20T12:38:18.052164Z",
     "start_time": "2022-04-20T12:38:18.049840Z"
    }
   },
   "outputs": [],
   "source": [
    "# pop 명령어로 빼온 값, wallet에는 해당항목 사라져 있음\n"
   ]
  },
  {
   "cell_type": "code",
   "execution_count": 6,
   "id": "38be0d02",
   "metadata": {
    "ExecuteTime": {
     "end_time": "2022-04-20T12:38:28.413874Z",
     "start_time": "2022-04-20T12:38:28.408132Z"
    }
   },
   "outputs": [],
   "source": [
    "# 딕셔너리 내부 속성 값에 접근해서 값 업데이트도 가능하다.\n",
    "# wallet의 coin key값을 갖는 값에 50원:1 값을 추가한다.\n"
   ]
  },
  {
   "cell_type": "code",
   "execution_count": 7,
   "id": "ff9affd9",
   "metadata": {
    "ExecuteTime": {
     "end_time": "2022-04-20T12:38:40.991467Z",
     "start_time": "2022-04-20T12:38:40.988434Z"
    }
   },
   "outputs": [],
   "source": [
    "# wallet 딕셔너리의 card 항목을 카카오체크카드로 업데이트\n"
   ]
  },
  {
   "cell_type": "code",
   "execution_count": null,
   "id": "0638f815",
   "metadata": {},
   "outputs": [],
   "source": [
    "# wallet id key값에 '운전면허증' 추가\n"
   ]
  },
  {
   "cell_type": "markdown",
   "id": "9a9f4045",
   "metadata": {},
   "source": [
    "### 딕셔너리 삭제"
   ]
  },
  {
   "cell_type": "code",
   "execution_count": null,
   "id": "cc493865",
   "metadata": {},
   "outputs": [],
   "source": [
    "# 딕셔너리 항목 제거\n",
    "# 딕셔너리의 key값까지 전달하여 해당 key값과 값을 동시에 제거\n"
   ]
  },
  {
   "cell_type": "code",
   "execution_count": null,
   "id": "51791cd0",
   "metadata": {},
   "outputs": [],
   "source": [
    "# 딕셔너리 원소 전체 삭제\n"
   ]
  },
  {
   "cell_type": "code",
   "execution_count": null,
   "id": "1882ad97",
   "metadata": {},
   "outputs": [],
   "source": [
    "# 딕셔너리 변수 완전 삭제\n"
   ]
  },
  {
   "cell_type": "markdown",
   "id": "b056f0c1",
   "metadata": {},
   "source": [
    "### 딕셔너리 추가 명령어"
   ]
  },
  {
   "cell_type": "code",
   "execution_count": null,
   "id": "d630f61d",
   "metadata": {},
   "outputs": [],
   "source": [
    "# 딕셔너리 내 키 값을 확인\n"
   ]
  },
  {
   "cell_type": "code",
   "execution_count": null,
   "id": "406af684",
   "metadata": {},
   "outputs": [],
   "source": [
    "# 딕셔너리 내 값을 확인\n"
   ]
  },
  {
   "cell_type": "code",
   "execution_count": null,
   "id": "d7a42581",
   "metadata": {},
   "outputs": [],
   "source": [
    "# 딕셔너리의 key, value 쌍을 확인\n"
   ]
  },
  {
   "cell_type": "markdown",
   "id": "5ecfac20",
   "metadata": {},
   "source": [
    "## 반복문"
   ]
  },
  {
   "cell_type": "markdown",
   "id": "5d87e568",
   "metadata": {},
   "source": [
    "### for 문의 구조\n",
    ">**`for` `반복자` in `반복범위` `:`**  # 반복범위 안에서 반복자가 정의되며\n",
    ">>**`실행코드`** # 코드가 실행된다.\n",
    "    \n",
    "- 반복자 : 구간(범위)를 순환하며 정의되는 변수  \n",
    "- 반복범위 : **`list`** 등 순서가 존재하는 자료구조  \n",
    "- 관례적으로 심플한 반복자는 **`_`**(반복자를 작업에 사용하지 않을경우) 혹은 영문자 **`i`**(iterator)를 사용한다.  \n",
    "\n",
    "혹은 **`range()`** 명령어로 혹은 반복작업 횟수로 설정 가능      \n",
    "> **`range()`** 명령어  \n",
    "> **`range(횟수)`** 횟수만큼의 범위 생성  \n",
    "> **`range(x, y, z)`** x 부터 y-1 까지 z스텝 범위를 만들어주는 함수  "
   ]
  },
  {
   "cell_type": "code",
   "execution_count": null,
   "id": "041f4a10",
   "metadata": {},
   "outputs": [],
   "source": [
    "# range 함수의 조건 추가\n",
    "# 0부터 19까지 5의 배수만을 출력"
   ]
  },
  {
   "cell_type": "code",
   "execution_count": null,
   "id": "764977d0",
   "metadata": {},
   "outputs": [],
   "source": [
    "# for문의 중첩\n"
   ]
  },
  {
   "cell_type": "code",
   "execution_count": null,
   "id": "a995e2b0",
   "metadata": {},
   "outputs": [],
   "source": [
    "# for 문으로 range() 명령어만을 사용하여 구구단 구단을 출력해봅시다.\n"
   ]
  },
  {
   "cell_type": "markdown",
   "id": "64b6decd",
   "metadata": {},
   "source": [
    "### 자료구조를 순환하는 for문의 활용(매우 중요)"
   ]
  },
  {
   "cell_type": "code",
   "execution_count": 8,
   "id": "92fb4374",
   "metadata": {
    "ExecuteTime": {
     "end_time": "2022-04-20T12:48:09.458073Z",
     "start_time": "2022-04-20T12:48:09.448098Z"
    }
   },
   "outputs": [],
   "source": [
    "test_list1 = [1, 2, 3, 4, 5, 6, 7, 8, 9]\n",
    "test_list2 = ['이름', '사는곳', '사는동네', '좋아하는 카페', '음악', '반려묘', '취미']\n",
    "test_list3 = ['변치웅', '서울 용산구', '해방촌', '르카페', '재즈', '치즈', '요리']"
   ]
  },
  {
   "cell_type": "code",
   "execution_count": null,
   "id": "c45d3467",
   "metadata": {},
   "outputs": [],
   "source": [
    "# enumerate, zip 활용\n"
   ]
  },
  {
   "cell_type": "code",
   "execution_count": null,
   "id": "25eef50c",
   "metadata": {},
   "outputs": [],
   "source": [
    "# list comprehension\n",
    "\n",
    "# dict comprehension"
   ]
  },
  {
   "cell_type": "markdown",
   "id": "6121eb35",
   "metadata": {},
   "source": [
    "### while\n",
    "> - 코드의 무한 반복적인 실행을 위한 반복문  \n",
    "> - 조건식이 참일 경우 실행코드가 무한반복하여 실행 됨  \n",
    "> - 보통은 프로그램을 실행 대기상태로 두거나 입력값을 받는 등의 용도로 사용.(데이터 분석 사용빈도 낮음)  "
   ]
  },
  {
   "cell_type": "markdown",
   "id": "f8f93f6a",
   "metadata": {},
   "source": [
    "### while문의 구조\n",
    ">**`while` `조건식` `:`** # 조건식이 참이라면\n",
    ">>**`실행코드`** # 코드가 무한반복 실행\n",
    "        \n",
    "`while` 문의 조건식이 참일 경우 무조건 실행되게끔 짜여진 구조.  \n",
    "`while` 문을 사용 할 때에는 반복구문을 어떻게 종료 해야할지 설정해야 함."
   ]
  },
  {
   "cell_type": "code",
   "execution_count": null,
   "id": "87d41432",
   "metadata": {},
   "outputs": [],
   "source": [
    "# 기본적인 while 구문\n",
    "# for문과는 달리 조건식을 while 구문 바로 뒤에 적어줌\n",
    "# while문의 무한루프를 컨트롤 하기위한 변수 설정하고 조건식을 추가하여 코드실행을 컨트롤\n",
    "\n",
    "# 반복을 진행하다가 멈추고 싶다\n",
    "    #a += 1\n",
    "    #if a > 50:\n",
    "    #    break"
   ]
  },
  {
   "cell_type": "markdown",
   "id": "9f62a5c7",
   "metadata": {},
   "source": [
    "## 함수와 클래스"
   ]
  },
  {
   "cell_type": "markdown",
   "id": "d475a7e1",
   "metadata": {},
   "source": [
    "### 함수\n",
    "> 수학적 정의의 **함수**란?  \n",
    "$y$ = $f(x)$\n",
    "\n",
    "> 프로그래밍에서의 함수란?  \n",
    "자주 사용해야 하는 코드를 **재사용하기 위한 코드의 묶음**\n",
    "\n",
    "> 데이터과학에서의 함수란?  \n",
    "입력값을 받아 사용자가 원하는 처리를 한 후 결과값을 되돌려 받는 코드의 묶음"
   ]
  },
  {
   "cell_type": "markdown",
   "id": "ebd360f9",
   "metadata": {},
   "source": [
    "### 함수의 구조\n",
    ">**`def` `함수이름` `(파라메터 혹은 매개변수)` `:`** # 파라메터는 없어도 가능함. 함수 정의 후 `:`으로 마무리 한다.\n",
    ">>**`실행코드`**  \n",
    "**`실행코드`**  \n",
    "**`실행코드`**  \n",
    "**`return` `반환값`** # 함수에서 실행코드를 거친 결과 값 혹은 변수(반환값)을 리턴\n",
    "    \n",
    ">파라메터 혹은 매개변수 : 함수의 입력값, 혹은 함수의 작동에 영향을 줄 수 있는 값(변수)  \n",
    "파라메터는 없어도 되지만 세미콜론은 반드시 찍어준다."
   ]
  },
  {
   "cell_type": "code",
   "execution_count": null,
   "id": "3a765be8",
   "metadata": {},
   "outputs": [],
   "source": [
    "# 파라메터, return, 로컬 변수\n"
   ]
  },
  {
   "cell_type": "markdown",
   "id": "631cf1a5",
   "metadata": {},
   "source": [
    "### 지금까지 우리가 알게 모르게 사용해왔던 함수들\n",
    "`print()`  \n",
    "`int()`  \n",
    "`str()`  \n",
    "`float()`  \n",
    "`input()`  \n",
    "`list()`  \n",
    "`dict()`  \n",
    "`range()`  \n",
    "`append()`   등등등"
   ]
  },
  {
   "cell_type": "markdown",
   "id": "fbe16f3b",
   "metadata": {},
   "source": [
    "### python 예약어로 지정 된 함수를 쪼개봅시다\n",
    ">`sum()` 함수는 python 언어에 내장되어 있는 함수입니다.  \n",
    "파라메터로 iterable 변수 즉, 반복문으로 내부 인자의 루프를 돌 수 있는 변수를 받습니다.  \n",
    "그리고 그 인자의 합을 출력하는 함수입니다.  \n",
    "\n",
    "> `max()` 함수도 python 내장 함수로서 `sum()`과 같은 형식의 입력값을 받아 최대값을 반환하는 함수입니다.  \n",
    "함수를 쪼개봅시다  "
   ]
  },
  {
   "cell_type": "markdown",
   "id": "470b64e6",
   "metadata": {},
   "source": [
    "## 클래스의 구조\n",
    "> **`class`** **`[클래스명]`** **`:`** # 클래스의 선언  \n",
    "  \n",
    ">> **`def`** **`__init__`** **`(self, [파라메터])`** **`:`**  \n",
    ">> 클래스를 만들면서 입력받는 파라메터를 클래스 내에서 사용가능 하도록 초기화  \n",
    ">>> **`self.[변수명]`** = **`[파라메터]`**  \n",
    ">>> 클래스를 만들면서 입력받는 파라메터를 클래스 내에서 사용가능 하도록 초기화  \n",
    ">>> `self.x` = `x`\n",
    "\n",
    ">>**`def`** **`[함수명]`** **`([self, 파라메터])`** **`:`**  \n",
    ">>>**`[실행코드]`**  \n",
    "\n",
    "> 클래스의 선언은 함수와 달리 소괄호없이 선언한다.  \n",
    "클래스명은 단어의 첫 알파벳을 대문자로 ex) MyClass, SumTotal  \n",
    "클래스 선언이후 처음 작성하는 **`__init__`** 함수는  \n",
    "클래스가 정의되면서 입력되는 파라메터를 저장하고 재사용하기 위한 초기화함수  \n",
    "클래스 내 함수의 파라메터앞에는 항상 **`self`**를 추가해주어야 하며,  \n",
    "**`__init__`** 함수에서 설정한 변수 사용시에도 **`self`** 를 추가해준다.  \n",
    "**`self.`** 변수는 클래스 내부에서 사용되며 클래스 내부에 있는 모든 함수에 사용이 가능하다.  "
   ]
  },
  {
   "cell_type": "code",
   "execution_count": null,
   "id": "8192f665",
   "metadata": {},
   "outputs": [],
   "source": [
    "# 클래스의 형태를 눈으로 익혀봅시다.\n",
    "class Calculator: # 클래스 선언\n",
    "    \n",
    "    def __init__(self, x, y): # 초기화함수\n",
    "        self.x = x # 클래스 내 변수 초기화\n",
    "        self.y = y\n",
    "        \n",
    "    def my_sum(self): # 함수 정의\n",
    "        z = self.x + self.y\n",
    "        return z\n",
    "\n",
    "    def my_minus(self):\n",
    "        z = self.x - self.y\n",
    "        return z\n",
    "\n",
    "    def my_multiply(self):\n",
    "        z = self.x * self.y\n",
    "        return z\n",
    "\n",
    "    def my_division(self):\n",
    "        z = self.x / self.y\n",
    "        return z"
   ]
  },
  {
   "cell_type": "code",
   "execution_count": null,
   "id": "f519e56e",
   "metadata": {},
   "outputs": [],
   "source": [
    "# 이런것도 할 수 있어요~\n",
    "# 텍스트를 음성으로 변환시켜주는 패키지(모듈) 입니다.\n",
    "# 사용하기 전 패키지를 다운받는 과정이 필요합니다.\n",
    "# !pip install pyttsx3\n",
    "import pyttsx3\n",
    "engine = pyttsx3.init()\n",
    "engine.say(\"수강생여러분.\")\n",
    "engine.say(\"파이썬 공부하느라 고생하십니다.\")\n",
    "engine.say(\"파이썬으로 이런것도 가능해요\")\n",
    "engine.say(\"하지만 이해못해도 괜챦아요.\")\n",
    "engine.say(\"왜냐하면 우리는 가져다 쓸꺼니까요. 찡긋\")\n",
    "engine.runAndWait()"
   ]
  }
 ],
 "metadata": {
  "kernelspec": {
   "display_name": "Python 3 (ipykernel)",
   "language": "python",
   "name": "python3"
  },
  "language_info": {
   "codemirror_mode": {
    "name": "ipython",
    "version": 3
   },
   "file_extension": ".py",
   "mimetype": "text/x-python",
   "name": "python",
   "nbconvert_exporter": "python",
   "pygments_lexer": "ipython3",
   "version": "3.8.12"
  },
  "toc": {
   "base_numbering": 1,
   "nav_menu": {},
   "number_sections": true,
   "sideBar": true,
   "skip_h1_title": true,
   "title_cell": "Table of Contents",
   "title_sidebar": "Contents",
   "toc_cell": false,
   "toc_position": {},
   "toc_section_display": true,
   "toc_window_display": false
  },
  "varInspector": {
   "cols": {
    "lenName": 16,
    "lenType": 16,
    "lenVar": 40
   },
   "kernels_config": {
    "python": {
     "delete_cmd_postfix": "",
     "delete_cmd_prefix": "del ",
     "library": "var_list.py",
     "varRefreshCmd": "print(var_dic_list())"
    },
    "r": {
     "delete_cmd_postfix": ") ",
     "delete_cmd_prefix": "rm(",
     "library": "var_list.r",
     "varRefreshCmd": "cat(var_dic_list()) "
    }
   },
   "types_to_exclude": [
    "module",
    "function",
    "builtin_function_or_method",
    "instance",
    "_Feature"
   ],
   "window_display": false
  }
 },
 "nbformat": 4,
 "nbformat_minor": 5
}

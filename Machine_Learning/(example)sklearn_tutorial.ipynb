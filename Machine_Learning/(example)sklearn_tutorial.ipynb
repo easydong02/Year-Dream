{
  "cells": [
    {
      "cell_type": "markdown",
      "metadata": {
        "id": "view-in-github",
        "colab_type": "text"
      },
      "source": [
        "<a href=\"https://colab.research.google.com/github/easydong02/Year-Dream/blob/main/Machine_Learning/sklearn_tutorial.ipynb\" target=\"_parent\"><img src=\"https://colab.research.google.com/assets/colab-badge.svg\" alt=\"Open In Colab\"/></a>"
      ]
    },
    {
      "cell_type": "markdown",
      "id": "d90ca7ff",
      "metadata": {
        "id": "d90ca7ff"
      },
      "source": [
        "### Scikit-learn을 이용한 머신러닝 학습 가이드!\n",
        "\n",
        "- scikit-learn(sklearn)을 완전히 사용해서 end-to-end로 학습시키는 코드를 완성해봅니다!\n",
        "\n",
        "- 너무나 유명한 california house pricing 데이터를 이용하여 회귀분석 예제 코드를 만들어봅시다.\n",
        "\n",
        "\n",
        "> Data Load - Data Preprocessing - Fit - Evalution - Predict"
      ]
    },
    {
      "cell_type": "code",
      "source": [
        "import matplotlib.pyplot as plt\n",
        "import numpy as np\n",
        "import seaborn as sns\n",
        "import pandas as pd"
      ],
      "metadata": {
        "id": "bjnVfB0VhsNt"
      },
      "id": "bjnVfB0VhsNt",
      "execution_count": 7,
      "outputs": []
    },
    {
      "cell_type": "code",
      "execution_count": 1,
      "id": "e5e1add9",
      "metadata": {
        "colab": {
          "base_uri": "https://localhost:8080/"
        },
        "id": "e5e1add9",
        "outputId": "5526f188-f78f-4ad5-a4ca-fa7cda6965c9"
      },
      "outputs": [
        {
          "output_type": "stream",
          "name": "stdout",
          "text": [
            "Requirement already satisfied: sklearn in /usr/local/lib/python3.7/dist-packages (0.0)\n",
            "Requirement already satisfied: scikit-learn in /usr/local/lib/python3.7/dist-packages (from sklearn) (1.0.2)\n",
            "Requirement already satisfied: joblib>=0.11 in /usr/local/lib/python3.7/dist-packages (from scikit-learn->sklearn) (1.1.0)\n",
            "Requirement already satisfied: threadpoolctl>=2.0.0 in /usr/local/lib/python3.7/dist-packages (from scikit-learn->sklearn) (3.1.0)\n",
            "Requirement already satisfied: numpy>=1.14.6 in /usr/local/lib/python3.7/dist-packages (from scikit-learn->sklearn) (1.21.6)\n",
            "Requirement already satisfied: scipy>=1.1.0 in /usr/local/lib/python3.7/dist-packages (from scikit-learn->sklearn) (1.4.1)\n"
          ]
        }
      ],
      "source": [
        "!pip install sklearn"
      ]
    },
    {
      "cell_type": "code",
      "execution_count": 5,
      "id": "ae90ce8c",
      "metadata": {
        "colab": {
          "base_uri": "https://localhost:8080/"
        },
        "id": "ae90ce8c",
        "outputId": "bb488204-dfc3-4534-aab8-0a6d5e5a3061"
      },
      "outputs": [
        {
          "output_type": "stream",
          "name": "stdout",
          "text": [
            "(20640, 8) (20640,)\n"
          ]
        }
      ],
      "source": [
        "# Hands-on!!\n",
        "from sklearn.datasets import fetch_california_housing\n",
        "\n",
        "X = fetch_california_housing(as_frame=True).data  # X\n",
        "Y = fetch_california_housing(as_frame=True).target # Y\n",
        "print(X.shape, Y.shape)"
      ]
    },
    {
      "cell_type": "markdown",
      "source": [
        "## Data Preprocessing + EDA"
      ],
      "metadata": {
        "id": "a4n0JmFZhknP"
      },
      "id": "a4n0JmFZhknP"
    },
    {
      "cell_type": "code",
      "source": [
        "# 1. 결측치 확인\n",
        "X.info()\n",
        "\n",
        "\n",
        "# 2. dtype이 object인 column이 있는지 확인 --> categorical feature를 확인하기 위해\n",
        "\n",
        "# 3. target distribution\n",
        "plt.figure(figsize=(12,8))\n",
        "sns.histplot(Y)\n",
        "plt.show()"
      ],
      "metadata": {
        "colab": {
          "base_uri": "https://localhost:8080/",
          "height": 758
        },
        "id": "Qv1-IwTGgynt",
        "outputId": "83a2f8b4-8c2b-4095-87ad-bad14f5dead2"
      },
      "id": "Qv1-IwTGgynt",
      "execution_count": 8,
      "outputs": [
        {
          "output_type": "stream",
          "name": "stdout",
          "text": [
            "<class 'pandas.core.frame.DataFrame'>\n",
            "RangeIndex: 20640 entries, 0 to 20639\n",
            "Data columns (total 8 columns):\n",
            " #   Column      Non-Null Count  Dtype  \n",
            "---  ------      --------------  -----  \n",
            " 0   MedInc      20640 non-null  float64\n",
            " 1   HouseAge    20640 non-null  float64\n",
            " 2   AveRooms    20640 non-null  float64\n",
            " 3   AveBedrms   20640 non-null  float64\n",
            " 4   Population  20640 non-null  float64\n",
            " 5   AveOccup    20640 non-null  float64\n",
            " 6   Latitude    20640 non-null  float64\n",
            " 7   Longitude   20640 non-null  float64\n",
            "dtypes: float64(8)\n",
            "memory usage: 1.3 MB\n"
          ]
        },
        {
          "output_type": "display_data",
          "data": {
            "text/plain": [
              "<Figure size 864x576 with 1 Axes>"
            ],
            "image/png": "[encoded data removed]"
          },
          "metadata": {
            "needs_background": "light"
          }
        }
      ]
    },
    {
      "cell_type": "code",
      "source": [
        "## Train-test Split\n",
        "from sklearn.model_selection import train_test_split\n",
        "\n",
        "\n",
        "\n",
        "# train - test\n",
        "X_train,X_test,Y_train,Y_test =  train_test_split(X,Y, test_size=0.2, random_state = 42)   #random_state 는 숫자에 의미 없다.\n",
        "print(X_train.shape, X_test.shape, Y_train.shape, Y_test.shape)\n"
      ],
      "metadata": {
        "colab": {
          "base_uri": "https://localhost:8080/"
        },
        "id": "b5IiP49siep5",
        "outputId": "5fdee921-03f5-46cd-987d-f2f195dd1095"
      },
      "id": "b5IiP49siep5",
      "execution_count": 14,
      "outputs": [
        {
          "output_type": "stream",
          "name": "stdout",
          "text": [
            "(16512, 8) (4128, 8) (16512,) (4128,)\n"
          ]
        }
      ]
    },
    {
      "cell_type": "markdown",
      "source": [
        "## Training(Fit)"
      ],
      "metadata": {
        "id": "aYzqJ9BVkIua"
      },
      "id": "aYzqJ9BVkIua"
    },
    {
      "cell_type": "code",
      "source": [
        "# 1. 사용할 함수를 불러옵니다.\n",
        "from sklearn.linear_model import LinearRegression\n",
        "from lightgbm.sklearn import LGBMRegressor\n",
        "\n",
        "# 2. 사용할 함수의 객체를 생성합니다.\n",
        "reg = LinearRegression()\n",
        "reg2 = LGBMRegressor()\n",
        "\n",
        "# 3. 학습\n",
        "reg.fit(X_train,Y_train) ## Regression : supervised learning  --> parameter update.\n",
        "reg2.fit(X_train,Y_train)"
      ],
      "metadata": {
        "colab": {
          "base_uri": "https://localhost:8080/"
        },
        "id": "l5sebnRfjqll",
        "outputId": "12145d21-2afd-4002-d9ef-dcb5f5ee89aa"
      },
      "id": "l5sebnRfjqll",
      "execution_count": 24,
      "outputs": [
        {
          "output_type": "execute_result",
          "data": {
            "text/plain": [
              "LGBMRegressor()"
            ]
          },
          "metadata": {},
          "execution_count": 24
        }
      ]
    },
    {
      "cell_type": "markdown",
      "source": [
        "## Evaluation"
      ],
      "metadata": {
        "id": "HDK6osKRlzCj"
      },
      "id": "HDK6osKRlzCj"
    },
    {
      "cell_type": "code",
      "source": [
        "from numpy.ma.core import mean\n",
        "# 학습 결과를 확인(평가 지표.)\n",
        "from sklearn.metrics import mean_squared_error, r2_score\n",
        "\n",
        "pred = reg.predict(X_train)  # pred == y_hat\n",
        "pred2= reg2.predict(X_train) \n",
        "print(\"--- Linear Regression ---\")\n",
        "print(\"MSE : %.4f \" % mean_squared_error(Y_train, pred))\n",
        "print(\"R2 : %.4f \" % r2_score(Y_train, pred))\n",
        "\n",
        "print(\"\\n--- Light GBM ---\")\n",
        "print(\"MSE : %.4f \" % mean_squared_error(Y_train, pred2))\n",
        "print(\"R2 : %.4f \" % r2_score(Y_train, pred2))"
      ],
      "metadata": {
        "colab": {
          "base_uri": "https://localhost:8080/"
        },
        "id": "yXv4E059lvId",
        "outputId": "c954b5c4-0437-4ba0-b3cf-c906b1228bc2"
      },
      "id": "yXv4E059lvId",
      "execution_count": 25,
      "outputs": [
        {
          "output_type": "stream",
          "name": "stdout",
          "text": [
            "--- Linear Regression ---\n",
            "MSE : 0.5179 \n",
            "R2 : 0.6126 \n",
            "\n",
            "--- Light GBM ---\n",
            "MSE : 0.1562 \n",
            "R2 : 0.8831 \n"
          ]
        }
      ]
    },
    {
      "cell_type": "markdown",
      "source": [
        "## Prediction"
      ],
      "metadata": {
        "id": "QrSxbKP_nI1B"
      },
      "id": "QrSxbKP_nI1B"
    },
    {
      "cell_type": "code",
      "source": [
        "result = reg.predict(X_test)\n",
        "result2 = reg2.predict(X_test)\n",
        "\n",
        "print(\"--- Linear Regression ---\")\n",
        "print(\"MSE : %.4f \" % mean_squared_error(Y_test, result))\n",
        "print(\"R2 : %.4f \" % r2_score(Y_test, result))\n",
        "\n",
        "print(\"\\n--- Light GBM ---\")\n",
        "print(\"MSE : %.4f \" % mean_squared_error(Y_test, result2))\n",
        "print(\"R2 : %.4f \" % r2_score(Y_test, result2))"
      ],
      "metadata": {
        "colab": {
          "base_uri": "https://localhost:8080/"
        },
        "id": "wvmnO8KPnJ4c",
        "outputId": "1e06790f-1fb5-4eb2-c90b-5bb1a1c1fd0c"
      },
      "id": "wvmnO8KPnJ4c",
      "execution_count": 27,
      "outputs": [
        {
          "output_type": "stream",
          "name": "stdout",
          "text": [
            "--- Linear Regression ---\n",
            "MSE : 0.5559 \n",
            "R2 : 0.5758 \n",
            "\n",
            "--- Light GBM ---\n",
            "MSE : 0.2148 \n",
            "R2 : 0.8360 \n"
          ]
        }
      ]
    }
  ],
  "metadata": {
    "kernelspec": {
      "display_name": "Python 3 (ipykernel)",
      "language": "python",
      "name": "python3"
    },
    "language_info": {
      "codemirror_mode": {
        "name": "ipython",
        "version": 3
      },
      "file_extension": ".py",
      "mimetype": "text/x-python",
      "name": "python",
      "nbconvert_exporter": "python",
      "pygments_lexer": "ipython3",
      "version": "3.10.2"
    },
    "colab": {
      "name": "6. sklearn-tutorial.ipynb",
      "provenance": [],
      "collapsed_sections": [],
      "include_colab_link": true
    }
  },
  "nbformat": 4,
  "nbformat_minor": 5
}

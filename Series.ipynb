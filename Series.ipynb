{
  "cells": [
    {
      "cell_type": "markdown",
      "metadata": {
        "id": "view-in-github",
        "colab_type": "text"
      },
      "source": [
        "<a href=\"https://colab.research.google.com/github/easydong02/Year-Dream/blob/main/Series.ipynb\" target=\"_parent\"><img src=\"https://colab.research.google.com/assets/colab-badge.svg\" alt=\"Open In Colab\"/></a>"
      ]
    },
    {
      "cell_type": "code",
      "source": [
        "!pip install pybithumb"
      ],
      "metadata": {
        "colab": {
          "base_uri": "https://localhost:8080/"
        },
        "id": "kfuZpwWAJRwf",
        "outputId": "b75606b4-befc-4bc8-b774-dd78e2438aab"
      },
      "execution_count": null,
      "outputs": [
        {
          "output_type": "stream",
          "name": "stdout",
          "text": [
            "Collecting pybithumb\n",
            "  Downloading pybithumb-1.0.21-py3-none-any.whl (9.9 kB)\n",
            "Requirement already satisfied: requests in /usr/local/lib/python3.7/dist-packages (from pybithumb) (2.23.0)\n",
            "Collecting datetime\n",
            "  Downloading DateTime-4.4-py2.py3-none-any.whl (51 kB)\n",
            "\u001b[?25l\r\u001b[K     |██████▍                         | 10 kB 20.5 MB/s eta 0:00:01\r\u001b[K     |████████████▊                   | 20 kB 20.1 MB/s eta 0:00:01\r\u001b[K     |███████████████████             | 30 kB 23.0 MB/s eta 0:00:01\r\u001b[K     |█████████████████████████▍      | 40 kB 23.9 MB/s eta 0:00:01\r\u001b[K     |███████████████████████████████▊| 51 kB 25.2 MB/s eta 0:00:01\r\u001b[K     |████████████████████████████████| 51 kB 461 kB/s \n",
            "\u001b[?25hRequirement already satisfied: html5lib in /usr/local/lib/python3.7/dist-packages (from pybithumb) (1.0.1)\n",
            "Requirement already satisfied: pandas in /usr/local/lib/python3.7/dist-packages (from pybithumb) (1.3.5)\n",
            "Requirement already satisfied: bs4 in /usr/local/lib/python3.7/dist-packages (from pybithumb) (0.0.1)\n",
            "Collecting websockets\n",
            "  Downloading websockets-10.3-cp37-cp37m-manylinux_2_5_x86_64.manylinux1_x86_64.manylinux_2_12_x86_64.manylinux2010_x86_64.whl (112 kB)\n",
            "\u001b[K     |████████████████████████████████| 112 kB 55.7 MB/s \n",
            "\u001b[?25hRequirement already satisfied: beautifulsoup4 in /usr/local/lib/python3.7/dist-packages (from bs4->pybithumb) (4.6.3)\n",
            "Collecting zope.interface\n",
            "  Downloading zope.interface-5.4.0-cp37-cp37m-manylinux2010_x86_64.whl (251 kB)\n",
            "\u001b[K     |████████████████████████████████| 251 kB 41.9 MB/s \n",
            "\u001b[?25hRequirement already satisfied: pytz in /usr/local/lib/python3.7/dist-packages (from datetime->pybithumb) (2018.9)\n",
            "Requirement already satisfied: webencodings in /usr/local/lib/python3.7/dist-packages (from html5lib->pybithumb) (0.5.1)\n",
            "Requirement already satisfied: six>=1.9 in /usr/local/lib/python3.7/dist-packages (from html5lib->pybithumb) (1.15.0)\n",
            "Requirement already satisfied: python-dateutil>=2.7.3 in /usr/local/lib/python3.7/dist-packages (from pandas->pybithumb) (2.8.2)\n",
            "Requirement already satisfied: numpy>=1.17.3 in /usr/local/lib/python3.7/dist-packages (from pandas->pybithumb) (1.21.5)\n",
            "Requirement already satisfied: idna<3,>=2.5 in /usr/local/lib/python3.7/dist-packages (from requests->pybithumb) (2.10)\n",
            "Requirement already satisfied: certifi>=2017.4.17 in /usr/local/lib/python3.7/dist-packages (from requests->pybithumb) (2021.10.8)\n",
            "Requirement already satisfied: chardet<4,>=3.0.2 in /usr/local/lib/python3.7/dist-packages (from requests->pybithumb) (3.0.4)\n",
            "Requirement already satisfied: urllib3!=1.25.0,!=1.25.1,<1.26,>=1.21.1 in /usr/local/lib/python3.7/dist-packages (from requests->pybithumb) (1.24.3)\n",
            "Requirement already satisfied: setuptools in /usr/local/lib/python3.7/dist-packages (from zope.interface->datetime->pybithumb) (57.4.0)\n",
            "Installing collected packages: zope.interface, websockets, datetime, pybithumb\n",
            "Successfully installed datetime-4.4 pybithumb-1.0.21 websockets-10.3 zope.interface-5.4.0\n"
          ]
        }
      ]
    },
    {
      "cell_type": "code",
      "source": [
        "import pybithumb\n",
        "btc = pybithumb.get_candlestick(\"BTC\")\n",
        "xrp = pybithumb.get_candlestick(\"XRP\")"
      ],
      "metadata": {
        "id": "y8UqUgZdJcw_"
      },
      "execution_count": null,
      "outputs": []
    },
    {
      "cell_type": "code",
      "source": [
        "btc[\"close\"].keys"
      ],
      "metadata": {
        "colab": {
          "base_uri": "https://localhost:8080/"
        },
        "id": "6gn0NmeAKCvH",
        "outputId": "089d3839-5b6a-49c2-cd53-607fa950cdbf"
      },
      "execution_count": null,
      "outputs": [
        {
          "output_type": "execute_result",
          "data": {
            "text/plain": [
              "<bound method Series.keys of time\n",
              "2013-12-27 00:00:00      755000.0\n",
              "2013-12-28 00:00:00      750000.0\n",
              "2013-12-29 00:00:00      739000.0\n",
              "2013-12-30 00:00:00      768000.0\n",
              "2013-12-31 00:00:00      768000.0\n",
              "                          ...    \n",
              "2022-04-15 00:00:00    50379000.0\n",
              "2022-04-16 00:00:00    50605000.0\n",
              "2022-04-17 00:00:00    50321000.0\n",
              "2022-04-18 00:00:00    49418000.0\n",
              "2022-04-19 09:00:00    50869000.0\n",
              "Name: close, Length: 2946, dtype: float64>"
            ]
          },
          "metadata": {},
          "execution_count": 7
        }
      ]
    },
    {
      "cell_type": "code",
      "source": [
        "import matplotlib.pyplot as plt\n",
        "import numpy as np\n",
        "x= np.arange(len(btc['close'].values))\n",
        "\n",
        "plt.plot(x,btc[\"close\"].values)"
      ],
      "metadata": {
        "colab": {
          "base_uri": "https://localhost:8080/",
          "height": 293
        },
        "id": "H4ExENjlKMRv",
        "outputId": "f77681cd-b298-4028-87f7-e37202953aca"
      },
      "execution_count": null,
      "outputs": [
        {
          "output_type": "execute_result",
          "data": {
            "text/plain": [
              "[<matplotlib.lines.Line2D at 0x7fe7ee31ded0>]"
            ]
          },
          "metadata": {},
          "execution_count": 14
        },
        {
          "output_type": "display_data",
          "data": {
            "text/plain": [
              "<Figure size 432x288 with 1 Axes>"
            ],
            "image/png": "[encoded data removed]"
          },
          "metadata": {
            "needs_background": "light"
          }
        }
      ]
    },
    {
      "cell_type": "code",
      "source": [
        "plt.scatter(btc[\"close\"][-1000:],xrp[\"close\"][-1000:])"
      ],
      "metadata": {
        "colab": {
          "base_uri": "https://localhost:8080/",
          "height": 295
        },
        "id": "K2BKeECYK8nv",
        "outputId": "d04cad05-b0b2-4147-fc5b-3efe90aed723"
      },
      "execution_count": null,
      "outputs": [
        {
          "output_type": "execute_result",
          "data": {
            "text/plain": [
              "<matplotlib.collections.PathCollection at 0x7fe7eda21690>"
            ]
          },
          "metadata": {},
          "execution_count": 16
        },
        {
          "output_type": "display_data",
          "data": {
            "text/plain": [
              "<Figure size 432x288 with 1 Axes>"
            ],
            "image/png": "[encoded data removed]"
          },
          "metadata": {
            "needs_background": "light"
          }
        }
      ]
    },
    {
      "cell_type": "code",
      "source": [
        "btc_re = btc['close'].values[-1000:].reshape(-1 ,1)"
      ],
      "metadata": {
        "id": "xDHNLbQ9Lb1H"
      },
      "execution_count": null,
      "outputs": []
    },
    {
      "cell_type": "code",
      "source": [
        "o = np.ones( (1000,1), dtype=np.uint32)"
      ],
      "metadata": {
        "id": "owRl0D5dM2nP"
      },
      "execution_count": null,
      "outputs": []
    },
    {
      "cell_type": "code",
      "source": [
        "btc_o= np.hstack( (btc_re,o))\n",
        "btc_o.shape"
      ],
      "metadata": {
        "colab": {
          "base_uri": "https://localhost:8080/"
        },
        "id": "-VcxmyLMNUVn",
        "outputId": "e18b7727-fc37-4b3c-b447-33427eb211f2"
      },
      "execution_count": null,
      "outputs": [
        {
          "output_type": "execute_result",
          "data": {
            "text/plain": [
              "(1000, 2)"
            ]
          },
          "metadata": {},
          "execution_count": 25
        }
      ]
    },
    {
      "cell_type": "code",
      "source": [
        "xrp_re = xrp['close'].values[-1000:].reshape( -1,1)\n",
        "xrp_re.shape"
      ],
      "metadata": {
        "colab": {
          "base_uri": "https://localhost:8080/"
        },
        "id": "qcV6xnwbNp3X",
        "outputId": "0bb9f1b5-aa64-48cf-d6e0-5bade7eb68b2"
      },
      "execution_count": null,
      "outputs": [
        {
          "output_type": "execute_result",
          "data": {
            "text/plain": [
              "(1000, 1)"
            ]
          },
          "metadata": {},
          "execution_count": 28
        }
      ]
    },
    {
      "cell_type": "code",
      "source": [
        "btc_o_t = np.linalg.pinv(btc_o)\n"
      ],
      "metadata": {
        "id": "Hh3fswdLNynH"
      },
      "execution_count": null,
      "outputs": []
    },
    {
      "cell_type": "code",
      "source": [
        "result = btc_o_t @ xrp_re\n",
        "a = result[0,0]\n",
        "b = result[1,0]"
      ],
      "metadata": {
        "id": "n9eycGqDOFk_"
      },
      "execution_count": null,
      "outputs": []
    },
    {
      "cell_type": "code",
      "source": [
        "plt.scatter(btc[\"close\"][-1000:],xrp[\"close\"][-1000:])\n",
        "\n",
        "x = btc['close'].values[-1000:]\n",
        "y = a*x +b  # 회귀\n",
        "\n",
        "plt.plot(x,y,color=\"r\")"
      ],
      "metadata": {
        "colab": {
          "base_uri": "https://localhost:8080/",
          "height": 295
        },
        "id": "8vOvPiGcOi6P",
        "outputId": "64bafe08-1ee8-4f16-83c5-9ad9947bc4a9"
      },
      "execution_count": null,
      "outputs": [
        {
          "output_type": "execute_result",
          "data": {
            "text/plain": [
              "[<matplotlib.lines.Line2D at 0x7fe7ed6628d0>]"
            ]
          },
          "metadata": {},
          "execution_count": 33
        },
        {
          "output_type": "display_data",
          "data": {
            "text/plain": [
              "<Figure size 432x288 with 1 Axes>"
            ],
            "image/png": "[encoded data removed]"
          },
          "metadata": {
            "needs_background": "light"
          }
        }
      ]
    },
    {
      "cell_type": "markdown",
      "metadata": {
        "id": "CU_0m5SVI6_t"
      },
      "source": [
        "## 판다스 (Pandas) 라이브러리"
      ]
    },
    {
      "cell_type": "markdown",
      "metadata": {
        "id": "-0WKtFPzI6_u"
      },
      "source": [
        "Pandas는 데이터 분석을 위한 고수준의 자료구조와 데이터 분석 도구를 제공합니다.  \n",
        "- 여기서 고수준이란 사용자가 쉽게 데이터를 제어하고 시각화 할 수 있는 메서드를 의미합니다.\n",
        "\n",
        "판다스는 데이터 분석분야 에서 필수적으로 사용되는 중요한 모듈입니다. "
      ]
    },
    {
      "cell_type": "markdown",
      "metadata": {
        "id": "05e1Q4mJI6_v"
      },
      "source": [
        "<img src=\"https://i.ibb.co/Hh85f7j/series-0.png\" width=\"600\" height=\"400\" style=\"float:left\" />"
      ]
    },
    {
      "cell_type": "markdown",
      "metadata": {
        "id": "y1ec7x2fI6_x"
      },
      "source": [
        "그림출처  \n",
        "https://plot.ly/pandas/2D-Histogram/  \n",
        "https://plot.ly/pandas/histograms/"
      ]
    },
    {
      "cell_type": "markdown",
      "metadata": {
        "id": "l_cPON3XI6_x"
      },
      "source": [
        "판다스에는 <b>시리즈(Series)</b>와 <b>데이터 프레임 (DataFrame)</b> 두 개의 자료구조를 사용합니다. \n",
        "- 1차원 데이터를 관리하는 `Series`\n",
        "- 2차원 데이터를 관리하는 `DataFrame`"
      ]
    },
    {
      "cell_type": "markdown",
      "metadata": {
        "id": "J0ziRrNzI6_y"
      },
      "source": [
        "파이썬의 기본자료구조(리스트, 튜플, 딕셔너리)의 부족한 부분을 보완해 보다 고수준으로 만든 자료구조로 numpy의 `ndarray`가 있었습니다.  \n",
        "ndarray는 수치 연산에 특화돼 있으며, 브로드캐스팅 기능으로 반복문을 사용하지 않고 `ndarray`의 모든 데이터에 연산 적용이 가능했었습니다.  판다스의 자료구조는 `ndarray`를 기반으로 행과 열에 이름을 붙여 가독성을 높이고 보다 범용적인 목적의 데이터를 관리해줍니다."
      ]
    },
    {
      "cell_type": "markdown",
      "metadata": {
        "id": "VKQFsoNZI6_y"
      },
      "source": [
        "다양한 방식으로 import 할 수 있는데, 다음 세 가지 형태를 빈번하게 사용합니다. "
      ]
    },
    {
      "cell_type": "code",
      "execution_count": null,
      "metadata": {
        "id": "dfS5UelhI6_6"
      },
      "outputs": [],
      "source": [
        "import pandas as pd\n",
        "from pandas import Series\n",
        "from pandas import DataFrame"
      ]
    },
    {
      "cell_type": "markdown",
      "metadata": {
        "id": "9L3VKfT9I6_6"
      },
      "source": [
        "### 시리즈 객체"
      ]
    },
    {
      "cell_type": "markdown",
      "metadata": {
        "id": "bBpBWJndI6_8"
      },
      "source": [
        "리스트를 사용해서 시리즈 객체로 업그레이드 할 수 있습니다.  \n",
        "정확히 이야기하면 시리즈 클래스는 생성자로 하나의 리스트를 입력받는 겁니다.  "
      ]
    },
    {
      "cell_type": "code",
      "execution_count": null,
      "metadata": {
        "colab": {
          "base_uri": "https://localhost:8080/"
        },
        "id": "tvCr0r-uI6_8",
        "outputId": "a7070fb2-0e43-4e34-daae-c9ba7d83710d"
      },
      "outputs": [
        {
          "output_type": "stream",
          "name": "stdout",
          "text": [
            "0    가\n",
            "1    나\n",
            "2    다\n",
            "dtype: object\n"
          ]
        }
      ],
      "source": [
        "from pandas import Series\n",
        "\n",
        "\n",
        "data = np.array([\"가\", \"나\", \"다\"])\n",
        "s = Series(data)\n",
        "print(s)"
      ]
    },
    {
      "cell_type": "markdown",
      "metadata": {
        "id": "F6lBjEAfI6_8"
      },
      "source": [
        "시리즈 객체는 자동으로 0 부터 시작하는  인덱스가 부여되며, 시리즈 객체를 출력해 보면 인덱스와 맵핑된 값이 한 로우에 표시됩니다. 또한 내부적으로 0부터 시작하는 행번호를 아래 그림과 같이 부여합니다. (행 번호의 쓰임새는 뒤에서 설명하겠습니다.) 즉, 시리즈는 입력된 데이터에 대해 행번호와 인덱스를 부여하고 출력하면 인덱스와 데이터만 표시되는 겁니다. "
      ]
    },
    {
      "cell_type": "markdown",
      "metadata": {
        "id": "f5nZJAJVI6_9"
      },
      "source": [
        "<img src=\"https://i.ibb.co/Xy8Ph47/series-1.png\" width=\"500\" style=\"float:left\" />"
      ]
    },
    {
      "cell_type": "markdown",
      "metadata": {
        "id": "a3H19RQbI6_9"
      },
      "source": [
        "시리즈 객체를 생성할 때 인덱스 값을 추가할 수 있습니다.  \n",
        "- index 파라미터에 리스트 형태로 각 값에 대응되는 인덱스를 입력합니다.   \n",
        "- 반드시 입력된 데이터의 개수와 인덱스의 개수가 동일해야 합니다. \n"
      ]
    },
    {
      "cell_type": "code",
      "execution_count": null,
      "metadata": {
        "colab": {
          "base_uri": "https://localhost:8080/"
        },
        "id": "l91o5cP9I6_-",
        "outputId": "8c17e18f-4b4b-410f-8323-09cead2bbbea"
      },
      "outputs": [
        {
          "output_type": "stream",
          "name": "stdout",
          "text": [
            "메로나     1000\n",
            "구구콘     2000\n",
            "하겐다즈    3000\n",
            "dtype: int64\n",
            "1000\n"
          ]
        }
      ],
      "source": [
        "data = [1000, 2000, 3000]\n",
        "index = ['메로나', '구구콘', '하겐다즈']\n",
        "s = Series(data=data, index=index)\n",
        "print(s)\n",
        "\n",
        "print(s['메로나'])"
      ]
    },
    {
      "cell_type": "markdown",
      "metadata": {
        "id": "YD34d3ukI6__"
      },
      "source": [
        "시리즈는 0부터 시작하는 행 번호를 부여하고, 인덱스는 사용자가 입력한 문자열을 사용합니다. "
      ]
    },
    {
      "cell_type": "markdown",
      "metadata": {
        "id": "GVy9WeMMI6__"
      },
      "source": [
        "<img src=\"https://i.ibb.co/FHfknW8/series-2.png\" width=\"500\" style=\"float:left\" />"
      ]
    },
    {
      "cell_type": "markdown",
      "metadata": {
        "id": "2YZK4zRGI7AA"
      },
      "source": [
        "시리즈 객체에는 다양한 속성 (인스턴스 변수)가 있습니다. "
      ]
    },
    {
      "cell_type": "code",
      "execution_count": null,
      "metadata": {
        "colab": {
          "base_uri": "https://localhost:8080/"
        },
        "id": "j7gsmoD0I7AA",
        "outputId": "e713ab39-01c5-4a56-8bf2-83a970d4f5fe"
      },
      "outputs": [
        {
          "output_type": "stream",
          "name": "stdout",
          "text": [
            "Index(['메로나', '구구콘', '하겐다즈'], dtype='object')\n",
            "[1000 2000 3000]\n",
            "int64\n"
          ]
        }
      ],
      "source": [
        "print(s.index)\n",
        "print(s.values)\n",
        "print(s.dtype)"
      ]
    },
    {
      "cell_type": "markdown",
      "metadata": {
        "id": "XHT9oP3TI7AA"
      },
      "source": [
        "`values`에는 시리즈의 데이터가 `ndarray`로 저장돼 있습니다. "
      ]
    },
    {
      "cell_type": "code",
      "execution_count": null,
      "metadata": {
        "id": "5hZujBv9I7AA"
      },
      "outputs": [],
      "source": [
        ""
      ]
    },
    {
      "cell_type": "markdown",
      "metadata": {
        "id": "7ueDG7lRI7AA"
      },
      "source": [
        "Q. 시가와 고가를 시리즈로 구성하라. "
      ]
    },
    {
      "cell_type": "markdown",
      "metadata": {
        "id": "iQQZF8anI7AA"
      },
      "source": [
        "<img src=\"https://i.ibb.co/DQzv2sc/series-4.png\" width=\"800\" style=\"float:left\" />"
      ]
    },
    {
      "cell_type": "code",
      "execution_count": null,
      "metadata": {
        "colab": {
          "base_uri": "https://localhost:8080/"
        },
        "id": "Qk1OrE04I7AB",
        "outputId": "2f152337-8e6b-46f0-8141-4b823f728e61"
      },
      "outputs": [
        {
          "output_type": "execute_result",
          "data": {
            "text/plain": [
              "2019.01    100\n",
              "2019.02    200\n",
              "dtype: int64"
            ]
          },
          "metadata": {},
          "execution_count": 41
        }
      ],
      "source": [
        "시가 = Series(data=[100,200], index=[\"2019.01\",\"2019.02\"])\n",
        "시가 "
      ]
    },
    {
      "cell_type": "markdown",
      "metadata": {
        "id": "Awx5FYAWI7AB"
      },
      "source": [
        "### 시리즈의 인덱싱과 슬라이싱\n",
        "시리즈의 인덱싱 방법은 세 가지 방법을 사용할 수 있습니다. \n",
        "- `iloc`\n",
        "- `loc`\n",
        "- `[ ]`"
      ]
    },
    {
      "cell_type": "markdown",
      "metadata": {
        "id": "xwAWOrnZI7AB"
      },
      "source": [
        "iloc는 \"행 번호\"를 사용해서 하나의 데이터를 선택합니다. "
      ]
    },
    {
      "cell_type": "code",
      "execution_count": null,
      "metadata": {
        "colab": {
          "base_uri": "https://localhost:8080/"
        },
        "id": "436YDjt8I7AB",
        "outputId": "37fd03f4-753d-4d2c-9030-cffed2555eba"
      },
      "outputs": [
        {
          "output_type": "stream",
          "name": "stdout",
          "text": [
            "1000\n"
          ]
        },
        {
          "output_type": "execute_result",
          "data": {
            "text/plain": [
              "1000"
            ]
          },
          "metadata": {},
          "execution_count": 43
        }
      ],
      "source": [
        "data = [1000, 2000, 3000]\n",
        "index = ['메로나', '구구콘', '하겐다즈']\n",
        "s = Series(data, index=index)\n",
        "\n",
        "print(s.loc['메로나']) # 만든 인덱스\n",
        "print(s.iloc[  0   ])  # 디폴트 인덱스\n",
        "# 인덱싱\n"
      ]
    },
    {
      "cell_type": "markdown",
      "metadata": {
        "id": "Sw3sKaZAI7AB"
      },
      "source": [
        "loc는 \"인덱스\"를 사용해서 하나의 데이터를 선택합니다."
      ]
    },
    {
      "cell_type": "code",
      "execution_count": null,
      "metadata": {
        "id": "TkkoWVbiI7AB"
      },
      "outputs": [],
      "source": [
        ""
      ]
    },
    {
      "cell_type": "markdown",
      "metadata": {
        "id": "bgHRo44yI7AC"
      },
      "source": [
        "iloc와 loc를 사용하지 않고 대괄호 `[ ]`를 바로 사용해도, 똑똑한 시리즈 객체는 적절한 값을 반환합니다."
      ]
    },
    {
      "cell_type": "code",
      "execution_count": null,
      "metadata": {
        "id": "--aphi0ZI7AC"
      },
      "outputs": [],
      "source": [
        ""
      ]
    },
    {
      "cell_type": "markdown",
      "metadata": {
        "id": "7_A7ZZSYI7AC"
      },
      "source": [
        "리스트의 정수 인덱싱과 딕셔너리의 킷값을 사용한 인덱싱을 섞어 논것과 유사합니다. "
      ]
    },
    {
      "cell_type": "markdown",
      "metadata": {
        "id": "Ml7KrTySI7AC"
      },
      "source": [
        "----\n",
        "하나 이상의 데이터를 가져오는 슬라이싱도 사용할 수 있습니다. 이 때에도 `iloc`와 `loc` 기능을 사용합니다. "
      ]
    },
    {
      "cell_type": "code",
      "execution_count": null,
      "metadata": {
        "colab": {
          "base_uri": "https://localhost:8080/"
        },
        "id": "vCH-XQ--I7AD",
        "outputId": "583f4595-bedf-4ad8-b19d-e94d8be2a0f9"
      },
      "outputs": [
        {
          "output_type": "execute_result",
          "data": {
            "text/plain": [
              "메로나    1000\n",
              "구구콘    2000\n",
              "dtype: int64"
            ]
          },
          "metadata": {},
          "execution_count": 45
        }
      ],
      "source": [
        "# iloc\n",
        "s.iloc[0 :2]"
      ]
    },
    {
      "cell_type": "code",
      "execution_count": null,
      "metadata": {
        "colab": {
          "base_uri": "https://localhost:8080/"
        },
        "id": "HB1_RoWfI7AE",
        "outputId": "0ede6948-f494-4616-f850-9dd3ac86296e"
      },
      "outputs": [
        {
          "output_type": "execute_result",
          "data": {
            "text/plain": [
              "메로나     1000\n",
              "구구콘     2000\n",
              "하겐다즈    3000\n",
              "dtype: int64"
            ]
          },
          "metadata": {},
          "execution_count": 46
        }
      ],
      "source": [
        "# loc\n",
        "s.loc[\"메로나\":\"하겐다즈\"]  #직접만든 인덱싱은 end point도 포함"
      ]
    },
    {
      "cell_type": "markdown",
      "metadata": {
        "id": "PqKjrcs8I7AE"
      },
      "source": [
        "시리즈는 인접하지 않은 불연속적인 데이터를 슬라이싱할 수있습니다. "
      ]
    },
    {
      "cell_type": "code",
      "execution_count": null,
      "metadata": {
        "colab": {
          "base_uri": "https://localhost:8080/"
        },
        "id": "CQQwok0MI7AE",
        "outputId": "2ee57c80-3ff7-4a7e-941f-5157ceb5850f"
      },
      "outputs": [
        {
          "output_type": "execute_result",
          "data": {
            "text/plain": [
              "메로나    1000\n",
              "구구콘    2000\n",
              "dtype: int64"
            ]
          },
          "metadata": {},
          "execution_count": 47
        }
      ],
      "source": [
        "s.loc [[\"메로나\",'구구콘']]"
      ]
    },
    {
      "cell_type": "markdown",
      "metadata": {
        "id": "Cztc5DaHI7AE"
      },
      "source": [
        "이러한 코드는 간단하기 때문에 한 줄에 짧게 표현할 수도 있습니다. "
      ]
    },
    {
      "cell_type": "code",
      "execution_count": null,
      "metadata": {
        "id": "X6_EsY6bI7AF"
      },
      "outputs": [],
      "source": [
        ""
      ]
    },
    {
      "cell_type": "markdown",
      "metadata": {
        "id": "EHltmsLrI7AF"
      },
      "source": [
        "### 시리즈의 수정\n",
        "딕셔너리의 값을 추가(수정)했던 것과 같이 시리즈도 `iloc` 혹은 `loc`로 데이터에 접근해서 값을 대입하면 됩니다. 다음과 같이 기존에 값이 존재하지 않는다면 데이터가 추가됩니다. "
      ]
    },
    {
      "cell_type": "code",
      "execution_count": null,
      "metadata": {
        "colab": {
          "base_uri": "https://localhost:8080/"
        },
        "id": "oOvFEV5mI7AF",
        "outputId": "0e945e95-07ff-4ab4-a4f0-eae11a2e68ed"
      },
      "outputs": [
        {
          "output_type": "stream",
          "name": "stdout",
          "text": [
            "메로나     1000\n",
            "구구콘     2000\n",
            "하겐다즈    3000\n",
            "dtype: int64\n",
            "메로나     1000\n",
            "구구콘     2000\n",
            "하겐다즈    3000\n",
            "비비빅      500\n",
            "dtype: int64\n"
          ]
        }
      ],
      "source": [
        "data = [1000, 2000, 3000]\n",
        "index = ['메로나', '구구콘', '하겐다즈']\n",
        "s = Series(data, index=index)\n",
        "print(s)\n",
        "s.loc['비비빅'] = 500\n",
        "print(s)"
      ]
    },
    {
      "cell_type": "markdown",
      "metadata": {
        "id": "tM5JDXjnI7AF"
      },
      "source": [
        "데이터가 존재한다면 값을 업데이트 합니다. "
      ]
    },
    {
      "cell_type": "code",
      "execution_count": null,
      "metadata": {
        "colab": {
          "base_uri": "https://localhost:8080/"
        },
        "id": "B7mqakC2I7AF",
        "outputId": "7deccaec-e772-4831-ee31-5b91354d761c"
      },
      "outputs": [
        {
          "output_type": "stream",
          "name": "stdout",
          "text": [
            "메로나     1000\n",
            "구구콘     2000\n",
            "하겐다즈    3000\n",
            "비비빅      400\n",
            "dtype: int64\n"
          ]
        }
      ],
      "source": [
        "s.loc['비비빅'] = 400\n",
        "print(s)"
      ]
    },
    {
      "cell_type": "markdown",
      "metadata": {
        "id": "rY59nb_GI7AF"
      },
      "source": [
        "데이터의 삭제는 `drop` 메서드를 사용합니다. `drop` 메서드는 삭제된 결과를 반환하며, 원본 데이터는 수정하지 않습니다. 이는 실수로 데이터를 삭제할 수 있는 위험을 줄이기 위함입니다. "
      ]
    },
    {
      "cell_type": "code",
      "execution_count": null,
      "metadata": {
        "colab": {
          "base_uri": "https://localhost:8080/"
        },
        "id": "qJtJRc1HI7AF",
        "outputId": "aa69b8be-28a6-44ce-e280-8370e2455bf9"
      },
      "outputs": [
        {
          "output_type": "stream",
          "name": "stdout",
          "text": [
            "메로나     1000\n",
            "구구콘     2000\n",
            "하겐다즈    3000\n",
            "dtype: int64\n"
          ]
        }
      ],
      "source": [
        "s.drop(\"비비빅\",inplace=True)\n",
        "\n",
        "print(s)\n"
      ]
    },
    {
      "cell_type": "markdown",
      "metadata": {
        "id": "LsJFbWahI7AF"
      },
      "source": [
        "시리즈의 슬라이싱을 응용해서 데이터를 제거할 수도 있습니다. "
      ]
    },
    {
      "cell_type": "code",
      "execution_count": null,
      "metadata": {
        "colab": {
          "base_uri": "https://localhost:8080/"
        },
        "id": "UoMzLpj0I7AG",
        "outputId": "492ed94e-cd2c-4a1c-80b6-7bf8680c420a"
      },
      "outputs": [
        {
          "output_type": "stream",
          "name": "stdout",
          "text": [
            "메로나     1000\n",
            "구구콘     2000\n",
            "하겐다즈    3000\n",
            "dtype: int64\n"
          ]
        }
      ],
      "source": [
        "s = s.iloc[:-1]\n",
        "print(s)"
      ]
    },
    {
      "cell_type": "markdown",
      "metadata": {
        "id": "Vfxo2pH3I7AG"
      },
      "source": [
        "### 시리즈의 연산\n",
        "판다스는 `ndarra`를 기반으로 만들어졌기 때문에 `브로드캐스팅`을 모두 지원합니다. \n",
        "연산이 모든 데이터에 적용되는 겁니다. "
      ]
    },
    {
      "cell_type": "code",
      "execution_count": null,
      "metadata": {
        "id": "04QL-JrwI7AG"
      },
      "outputs": [],
      "source": [
        "from pandas import Series\n",
        "\n",
        "s1 = Series([10, 20, 30])\n"
      ]
    },
    {
      "cell_type": "markdown",
      "metadata": {
        "id": "1SppJMcNI7AG"
      },
      "source": [
        "시리즈는 `ndarray`와 같이 같은 객체간의 연산을 지원합니다.  "
      ]
    },
    {
      "cell_type": "code",
      "execution_count": null,
      "metadata": {
        "id": "uIRnXxQ3I7AH"
      },
      "outputs": [],
      "source": [
        "s2 = Series([20, 30, 40])\n",
        "\n"
      ]
    },
    {
      "cell_type": "markdown",
      "metadata": {
        "id": "XK04Kor1I7AH"
      },
      "source": [
        "시리즈 객체 간의 연산을 할 때는 인덱스가 같아야 합니다. "
      ]
    },
    {
      "cell_type": "code",
      "execution_count": null,
      "metadata": {
        "colab": {
          "base_uri": "https://localhost:8080/"
        },
        "id": "hjRNtn20I7AH",
        "outputId": "c8389d73-a7de-47cd-8bbd-2daf5af2ac6d"
      },
      "outputs": [
        {
          "output_type": "execute_result",
          "data": {
            "text/plain": [
              "가   NaN\n",
              "나   NaN\n",
              "다   NaN\n",
              "0   NaN\n",
              "1   NaN\n",
              "2   NaN\n",
              "dtype: float64"
            ]
          },
          "metadata": {},
          "execution_count": 59
        }
      ],
      "source": [
        "s1 = Series([10, 20, 30], index = [\"가\", \"나\", \"다\"])\n",
        "s2 = Series([20, 30, 40])\n",
        "\n",
        "s1+s2  # NaN이 나온 이유: index가 맞지 않아서."
      ]
    },
    {
      "cell_type": "code",
      "source": [
        "s1 = Series([10, 20, 30], index = [\"가\", \"나\", \"다\"])\n",
        "s2 = Series([10, 20, 30], index = [\"다\", \"나\", \"가\"])\n",
        "\n",
        " \n",
        "print(s1+s2)  # 순서가 달라도 인덱스를 찾아서 연산한다. 하지만 다른 인덱스가 추가되면 짝을 찾을 수 없으므로 NaN이 출력된다."
      ],
      "metadata": {
        "colab": {
          "base_uri": "https://localhost:8080/"
        },
        "id": "KGxf1AH0ZOKZ",
        "outputId": "0f305a4a-d028-44f5-ed89-4b8755cc54f2"
      },
      "execution_count": null,
      "outputs": [
        {
          "output_type": "stream",
          "name": "stdout",
          "text": [
            "가    40\n",
            "나    40\n",
            "다    40\n",
            "dtype: int64\n"
          ]
        }
      ]
    },
    {
      "cell_type": "code",
      "source": [
        "print(type(np.nan))  # numpy의 nan은 float타입이다.\n",
        "\n",
        "print(np.nan +4)"
      ],
      "metadata": {
        "colab": {
          "base_uri": "https://localhost:8080/"
        },
        "id": "h07WZqgHZ6Cp",
        "outputId": "87ebd7b2-d31d-4a1e-f312-9a94d4001c38"
      },
      "execution_count": null,
      "outputs": [
        {
          "output_type": "stream",
          "name": "stdout",
          "text": [
            "<class 'float'>\n",
            "nan\n"
          ]
        }
      ]
    },
    {
      "cell_type": "markdown",
      "metadata": {
        "id": "2WM4EhAlI7AI"
      },
      "source": [
        "Pandas는 결측치를 표현하기 위해 np.nan 값을 사용합니다.   \n",
        "NaN이란 비어있는 (존재하지 않는) 값입니다."
      ]
    },
    {
      "cell_type": "markdown",
      "metadata": {
        "id": "Y4W9yRS7I7AI"
      },
      "source": [
        "### 시리즈의 비교연산\n",
        "모든 데이터에 비교 연산이 적용되고 boolean형 데이터가 저장된 하나의 시리즈가 반환됩니다."
      ]
    },
    {
      "cell_type": "code",
      "execution_count": null,
      "metadata": {
        "colab": {
          "base_uri": "https://localhost:8080/"
        },
        "id": "J2QOHT_lI7AI",
        "outputId": "91707a8a-b068-4633-ff1d-4be095b7a96b"
      },
      "outputs": [
        {
          "output_type": "stream",
          "name": "stdout",
          "text": [
            "가    False\n",
            "나    False\n",
            "다     True\n",
            "dtype: bool\n"
          ]
        }
      ],
      "source": [
        "s1 = Series([10, 20, 30], index = [\"가\", \"나\", \"다\"])\n",
        "print(s1 > 20)"
      ]
    },
    {
      "cell_type": "markdown",
      "metadata": {
        "id": "Jdc4ZsMiI7AI"
      },
      "source": [
        "참/거짓이 저장된 조건 시리즈를 얻어 왔다면 값을 필터링 할 수 있겠죠?"
      ]
    },
    {
      "cell_type": "code",
      "execution_count": null,
      "metadata": {
        "colab": {
          "base_uri": "https://localhost:8080/"
        },
        "id": "pmAMCKZGI7AJ",
        "outputId": "5fea7403-878b-4e9d-bffa-e14260050d08"
      },
      "outputs": [
        {
          "output_type": "execute_result",
          "data": {
            "text/plain": [
              "다    30\n",
              "dtype: int64"
            ]
          },
          "metadata": {},
          "execution_count": 64
        }
      ],
      "source": [
        "s1[s1>20]"
      ]
    },
    {
      "cell_type": "code",
      "source": [
        ""
      ],
      "metadata": {
        "id": "-LGYHk00bIGh"
      },
      "execution_count": null,
      "outputs": []
    },
    {
      "cell_type": "markdown",
      "metadata": {
        "id": "UiNMFdB7I7AJ"
      },
      "source": [
        "Q. LG전자의 종가 데이터가 시리즈로 저장돼 있다. LG전자의 주가가 85000원 보다 작을 때의 일자를 출력하라."
      ]
    },
    {
      "cell_type": "code",
      "execution_count": null,
      "metadata": {
        "colab": {
          "base_uri": "https://localhost:8080/"
        },
        "id": "RyyrLYI7I7AJ",
        "outputId": "314e7a14-3d7f-411e-9451-b5ed4d8f3733"
      },
      "outputs": [
        {
          "output_type": "stream",
          "name": "stdout",
          "text": [
            "Index(['05/28', '05/30', '05/31'], dtype='object')\n",
            "Index(['05/28', '05/30', '05/31'], dtype='object')\n"
          ]
        }
      ],
      "source": [
        "lge = Series([93000, 82400, 99100, 81000, 72300], index = [\"05/27\", \"05/28\", \"05/29\", \"05/30\", \"05/31\"])\n",
        "\n",
        "print(lge.index[ lge.values<85000])\n",
        "print(lge[lge<85000].index)"
      ]
    },
    {
      "cell_type": "code",
      "source": [
        "lge.loc[lge<85000]"
      ],
      "metadata": {
        "colab": {
          "base_uri": "https://localhost:8080/"
        },
        "id": "w4EpVDtLcNsB",
        "outputId": "c8d6239a-959e-455f-dc90-364a892a0c57"
      },
      "execution_count": null,
      "outputs": [
        {
          "output_type": "execute_result",
          "data": {
            "text/plain": [
              "05/28    82400\n",
              "05/30    81000\n",
              "05/31    72300\n",
              "dtype: int64"
            ]
          },
          "metadata": {},
          "execution_count": 82
        }
      ]
    },
    {
      "cell_type": "code",
      "source": [
        ""
      ],
      "metadata": {
        "colab": {
          "base_uri": "https://localhost:8080/"
        },
        "id": "yTA_sN3Kb1IA",
        "outputId": "4f70ef37-5fb2-4994-f401-d4eab0f9ad60"
      },
      "execution_count": null,
      "outputs": [
        {
          "output_type": "execute_result",
          "data": {
            "text/plain": [
              "05/28    82400\n",
              "05/30    81000\n",
              "05/31    72300\n",
              "dtype: int64"
            ]
          },
          "metadata": {},
          "execution_count": 72
        }
      ]
    },
    {
      "cell_type": "markdown",
      "metadata": {
        "id": "LCAjnsOnI7AK"
      },
      "source": [
        "Q. LG전자의 종가가 85000원 이하로 떨어진 횟수는?"
      ]
    },
    {
      "cell_type": "code",
      "execution_count": null,
      "metadata": {
        "colab": {
          "base_uri": "https://localhost:8080/"
        },
        "id": "5awycZM7I7AK",
        "outputId": "a4f7adad-f819-41dc-c55c-b9e491217e8f"
      },
      "outputs": [
        {
          "output_type": "execute_result",
          "data": {
            "text/plain": [
              "3"
            ]
          },
          "metadata": {},
          "execution_count": 83
        }
      ],
      "source": [
        "len(lge.loc[lge<85000])\n"
      ]
    }
  ],
  "metadata": {
    "kernelspec": {
      "display_name": "Python 3",
      "language": "python",
      "name": "python3"
    },
    "language_info": {
      "codemirror_mode": {
        "name": "ipython",
        "version": 3
      },
      "file_extension": ".py",
      "mimetype": "text/x-python",
      "name": "python",
      "nbconvert_exporter": "python",
      "pygments_lexer": "ipython3",
      "version": "3.8.8"
    },
    "toc": {
      "base_numbering": 1,
      "nav_menu": {},
      "number_sections": true,
      "sideBar": true,
      "skip_h1_title": false,
      "title_cell": "Table of Contents",
      "title_sidebar": "Contents",
      "toc_cell": false,
      "toc_position": {},
      "toc_section_display": true,
      "toc_window_display": false
    },
    "colab": {
      "name": "Series.ipynb",
      "provenance": [],
      "collapsed_sections": [],
      "include_colab_link": true
    }
  },
  "nbformat": 4,
  "nbformat_minor": 0
}